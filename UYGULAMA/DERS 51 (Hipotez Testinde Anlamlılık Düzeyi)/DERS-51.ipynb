{
 "cells": [
  {
   "cell_type": "code",
   "execution_count": null,
   "id": "0330564f",
   "metadata": {},
   "outputs": [],
   "source": [
    "from scipy import stats"
   ]
  },
  {
   "cell_type": "code",
   "execution_count": null,
   "id": "431d6592",
   "metadata": {},
   "outputs": [],
   "source": [
    "#Elimde bir tartı var ve bu tartının %99 oranında doğru sonuç verdiğini düşünüyorum, bu yüzden bir deneme yapmak istiyorum\n",
    "#Yapacağım denemede 100 defa çekersem eğer 100 de 100'lük bir başarı oranım nedir?"
   ]
  },
  {
   "cell_type": "code",
   "execution_count": null,
   "id": "f94345b5",
   "metadata": {},
   "outputs": [],
   "source": [
    "n = 100\n",
    "p = 0.99\n",
    "\n",
    "dagilim = stats.binom(n,p).pmf(k=100)\n",
    "dagilim1 = stats.binom(n,p).pmf(k=99)\n",
    "dagilim2 = stats.binom(n,p).pmf(k=98)\n",
    "dagilim3 = stats.binom(n,p).pmf(k=97)\n",
    "dagilim4 = stats.binom(n,p).pmf(k=96)\n",
    "dagilim5 = stats.binom(n,p).pmf(k=95)\n",
    "print(dagilim*100)\n",
    "print(dagilim1*100)\n",
    "print(dagilim2*100)\n",
    "print(dagilim3*100)\n",
    "print(dagilim4*100)\n",
    "print(dagilim5*100)\n",
    "#Bu ölçtüğüm verilere göre, 100 tane üründen 95 tanesi doğru olma olasılığı %0.3"
   ]
  },
  {
   "cell_type": "code",
   "execution_count": null,
   "id": "f707667c",
   "metadata": {},
   "outputs": [],
   "source": [
    "#Bir terazi satıcısı geldi ve dedi ki, 'Kardeşim, bak, bu yeni kalite her şeyiyle harika bir şey, \n",
    "#%99 doğruluk oranı var, kesin diyorum sana,' dedi. Ben de ürünü numune olarak 1 tane aldım ve 100 tane ürünü test ettim\n",
    "#H0: M = %99. Adamın dediğini yalanlamaya çalıştığım için H0 %99\n",
    "#H1: M ≠ %99. Adamın dediğini yalanlamaya çalışmazsam %99'a eşit değil derim\n",
    "\n",
    "\n",
    "#Ardından 100 üründen 95 tanesinin doğru ölçtüğü sonucuna vardım ve düşündüm, 'Ulan, ben tüm ürünleri indirip ölçsem belki\n",
    "#%99 doğru ölçecek, ama benim öyle bir zamanım yok,' dedim. Ben de yukarıda bunun 95 tanesini doğru ölçme ihtimaline\n",
    "#bakıyorum, o ihtimal de %0.3 çıkıyor. Ben de ürünü satın almaktan vazgeçiyorum"
   ]
  }
 ],
 "metadata": {
  "kernelspec": {
   "display_name": "Python 3 (ipykernel)",
   "language": "python",
   "name": "python3"
  },
  "language_info": {
   "codemirror_mode": {
    "name": "ipython",
    "version": 3
   },
   "file_extension": ".py",
   "mimetype": "text/x-python",
   "name": "python",
   "nbconvert_exporter": "python",
   "pygments_lexer": "ipython3",
   "version": "3.11.4"
  }
 },
 "nbformat": 4,
 "nbformat_minor": 5
}
