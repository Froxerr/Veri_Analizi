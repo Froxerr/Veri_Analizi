{
 "cells": [
  {
   "cell_type": "code",
   "execution_count": null,
   "id": "c5f346ca",
   "metadata": {},
   "outputs": [],
   "source": [
    "#Kadın erkek tarzı kategorik değişkenleri algoritmanın anlayabileceği bir biçimde nasıl ifade edebiliriz, \n",
    "#bu konu üzerinde çalışıyoruz."
   ]
  },
  {
   "cell_type": "code",
   "execution_count": null,
   "id": "345a4f67",
   "metadata": {},
   "outputs": [],
   "source": [
    "import pandas as pd\n",
    "import numpy as np\n",
    "from sklearn import preprocessing as pr\n",
    "import seaborn as sns"
   ]
  },
  {
   "cell_type": "code",
   "execution_count": null,
   "id": "5edd3ef9",
   "metadata": {},
   "outputs": [],
   "source": [
    "df = sns.load_dataset(\"titanic\")\n",
    "df.head()#Cinsiyet üzerinden bir örnek yapacağız"
   ]
  },
  {
   "cell_type": "code",
   "execution_count": null,
   "id": "2204ebdf",
   "metadata": {},
   "outputs": [],
   "source": [
    "label = pr.LabelEncoder().fit_transform(df[\"sex\"])\n",
    "#print(label) # İki grup var: 1. Erkekler için 0, 2. Kadınlar için 1 değerini atıyoruz\n",
    "#Bunu bizim array değil, bir veri çerçevesine (dataframe) çevirmemiz gerekiyor.\n",
    "df2 = pd.DataFrame(label) #Bunu ana tabloya atıyoruz\n",
    "df[\"kodcinsiyet\"] = df2\n",
    "df[[\"sex\",\"kodcinsiyet\"]].head()"
   ]
  },
  {
   "cell_type": "code",
   "execution_count": null,
   "id": "c8835ba0",
   "metadata": {},
   "outputs": [],
   "source": [
    "df = sns.load_dataset(\"tips\")\n",
    "df.head()#Günler üzerinden bir örnek yapacağız"
   ]
  },
  {
   "cell_type": "code",
   "execution_count": null,
   "id": "23f01c75",
   "metadata": {},
   "outputs": [],
   "source": [
    "df[\"kodgun\"] = pr.LabelEncoder().fit_transform(df[\"day\"])\n",
    "df[[\"day\",\"kodgun\"]]"
   ]
  }
 ],
 "metadata": {
  "kernelspec": {
   "display_name": "Python 3 (ipykernel)",
   "language": "python",
   "name": "python3"
  },
  "language_info": {
   "codemirror_mode": {
    "name": "ipython",
    "version": 3
   },
   "file_extension": ".py",
   "mimetype": "text/x-python",
   "name": "python",
   "nbconvert_exporter": "python",
   "pygments_lexer": "ipython3",
   "version": "3.11.4"
  }
 },
 "nbformat": 4,
 "nbformat_minor": 5
}
