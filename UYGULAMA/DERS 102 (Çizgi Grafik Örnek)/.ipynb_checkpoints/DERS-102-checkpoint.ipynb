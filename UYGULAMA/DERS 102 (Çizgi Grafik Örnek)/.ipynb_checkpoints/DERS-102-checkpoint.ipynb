{
 "cells": [
  {
   "cell_type": "code",
   "execution_count": null,
   "id": "bc137944",
   "metadata": {},
   "outputs": [],
   "source": [
    "import matplotlib.pyplot as plt\n",
    "import seaborn as sns\n",
    "import pandas as pd"
   ]
  },
  {
   "cell_type": "code",
   "execution_count": null,
   "id": "9633efe9",
   "metadata": {},
   "outputs": [],
   "source": [
    "tarih = [\"Ocak\",\"Şubat\",\"Mart\",\"Nisan\",\"Mayıs\"]\n",
    "fiyat = [100,200,150,180,250]\n",
    "#ls = Çizgi türü\n",
    "#Eğer tek bir çizgi grafiğinden bahsediyorsak 'marker.' Çoksa 'markers.'\n",
    "sns.lineplot(x=tarih,y=fiyat,color=\"red\",ls=\"-.\",marker=\"o\")\n",
    "plt.grid() # Arka tarafa ızgara yapısı oluşturuyor\n",
    "plt.ylim(0,300)\n",
    "plt.show()"
   ]
  },
  {
   "cell_type": "code",
   "execution_count": null,
   "id": "e370ab3e",
   "metadata": {},
   "outputs": [],
   "source": [
    "df = pd.DataFrame(pd.read_excel(\"ornek.xlsx\"))\n",
    "df.head()"
   ]
  },
  {
   "cell_type": "code",
   "execution_count": null,
   "id": "84fd3ccf",
   "metadata": {},
   "outputs": [],
   "source": [
    "df = df.melt(id_vars=\"Hafta\",value_name=\"Fiyatlar\",var_name=\"Hisseler\")\n",
    "df"
   ]
  },
  {
   "cell_type": "code",
   "execution_count": null,
   "id": "b8c94bf1",
   "metadata": {},
   "outputs": [],
   "source": [
    "sns.lineplot(data=df,x=\"Hafta\",y=\"Fiyatlar\",hue=\"Hisseler\",style=\"Hisseler\",markers=True)\n",
    "plt.show()"
   ]
  }
 ],
 "metadata": {
  "kernelspec": {
   "display_name": "Python 3 (ipykernel)",
   "language": "python",
   "name": "python3"
  },
  "language_info": {
   "codemirror_mode": {
    "name": "ipython",
    "version": 3
   },
   "file_extension": ".py",
   "mimetype": "text/x-python",
   "name": "python",
   "nbconvert_exporter": "python",
   "pygments_lexer": "ipython3",
   "version": "3.11.4"
  }
 },
 "nbformat": 4,
 "nbformat_minor": 5
}
