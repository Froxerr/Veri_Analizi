{
 "cells": [
  {
   "cell_type": "code",
   "execution_count": null,
   "id": "501fe431",
   "metadata": {},
   "outputs": [],
   "source": [
    "import matplotlib.pyplot as plt\n",
    "import seaborn as sns"
   ]
  },
  {
   "cell_type": "code",
   "execution_count": null,
   "id": "21c6e7a9",
   "metadata": {},
   "outputs": [],
   "source": [
    "x=[100,200,300,400,500]\n",
    "y=[150,250,350,450,550]\n",
    "\n",
    "sns.scatterplot(x=x,y=y,color=\"red\",marker=\"P\")\n",
    "plt.show()"
   ]
  },
  {
   "cell_type": "code",
   "execution_count": null,
   "id": "fbde2367",
   "metadata": {},
   "outputs": [],
   "source": [
    "#Ödenen toplam tutar ile bahşiş arasında bir ilişki var mı\n",
    "df = sns.load_dataset(\"tips\")\n",
    "df.head()"
   ]
  },
  {
   "cell_type": "code",
   "execution_count": null,
   "id": "4d312b0a",
   "metadata": {},
   "outputs": [],
   "source": [
    "sns.scatterplot(data=df,x=\"total_bill\",y=\"tip\",hue=\"day\",style=\"sex\")\n",
    "plt.show()"
   ]
  }
 ],
 "metadata": {
  "kernelspec": {
   "display_name": "Python 3 (ipykernel)",
   "language": "python",
   "name": "python3"
  },
  "language_info": {
   "codemirror_mode": {
    "name": "ipython",
    "version": 3
   },
   "file_extension": ".py",
   "mimetype": "text/x-python",
   "name": "python",
   "nbconvert_exporter": "python",
   "pygments_lexer": "ipython3",
   "version": "3.11.4"
  }
 },
 "nbformat": 4,
 "nbformat_minor": 5
}
