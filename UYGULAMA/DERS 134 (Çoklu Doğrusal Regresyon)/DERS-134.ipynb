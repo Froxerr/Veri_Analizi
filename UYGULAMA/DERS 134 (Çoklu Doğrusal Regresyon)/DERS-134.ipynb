{
 "cells": [
  {
   "cell_type": "code",
   "execution_count": null,
   "id": "f74e05a4",
   "metadata": {},
   "outputs": [],
   "source": [
    "import pandas as pd\n",
    "import statsmodels.api as sm"
   ]
  },
  {
   "cell_type": "code",
   "execution_count": null,
   "id": "fc3c03de",
   "metadata": {},
   "outputs": [],
   "source": [
    "df = pd.DataFrame(pd.read_excel(\"ornek.xlsx\"))\n",
    "df.head()\n",
    "#Tavuk tüketimini etkileyen faktörleri belirlemek ve bu faktörlerin tavuk tüketimini ne kadar\n",
    "#açıklayabildiğini anlamak için bir regresyon modeli oluşturacağız"
   ]
  },
  {
   "cell_type": "code",
   "execution_count": null,
   "id": "38726612",
   "metadata": {},
   "outputs": [],
   "source": [
    "x= df[[\"TavukFiyat\",\"Gelir\",\"SığırFiyat\"]] # Bağımsız değişken\n",
    "y= df[\"TavukTüketimi\"] #Bağımlı değişken\n",
    "\n",
    "sabit = sm.add_constant(x)\n",
    "model = sm.OLS(y,sabit).fit()\n",
    "print(model.summary())#Sığır fiyatı 0.05'den büyük olduğu için istatistiksel olarak anlamsız olduğunu tespit ettik\n",
    "#bu nedenle sığır fiyatını modelden çıkardık"
   ]
  },
  {
   "cell_type": "code",
   "execution_count": null,
   "id": "c6fcd32a",
   "metadata": {},
   "outputs": [],
   "source": [
    "x= df[[\"TavukFiyat\",\"Gelir\"]]\n",
    "y= df[\"TavukTüketimi\"]\n",
    "\n",
    "sabit = sm.add_constant(x)\n",
    "model = sm.OLS(y,sabit).fit()\n",
    "print(model.summary())\n",
    "#Ortalama olarak, tüketilen tavuk miktarının \"33.1956\" birim olduğunu bulduk\n",
    "#Gelirdeki her 1 birimlik artışın tavuk tüketimini \"0.0144\" birim artırdığını\n",
    "#Tavuk fiyatının her 1 birimlik artışının tavuk satışını \"0.1730\" birim azaltacağını yorumlayabiliriz"
   ]
  }
 ],
 "metadata": {
  "kernelspec": {
   "display_name": "Python 3 (ipykernel)",
   "language": "python",
   "name": "python3"
  },
  "language_info": {
   "codemirror_mode": {
    "name": "ipython",
    "version": 3
   },
   "file_extension": ".py",
   "mimetype": "text/x-python",
   "name": "python",
   "nbconvert_exporter": "python",
   "pygments_lexer": "ipython3",
   "version": "3.11.4"
  }
 },
 "nbformat": 4,
 "nbformat_minor": 5
}
