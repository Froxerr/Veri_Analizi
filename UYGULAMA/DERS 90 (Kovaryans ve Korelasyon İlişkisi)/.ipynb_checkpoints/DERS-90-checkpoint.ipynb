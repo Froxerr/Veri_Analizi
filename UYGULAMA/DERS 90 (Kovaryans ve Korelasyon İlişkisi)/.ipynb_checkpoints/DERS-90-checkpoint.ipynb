{
 "cells": [
  {
   "cell_type": "code",
   "execution_count": null,
   "id": "be236f84",
   "metadata": {},
   "outputs": [],
   "source": [
    "import numpy as np"
   ]
  },
  {
   "cell_type": "code",
   "execution_count": null,
   "id": "714d3079",
   "metadata": {},
   "outputs": [],
   "source": [
    "x = [2,4,6,8,10]\n",
    "y = [15,12,9,6,3]\n",
    "\n",
    "print(np.cov(x,y)) #negatif korelasyon olacak"
   ]
  },
  {
   "cell_type": "code",
   "execution_count": null,
   "id": "1f7a977d",
   "metadata": {},
   "outputs": [],
   "source": [
    "x = [2,4,6,8,10]\n",
    "y = [15,12,9,6,3]\n",
    "\n",
    "y.reverse()\n",
    "print(np.cov(x,y)) #pozitif korelasyon olacak"
   ]
  },
  {
   "cell_type": "code",
   "execution_count": null,
   "id": "26ae07e7",
   "metadata": {},
   "outputs": [],
   "source": [
    "x = [10,20,30]\n",
    "y = [40,60,100]\n",
    "\n",
    "print(np.cov(x,y))"
   ]
  },
  {
   "cell_type": "code",
   "execution_count": null,
   "id": "658a06c4",
   "metadata": {},
   "outputs": [],
   "source": [
    "x = [10,20,30]\n",
    "y = [40,60,100]\n",
    "\n",
    "print(np.cov(x,y))"
   ]
  },
  {
   "cell_type": "code",
   "execution_count": null,
   "id": "155fa47d",
   "metadata": {},
   "outputs": [],
   "source": [
    "x = [1,2,3]\n",
    "y = [4,6,10]\n",
    "\n",
    "print(np.corrcoef(x,y))"
   ]
  },
  {
   "cell_type": "code",
   "execution_count": null,
   "id": "69a161ea",
   "metadata": {},
   "outputs": [],
   "source": [
    "x = [10,20,30]\n",
    "y = [40,60,100]\n",
    "\n",
    "print(np.corrcoef(x,y))"
   ]
  }
 ],
 "metadata": {
  "kernelspec": {
   "display_name": "Python 3 (ipykernel)",
   "language": "python",
   "name": "python3"
  },
  "language_info": {
   "codemirror_mode": {
    "name": "ipython",
    "version": 3
   },
   "file_extension": ".py",
   "mimetype": "text/x-python",
   "name": "python",
   "nbconvert_exporter": "python",
   "pygments_lexer": "ipython3",
   "version": "3.11.4"
  }
 },
 "nbformat": 4,
 "nbformat_minor": 5
}
