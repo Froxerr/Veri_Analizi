{
 "cells": [
  {
   "cell_type": "code",
   "execution_count": null,
   "id": "cc3d95f2",
   "metadata": {},
   "outputs": [],
   "source": [
    "#Rastgele doğrusal bir denklem= y = 3 + 8x"
   ]
  },
  {
   "cell_type": "code",
   "execution_count": null,
   "id": "2cccde04",
   "metadata": {},
   "outputs": [],
   "source": [
    "import matplotlib.pyplot as plt\n",
    "x = [2,4,6,8,10]\n",
    "y = []\n",
    "\n",
    "for i in x:\n",
    "    y.append((3 + 8 * i))\n",
    "#Bu bir doğrusal fonksiyon olmuş oluyor"
   ]
  },
  {
   "cell_type": "code",
   "execution_count": null,
   "id": "bb05da5b",
   "metadata": {},
   "outputs": [],
   "source": [
    "plt.plot(x,y)\n",
    "plt.show()"
   ]
  },
  {
   "cell_type": "code",
   "execution_count": null,
   "id": "bd643bea",
   "metadata": {},
   "outputs": [],
   "source": [
    "#Doğrusal olmayan bir denklem= y = 2x**3 + 3 | x'in kuvveti bozulduğunda doğrusallık bozuluyor"
   ]
  },
  {
   "cell_type": "code",
   "execution_count": null,
   "id": "ea28ae2b",
   "metadata": {},
   "outputs": [],
   "source": [
    "import matplotlib.pyplot as plt\n",
    "x = [2,4,6,8,10]\n",
    "y = []\n",
    "\n",
    "for i in x:\n",
    "    y.append((2*i**3+3))\n",
    "#Bu bir doğrusal fonksiyon olmuş oluyor\n",
    "plt.plot(x,y)\n",
    "plt.show()"
   ]
  },
  {
   "cell_type": "code",
   "execution_count": null,
   "id": "124454ea",
   "metadata": {},
   "outputs": [],
   "source": [
    "import matplotlib.pyplot as plt\n",
    "x = [2,4,6,8,10]\n",
    "y = []\n",
    "\n",
    "for i in x:\n",
    "    y.append((2*i**3+3))\n",
    "#Bu bir doğrusal fonksiyon olmuş oluyor\n",
    "plt.scatter(x,y)\n",
    "plt.show()"
   ]
  },
  {
   "cell_type": "code",
   "execution_count": null,
   "id": "40567386",
   "metadata": {},
   "outputs": [],
   "source": [
    "import matplotlib.pyplot as plt\n",
    "x = [2,4,6,8,10]\n",
    "y = []\n",
    "\n",
    "for i in x:\n",
    "    y.append((3 + 8 * i))\n",
    "plt.scatter(x,y)\n",
    "plt.show()"
   ]
  }
 ],
 "metadata": {
  "kernelspec": {
   "display_name": "Python 3 (ipykernel)",
   "language": "python",
   "name": "python3"
  },
  "language_info": {
   "codemirror_mode": {
    "name": "ipython",
    "version": 3
   },
   "file_extension": ".py",
   "mimetype": "text/x-python",
   "name": "python",
   "nbconvert_exporter": "python",
   "pygments_lexer": "ipython3",
   "version": "3.11.4"
  }
 },
 "nbformat": 4,
 "nbformat_minor": 5
}
