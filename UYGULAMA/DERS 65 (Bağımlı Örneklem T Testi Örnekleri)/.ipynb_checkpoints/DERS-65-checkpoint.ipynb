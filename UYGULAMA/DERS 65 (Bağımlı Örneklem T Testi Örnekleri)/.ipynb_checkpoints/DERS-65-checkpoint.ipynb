{
 "cells": [
  {
   "cell_type": "code",
   "execution_count": null,
   "id": "988ee7ed",
   "metadata": {},
   "outputs": [],
   "source": [
    "from scipy import stats\n",
    "import pandas as pd"
   ]
  },
  {
   "cell_type": "code",
   "execution_count": null,
   "id": "9357aca5",
   "metadata": {},
   "outputs": [],
   "source": [
    "#ORNEK 1\n",
    "#Bir şirkette Excel eğitimi verilmek isteniyor. Bu eğitimin işe yarayıp yaramadığını öğrenmek için \n",
    "#istatistiksel bir veri analizi yapıyoruz.10 çalışan rastgele seçilip sınav yapılıyor. \n",
    "#Eğitimden sonra bir sınav daha yapıp notlarını alıyoruz"
   ]
  },
  {
   "cell_type": "code",
   "execution_count": null,
   "id": "91908edc",
   "metadata": {},
   "outputs": [],
   "source": [
    "df = pd.DataFrame(pd.read_excel(\"ornek1.xlsx\"))\n",
    "\n",
    "once = df[\"Önce\"]\n",
    "sonra = df[\"Sonra\"]\n",
    "\n",
    "fark = once - sonra #d Değerini bulma muhabbeti bu fark olayı\n",
    "\n",
    "normallik = stats.shapiro(fark)\n",
    "print(normallik)"
   ]
  },
  {
   "cell_type": "code",
   "execution_count": null,
   "id": "89f4d39c",
   "metadata": {},
   "outputs": [],
   "source": [
    "homojen = stats.bartlett(once,sonra)\n",
    "print(varyans)"
   ]
  },
  {
   "cell_type": "code",
   "execution_count": null,
   "id": "b84e72a5",
   "metadata": {},
   "outputs": [],
   "source": [
    "t,p = stats.ttest_rel(once,sonra)\n",
    "print(\"Test Sonucu: %.4f,p-Value=%.4f\"%(t,p))"
   ]
  },
  {
   "cell_type": "code",
   "execution_count": null,
   "id": "958b3904",
   "metadata": {},
   "outputs": [],
   "source": [
    "#ORNEK 2\n",
    "#Geliştirdiğimiz motor yağının yakıt tüketiminde bir fark yaratıp yaratmadığını düşünüyoruz\n",
    "#Bunun için 10 araç rastgele seçiliyor. Önce ortalama olarak 100 km'de yaktığı litre bazlı verileri alıyoruz\n",
    "#sonra motor yağını ekleyip verileri topluyoruz. \n",
    "#Bu yaptığımızın motor yağı, yakıt tüketiminde bir fayda sağlayıp sağlamadığını araştırıyoruz"
   ]
  },
  {
   "cell_type": "code",
   "execution_count": null,
   "id": "2e156eb9",
   "metadata": {},
   "outputs": [],
   "source": [
    "df = pd.DataFrame(pd.read_excel(\"ornek2.xlsx\"))\n",
    "\n",
    "once = df[\"Önce\"]\n",
    "sonra = df[\"Sonra\"]\n",
    "\n",
    "fark = once - sonra #d Değerini bulma muhabbeti bu fark olayı\n",
    "\n",
    "normallik = stats.shapiro(fark)\n",
    "print(normallik)"
   ]
  },
  {
   "cell_type": "code",
   "execution_count": null,
   "id": "3e0ca4a6",
   "metadata": {},
   "outputs": [],
   "source": [
    "homojen = stats.bartlett(once,sonra)\n",
    "print(varyans)"
   ]
  },
  {
   "cell_type": "code",
   "execution_count": null,
   "id": "246f4dd0",
   "metadata": {},
   "outputs": [],
   "source": [
    "t,p = stats.ttest_rel(once,sonra)\n",
    "print(\"Test Sonucu: %.4f,p-Value=%.4f\"%(t,p))"
   ]
  }
 ],
 "metadata": {
  "kernelspec": {
   "display_name": "Python 3 (ipykernel)",
   "language": "python",
   "name": "python3"
  },
  "language_info": {
   "codemirror_mode": {
    "name": "ipython",
    "version": 3
   },
   "file_extension": ".py",
   "mimetype": "text/x-python",
   "name": "python",
   "nbconvert_exporter": "python",
   "pygments_lexer": "ipython3",
   "version": "3.11.4"
  }
 },
 "nbformat": 4,
 "nbformat_minor": 5
}
