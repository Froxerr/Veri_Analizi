{
 "cells": [
  {
   "cell_type": "code",
   "execution_count": null,
   "id": "2adeb71b",
   "metadata": {},
   "outputs": [],
   "source": [
    "import numpy as np\n",
    "from scipy import stats\n",
    "\n",
    "n=20\n",
    "xort=216.53\n",
    "xss=15.86\n",
    "guven=0.95\n",
    "sderecesi=n-1\n",
    "\n",
    "aralik = stats.t.interval(confidence=guven,loc=xort,df=sderecesi,scale=xss/np.sqrt(n))\n",
    "print(aralik)"
   ]
  }
 ],
 "metadata": {
  "kernelspec": {
   "display_name": "Python 3 (ipykernel)",
   "language": "python",
   "name": "python3"
  },
  "language_info": {
   "codemirror_mode": {
    "name": "ipython",
    "version": 3
   },
   "file_extension": ".py",
   "mimetype": "text/x-python",
   "name": "python",
   "nbconvert_exporter": "python",
   "pygments_lexer": "ipython3",
   "version": "3.11.4"
  }
 },
 "nbformat": 4,
 "nbformat_minor": 5
}
