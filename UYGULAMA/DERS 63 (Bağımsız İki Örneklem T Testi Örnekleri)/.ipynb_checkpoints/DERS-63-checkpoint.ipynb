{
 "cells": [
  {
   "cell_type": "code",
   "execution_count": null,
   "id": "d6fb9eb4",
   "metadata": {},
   "outputs": [],
   "source": [
    "import pandas as pd\n",
    "from scipy import stats\n",
    "import numpy as np\n",
    "import seaborn as sns\n",
    "import matplotlib.pyplot as plt"
   ]
  },
  {
   "cell_type": "code",
   "execution_count": null,
   "id": "4b2646db",
   "metadata": {},
   "outputs": [],
   "source": [
    "#Ornek 1\n",
    "#Sigara içenler ile içmeyenler arasında nefeslerini tutma arasında herhangi bir fark var mı yok mu?\n",
    "#Bunu kontrol etmek istiyoruz"
   ]
  },
  {
   "cell_type": "code",
   "execution_count": null,
   "id": "8e626c1c",
   "metadata": {},
   "outputs": [],
   "source": [
    "alfa = 0.05\n",
    "df = pd.DataFrame(pd.read_excel(\"ornek1.xlsx\"))\n",
    "\n",
    "icen = df[df[\"Sigara\"] == \"Evet\"]\n",
    "icmeyen = df[df[\"Sigara\"] == \"Hayır\"]\n",
    "\n",
    "normicen = stats.shapiro(icen[\"Zaman\"])\n",
    "normicmeyen = stats.shapiro(icmeyen[\"Zaman\"])\n",
    "\n",
    "print(normicen,normicmeyen)"
   ]
  },
  {
   "cell_type": "code",
   "execution_count": null,
   "id": "f123fbf2",
   "metadata": {},
   "outputs": [],
   "source": [
    "homojen = stats.bartlett(icen[\"Zaman\"],icmeyen[\"Zaman\"])\n",
    "print(homojen)"
   ]
  },
  {
   "cell_type": "code",
   "execution_count": null,
   "id": "b08350c9",
   "metadata": {},
   "outputs": [],
   "source": [
    "test = stats.ttest_ind(icen[\"Zaman\"],icmeyen[\"Zaman\"],alternative=\"two-sided\")\n",
    "print(test)\n",
    "\n",
    "if alfa > test.pvalue:\n",
    "    print(\"Ho Red\")\n",
    "else:\n",
    "    print(\"Ho Reddedilemez\")"
   ]
  },
  {
   "cell_type": "code",
   "execution_count": null,
   "id": "d0fd450a",
   "metadata": {},
   "outputs": [],
   "source": [
    "#Ornek 2\n",
    "#Bir içecek firmasında veri analizi yaptığımızı düşünelim\n",
    "#Firma bu içecekler için yeni bir aromalı içecek üretti, daha sonra müşterilerin tutumlarını ölçmek istiyoruz\n",
    "#Bunun için 20 kişi seçildi, bu kişilere aralarından 10 kişiye eski aroması değişmemiş olanı içecek sunuldu\n",
    "#Diğer 10 kişiye ise aroması değişmiş olan içecek sunuldu ve bunlarla ilgili bir tutum toplandı\n",
    "#Tutum = Bir ankette olduğunu düşün ve sana işte iyi - çok iyi tarzı cevaplar vermeni bekliyorlar\n",
    "#bu cevaplara karşılık olarak bir sayı geliyor, işte buna tutum adı veriyoruz"
   ]
  },
  {
   "cell_type": "code",
   "execution_count": null,
   "id": "e33758ae",
   "metadata": {},
   "outputs": [],
   "source": [
    "alfa = 0.05\n",
    "df = pd.DataFrame(pd.read_excel(\"ornek2.xlsx\"))\n",
    "eski = df[df[\"Grup\"] == \"Eski\"]\n",
    "yeni = df[df[\"Grup\"] == \"Yeni\"]\n",
    "\n",
    "normeski = stats.shapiro(eski[\"Tutum\"])\n",
    "normyeni = stats.shapiro(yeni[\"Tutum\"])\n",
    "\n",
    "print(normeski,normyeni)"
   ]
  },
  {
   "cell_type": "code",
   "execution_count": null,
   "id": "28c19bbb",
   "metadata": {},
   "outputs": [],
   "source": [
    "homojen = stats.bartlett(eski[\"Tutum\"],yeni[\"Tutum\"])\n",
    "print(homojen)"
   ]
  },
  {
   "cell_type": "code",
   "execution_count": null,
   "id": "f8f6c00a",
   "metadata": {},
   "outputs": [],
   "source": [
    "test = stats.ttest_ind(eski[\"Tutum\"],yeni[\"Tutum\"],alternative=\"two-sided\")\n",
    "print(test)\n",
    "\n",
    "if alfa > test.pvalue:\n",
    "    print(\"Ho Red\")\n",
    "else:\n",
    "    print(\"Ho Reddedilemez\")\n",
    "print(eski[\"Tutum\"].mean())\n",
    "print(yeni[\"Tutum\"].mean())"
   ]
  },
  {
   "cell_type": "code",
   "execution_count": null,
   "id": "709b665d",
   "metadata": {},
   "outputs": [],
   "source": [
    "#Ornek 3\n",
    "#Amaç yok gibi ama test ettiğimiz şey eğer homojen olmazsa ne yaparız?"
   ]
  },
  {
   "cell_type": "code",
   "execution_count": null,
   "id": "ba02667f",
   "metadata": {},
   "outputs": [],
   "source": [
    "alfa = 0.05\n",
    "df = pd.DataFrame(pd.read_excel(\"ornek3.xlsx\"))\n",
    "eski = df[df[\"Grup\"] == \"Eski\"]\n",
    "yeni = df[df[\"Grup\"] == \"Yeni\"]\n",
    "\n",
    "homojen = stats.bartlett(eski[\"Tutum\"],yeni[\"Tutum\"])\n",
    "print(homojen)"
   ]
  },
  {
   "cell_type": "code",
   "execution_count": null,
   "id": "47394bfa",
   "metadata": {},
   "outputs": [],
   "source": [
    "#Eğer homojen testi 0.05'in altında kaldıysa, Welch t-test uygulanması lazım, bu yüzden 'equal_var' parametresini \n",
    "#False olarak kullanırız. Yani benim homojen testim başarısız oldu, bu nedenle Welch t-test üzerinden işlem yap\n",
    "test = stats.ttest_ind(eski[\"Tutum\"],yeni[\"Tutum\"],alternative=\"two-sided\",equal_var=False)\n",
    "print(test)\n",
    "if alfa > test.pvalue:\n",
    "    print(\"Ho Red\")\n",
    "else:\n",
    "    print(\"Ho Reddedilemez\")"
   ]
  }
 ],
 "metadata": {
  "kernelspec": {
   "display_name": "Python 3 (ipykernel)",
   "language": "python",
   "name": "python3"
  },
  "language_info": {
   "codemirror_mode": {
    "name": "ipython",
    "version": 3
   },
   "file_extension": ".py",
   "mimetype": "text/x-python",
   "name": "python",
   "nbconvert_exporter": "python",
   "pygments_lexer": "ipython3",
   "version": "3.11.4"
  }
 },
 "nbformat": 4,
 "nbformat_minor": 5
}
