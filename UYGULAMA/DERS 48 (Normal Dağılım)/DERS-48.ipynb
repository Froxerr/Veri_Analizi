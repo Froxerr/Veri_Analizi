{
 "cells": [
  {
   "cell_type": "code",
   "execution_count": null,
   "id": "79bea383",
   "metadata": {},
   "outputs": [],
   "source": [
    "from scipy import stats\n",
    "import numpy as np"
   ]
  },
  {
   "cell_type": "code",
   "execution_count": null,
   "id": "897b1c90",
   "metadata": {},
   "outputs": [],
   "source": [
    "#A isimli bir ürün üretiyoruz ve bu ürüne gelen talep miktarının ortalama 100 olduğunu biliyoruz\n",
    "#Stoklarla ilgili bir model yapmak istiyoruz ve bu yapının normal dağılımına uyduğunu biliyoruz\n",
    "#Varyans değeri ise 3000 adettir\n",
    "#A ürünün stok adedi ise 3500'dir\n",
    "#Üretime devam etmediğimiz durumda 1 ay içinde A'nın bitme olasılığı nedir?\n",
    "\n",
    "#1 ay olduğu için değerleri 1 aya uygun bir şekilde çevirmemiz lazım\n",
    "#Ortalama 100 ürün 1 aya çevirirsek 3000 olur\n",
    "#Varyansımızı da günlük 3000 ise aylık 90.000 olur\n",
    "#Ve aradığımız aralık ise P(x >= 3500) stok adedini geçtiği anda bitme olasılığı baş gösterir"
   ]
  },
  {
   "cell_type": "code",
   "execution_count": null,
   "id": "5222e56f",
   "metadata": {},
   "outputs": [],
   "source": [
    "ortalama = 3000\n",
    "varyans = 90000\n",
    "\n",
    "dagilim = stats.norm(ortalama,np.sqrt(varyans))\n",
    "olasilik = 1-dagilim.cdf(x=3500)\n",
    "\n",
    "print(olasilik*100)"
   ]
  },
  {
   "cell_type": "code",
   "execution_count": null,
   "id": "4319dbd1",
   "metadata": {},
   "outputs": [],
   "source": [
    "#Orman yangınlarını inceliyoruz ve elimizdeki veriler\n",
    "#yıllık ortalama olarak 4300 dönümün yok olduğunu tespit ettik\n",
    "#Varyans değeri ise 562.500 olduğunu ölçüyoruz\n",
    "#Herhangi bir yılda 2500 ile 4200 dönüm arasında yanma olasılığı nedir?\n",
    "\n",
    "#P(2500 < x < 4200)"
   ]
  },
  {
   "cell_type": "code",
   "execution_count": null,
   "id": "b9f829ce",
   "metadata": {},
   "outputs": [],
   "source": [
    "ortalama = 4300\n",
    "varyans = 562500\n",
    "\n",
    "dagilim = stats.norm(ortalama,np.sqrt(varyans))\n",
    "alt_veri = dagilim.cdf(x=2500)\n",
    "ust_veri = dagilim.cdf(x=4200)\n",
    "\n",
    "toplam = ust_veri - alt_veri\n",
    "\n",
    "print(toplam * 100)"
   ]
  },
  {
   "cell_type": "code",
   "execution_count": null,
   "id": "0765a525",
   "metadata": {},
   "outputs": [],
   "source": [
    "#Orman yangınlarını inceliyoruz ve elimizdeki veriler\n",
    "#yıllık ortalama olarak 4300 dönümün yok olduğunu tespit ettik\n",
    "#varyans değeri ise 562.500 olduğunu ölçüyoruz\n",
    "#herhangi bir yılda 3000 dönümden daha fazla yanma olasılığı nedir\n",
    "\n",
    "#P(x > 3000)"
   ]
  },
  {
   "cell_type": "code",
   "execution_count": null,
   "id": "7b975ece",
   "metadata": {},
   "outputs": [],
   "source": [
    "ortalama = 4300\n",
    "varyans = 562500\n",
    "\n",
    "dagilim = stats.norm(ortalama,np.sqrt(varyans))\n",
    "yangin = 1-dagilim.cdf(x=3000) # < işareti için geçerli\n",
    "yangin1 = dagilim.sf(x=3000) # > işareti için geçerli\n",
    "\n",
    "print(yangin * 100)\n",
    "print(yangin1 * 100)"
   ]
  },
  {
   "cell_type": "code",
   "execution_count": null,
   "id": "dad9d146",
   "metadata": {},
   "outputs": [],
   "source": [
    "  \n",
    "#Garanti maliyetleri ile ilgili bir soru:\n",
    "#Bir A ürünü var, bu ürünün ortalama ömrü 58 aydır,\n",
    "#Varyans değeri ise 100 aydır\n",
    "#Arızalı bir ürünün yenisi ile değiştirmek için 3 yıl garanti veriyoruz\n",
    "#1 yılda 1 milyon ürün üretiyoruz\n",
    "#1 yılda kaç tane ürünün garantiye gelebilme olasılığı nedir?"
   ]
  },
  {
   "cell_type": "code",
   "execution_count": null,
   "id": "c2b05180",
   "metadata": {},
   "outputs": [],
   "source": [
    "ortalama = 58\n",
    "varyans = 100\n",
    "\n",
    "dagilim = stats.norm(ortalama,np.sqrt(varyans))\n",
    "urun = dagilim.cdf(x=36)\n",
    "\n",
    "print(urun * 100)"
   ]
  },
  {
   "cell_type": "code",
   "execution_count": null,
   "id": "f65a453c",
   "metadata": {},
   "outputs": [],
   "source": [
    "#Bir kişi yemek siparişi verdikten sonra ortalama olarak ne kadar sürede o eve ulaşıyor, bunu modellemek istiyoruz\n",
    "#Geçmiş verilere bakılırsa ortalama sipariş teslimin 30 dk olduğunu görüyoruz\n",
    "#Varyans değeri ise 25 dk\n",
    "#Herhangi bir teslimatın 20 dk ile 40 dk arasında olma olasılığı nedir?\n",
    "\n",
    "#P(20<x<40)"
   ]
  },
  {
   "cell_type": "code",
   "execution_count": null,
   "id": "32c7adef",
   "metadata": {},
   "outputs": [],
   "source": [
    "ortalama = 30\n",
    "varyans = 25\n",
    "\n",
    "dagilim = stats.norm(ortalama,np.sqrt(varyans))\n",
    "urun_teslim_alt = dagilim.cdf(x=20)\n",
    "urun_teslim_ust = dagilim.cdf(x=40)\n",
    "\n",
    "print((urun_teslim_ust - urun_teslim_alt)*100)"
   ]
  }
 ],
 "metadata": {
  "kernelspec": {
   "display_name": "Python 3 (ipykernel)",
   "language": "python",
   "name": "python3"
  },
  "language_info": {
   "codemirror_mode": {
    "name": "ipython",
    "version": 3
   },
   "file_extension": ".py",
   "mimetype": "text/x-python",
   "name": "python",
   "nbconvert_exporter": "python",
   "pygments_lexer": "ipython3",
   "version": "3.11.4"
  }
 },
 "nbformat": 4,
 "nbformat_minor": 5
}
