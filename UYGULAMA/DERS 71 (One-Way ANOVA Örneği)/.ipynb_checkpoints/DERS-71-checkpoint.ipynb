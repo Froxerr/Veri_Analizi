{
 "cells": [
  {
   "cell_type": "code",
   "execution_count": null,
   "id": "93a98142",
   "metadata": {},
   "outputs": [],
   "source": [
    "from scipy import stats\n",
    "import pandas as pd"
   ]
  },
  {
   "cell_type": "code",
   "execution_count": null,
   "id": "d2260fc9",
   "metadata": {},
   "outputs": [],
   "source": [
    "#Ornek 1\n",
    "#4 tane farklı öğrenci, 3 farklı okuldan seçiliyor ve aldıkları notlar karşılaştırılıyor"
   ]
  },
  {
   "cell_type": "code",
   "execution_count": null,
   "id": "a4e2de62",
   "metadata": {},
   "outputs": [],
   "source": [
    "grubA = [1,2,3,6]\n",
    "grubB = [1,3,5,7]\n",
    "grubC = [2,4,6,8]\n",
    "\n",
    "fdeger, pdeger = stats.f_oneway(grubA,grubB,grubC)\n",
    "test = stats.f_oneway(grubA,grubB,grubC)\n",
    "print(fdeger,pdeger)\n",
    "print(test)"
   ]
  },
  {
   "cell_type": "code",
   "execution_count": null,
   "id": "a389d7a5",
   "metadata": {},
   "outputs": [],
   "source": [
    "#Ornek 2\n",
    "#Kişilerin günlük televizyon izleme ile ilgili bir örnek. Kişilerin TV izleme süreleri ile eğitim durumları arasında fark\n",
    "#var mıdır?\n",
    "#Ho = Grupların ortalamaları birbirine eşittir\n",
    "#H1 = Grupların ortalamaları birbirine eşit değildir"
   ]
  },
  {
   "cell_type": "code",
   "execution_count": null,
   "id": "26f0dd4d",
   "metadata": {
    "scrolled": true
   },
   "outputs": [],
   "source": [
    "df = pd.DataFrame(pd.read_excel(\"ornek2.xlsx\"))\n",
    "df.head()\n",
    "#Bağımsız değişken sayımız 1 tane mi? = Eğitim\n",
    "#En az 3 gruptan mı oluşuyor? = 4 gruptan oluşuyor\n",
    "#Bağımlı değişkenim sürekli mi? = TV izleme süresi mi\n",
    "#Veriler gruplar için normal bir dağılım mı gösteriyor? = Evet\n",
    "#Gruplar arası varyans homojen mi gösteriyor? = Evet"
   ]
  },
  {
   "cell_type": "code",
   "execution_count": null,
   "id": "1713edb1",
   "metadata": {},
   "outputs": [],
   "source": [
    "g1 = df[df[\"Eğitim\"] == \"İlkokul\"]\n",
    "g2 = df[df[\"Eğitim\"] == \"Lise\"]\n",
    "g3 = df[df[\"Eğitim\"] == \"Üniversite\"]\n",
    "g4 = df[df[\"Eğitim\"] == \"Yükseklisans\"]"
   ]
  },
  {
   "cell_type": "code",
   "execution_count": null,
   "id": "8dc90eba",
   "metadata": {},
   "outputs": [],
   "source": [
    "normallik = stats.shapiro(g1[\"Tvizleme\"])\n",
    "print(normallik)\n",
    "#Veriler gruplar için normal bir dağılım mı gösteriyor? = Grup 1 için evet"
   ]
  },
  {
   "cell_type": "code",
   "execution_count": null,
   "id": "0664daca",
   "metadata": {},
   "outputs": [],
   "source": [
    "normallik = stats.shapiro(g2[\"Tvizleme\"])\n",
    "print(normallik)\n",
    "#Veriler gruplar için normal bir dağılım mı gösteriyor? = Grup 2 için evet"
   ]
  },
  {
   "cell_type": "code",
   "execution_count": null,
   "id": "9a2554a7",
   "metadata": {},
   "outputs": [],
   "source": [
    "normallik = stats.shapiro(g3[\"Tvizleme\"])\n",
    "print(normallik)\n",
    "#Veriler gruplar için normal bir dağılım mı gösteriyor? = Grup 3 için evet"
   ]
  },
  {
   "cell_type": "code",
   "execution_count": null,
   "id": "1cfe2ba5",
   "metadata": {},
   "outputs": [],
   "source": [
    "normallik = stats.shapiro(g4[\"Tvizleme\"])\n",
    "print(normallik)\n",
    "#Veriler gruplar için normal bir dağılım mı gösteriyor? = Grup 4 için evet"
   ]
  },
  {
   "cell_type": "code",
   "execution_count": null,
   "id": "d7d61e16",
   "metadata": {},
   "outputs": [],
   "source": [
    "homojenlik = stats.bartlett(g1[\"Tvizleme\"],g2[\"Tvizleme\"],g3[\"Tvizleme\"],g4[\"Tvizleme\"])\n",
    "print(homojenlik)\n",
    "#Gruplar arası varyans homojen mi gösteriyor? = Evet, 0.05'ten büyük olduğu için homojenlik yapısı gösteriyor "
   ]
  },
  {
   "cell_type": "code",
   "execution_count": null,
   "id": "8e1d7dec",
   "metadata": {},
   "outputs": [],
   "source": [
    "testanova = stats.f_oneway(g1[\"Tvizleme\"],g2[\"Tvizleme\"],g3[\"Tvizleme\"],g4[\"Tvizleme\"])\n",
    "print(testanova)\n",
    "if testanova.pvalue > 0.05:\n",
    "    print(\"Grupların ortalamaları birbirine eşittir\")\n",
    "else:\n",
    "    print(\"Grupların ortalamaları birbirine eşit değildir\")"
   ]
  }
 ],
 "metadata": {
  "kernelspec": {
   "display_name": "Python 3 (ipykernel)",
   "language": "python",
   "name": "python3"
  },
  "language_info": {
   "codemirror_mode": {
    "name": "ipython",
    "version": 3
   },
   "file_extension": ".py",
   "mimetype": "text/x-python",
   "name": "python",
   "nbconvert_exporter": "python",
   "pygments_lexer": "ipython3",
   "version": "3.11.4"
  }
 },
 "nbformat": 4,
 "nbformat_minor": 5
}
