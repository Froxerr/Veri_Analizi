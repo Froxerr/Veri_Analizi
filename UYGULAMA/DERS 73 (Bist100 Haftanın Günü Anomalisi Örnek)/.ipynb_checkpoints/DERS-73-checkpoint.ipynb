{
 "cells": [
  {
   "cell_type": "code",
   "execution_count": null,
   "id": "97c0bddb",
   "metadata": {},
   "outputs": [],
   "source": [
    "import pandas as pd\n",
    "from scipy import stats"
   ]
  },
  {
   "cell_type": "code",
   "execution_count": null,
   "id": "5d43a2db",
   "metadata": {},
   "outputs": [],
   "source": [
    "df = pd.DataFrame(pd.read_excel(\"borsa.xlsx\"))\n",
    "df"
   ]
  },
  {
   "cell_type": "code",
   "execution_count": null,
   "id": "2463fd23",
   "metadata": {},
   "outputs": [],
   "source": [
    "pazartesi = df[df[\"Gün\"] == \"Monday\"][\"Getiri\"]\n",
    "sali = df[df[\"Gün\"] == \"Tuesday\"][\"Getiri\"]\n",
    "carsamba = df[df[\"Gün\"] == \"Wednesday\"][\"Getiri\"]\n",
    "persembe = df[df[\"Gün\"] == \"Thursday\"][\"Getiri\"]\n",
    "cuma = df[df[\"Gün\"] == \"Friday\"][\"Getiri\"]\n",
    "\n",
    "normallik = stats.shapiro(pazartesi)\n",
    "print(normallik) #Veriler normal dağılım göstermiyor\n",
    "#Ancak ANOVA için büyük veri setleriyle çalıştığımız için normal dağılım testini göz ardı edebiliriz"
   ]
  },
  {
   "cell_type": "code",
   "execution_count": null,
   "id": "91d8ccb3",
   "metadata": {},
   "outputs": [],
   "source": [
    "homojenlik = stats.levene(pazartesi,sali,carsamba,persembe,cuma)\n",
    "print(homojenlik) #Veriler homojen dağılım göstermiyor\n",
    "homojenlik = stats.bartlett(pazartesi,sali,carsamba,persembe,cuma)\n",
    "print(homojenlik) #Veriler homojen dağılım göstermiyor"
   ]
  },
  {
   "cell_type": "code",
   "execution_count": null,
   "id": "2e8646fd",
   "metadata": {},
   "outputs": [],
   "source": [
    "#Veriler homojen olmadığı için ANOVA yerine Welch's ANOVA testine geçiyoruz\n",
    "import pingouin as pg\n",
    "\n",
    "anova = pg.welch_anova(data=df,dv=\"Getiri\",between=\"Gün\")\n",
    "print(anova)"
   ]
  },
  {
   "cell_type": "code",
   "execution_count": null,
   "id": "17a80122",
   "metadata": {},
   "outputs": [],
   "source": [
    "grup = df.groupby(\"Gün\")[\"Getiri\"]\n",
    "print(grup.mean()*100)"
   ]
  }
 ],
 "metadata": {
  "kernelspec": {
   "display_name": "Python 3 (ipykernel)",
   "language": "python",
   "name": "python3"
  },
  "language_info": {
   "codemirror_mode": {
    "name": "ipython",
    "version": 3
   },
   "file_extension": ".py",
   "mimetype": "text/x-python",
   "name": "python",
   "nbconvert_exporter": "python",
   "pygments_lexer": "ipython3",
   "version": "3.11.4"
  }
 },
 "nbformat": 4,
 "nbformat_minor": 5
}
