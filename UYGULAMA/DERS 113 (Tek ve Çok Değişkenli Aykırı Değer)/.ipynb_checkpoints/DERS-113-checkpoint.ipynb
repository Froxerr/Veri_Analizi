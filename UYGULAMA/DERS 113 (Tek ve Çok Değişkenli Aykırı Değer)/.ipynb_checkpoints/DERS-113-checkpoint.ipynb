{
 "cells": [
  {
   "cell_type": "code",
   "execution_count": null,
   "id": "d54c03b4",
   "metadata": {},
   "outputs": [],
   "source": [
    "import matplotlib.pyplot as plt\n",
    "import seaborn as sns"
   ]
  },
  {
   "cell_type": "code",
   "execution_count": null,
   "id": "27fd6d2b",
   "metadata": {},
   "outputs": [],
   "source": [
    "#TEK DEĞİŞKENLİ AYKIRI DEĞER\n",
    "yas = [30,32,33,35,36,32,34,30,110]\n",
    "\n",
    "sns.boxplot(yas)\n",
    "plt.show()"
   ]
  },
  {
   "cell_type": "code",
   "execution_count": null,
   "id": "0ac9b8ae",
   "metadata": {},
   "outputs": [],
   "source": [
    "#ÇOK DEĞİŞKENLİ AYKIRI DEĞER\n",
    "yas = [30,32,33,35,36]\n",
    "yil = [7,10,9,12,25]\n",
    "sns.scatterplot(x=yas,y=yil)\n",
    "plt.show()"
   ]
  }
 ],
 "metadata": {
  "kernelspec": {
   "display_name": "Python 3 (ipykernel)",
   "language": "python",
   "name": "python3"
  },
  "language_info": {
   "codemirror_mode": {
    "name": "ipython",
    "version": 3
   },
   "file_extension": ".py",
   "mimetype": "text/x-python",
   "name": "python",
   "nbconvert_exporter": "python",
   "pygments_lexer": "ipython3",
   "version": "3.11.4"
  }
 },
 "nbformat": 4,
 "nbformat_minor": 5
}
