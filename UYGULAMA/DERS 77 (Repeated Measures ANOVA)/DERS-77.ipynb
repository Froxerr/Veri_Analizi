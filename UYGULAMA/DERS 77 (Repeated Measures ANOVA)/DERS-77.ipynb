{
 "cells": [
  {
   "cell_type": "code",
   "execution_count": null,
   "id": "31eaf9b1",
   "metadata": {},
   "outputs": [],
   "source": [
    "import pandas as pd\n",
    "import pingouin as pg"
   ]
  },
  {
   "cell_type": "code",
   "execution_count": null,
   "id": "12cd8b11",
   "metadata": {},
   "outputs": [],
   "source": [
    "#Ornek 1\n",
    "#Bir kan değeri kontrolü yapıyoruz kişiler üzerinde ve belirli bir zaman aralığında toplam 4 test gerçekleştiriyoruz\n",
    "#Bu kan değerlerinin verilerini alarak analiz yapıyoruz"
   ]
  },
  {
   "cell_type": "code",
   "execution_count": null,
   "id": "c615efd4",
   "metadata": {},
   "outputs": [],
   "source": [
    "df = pd.DataFrame(pd.read_excel(\"ornek.xlsx\"))\n",
    "df"
   ]
  },
  {
   "cell_type": "code",
   "execution_count": null,
   "id": "789a1d08",
   "metadata": {
    "scrolled": true
   },
   "outputs": [],
   "source": [
    "df = df.melt(id_vars=[\"Örneklem\"],var_name=\"Testler\",value_name=\"Puanlar\")\n",
    "df"
   ]
  },
  {
   "cell_type": "code",
   "execution_count": null,
   "id": "fbe692f1",
   "metadata": {},
   "outputs": [],
   "source": [
    "#dv = Bağımlı değişken\n",
    "#Group = Testler\n",
    "#method = Normallik testini hangi methotda kullanmak istiyorsunuz\n",
    "normallik = pg.normality(df,dv=\"Puanlar\",group=\"Testler\",method=\"shapiro\")\n",
    "print(normallik)"
   ]
  },
  {
   "cell_type": "code",
   "execution_count": null,
   "id": "a5ee3df6",
   "metadata": {},
   "outputs": [],
   "source": [
    "#subject = Konu, Kategorik değişkenleri yolluyoruz\n",
    "#within = Neleri karşılaştıracağını soruyor\n",
    "homojenlik = pg.sphericity(df,dv=\"Puanlar\",subject=\"Örneklem\",within=\"Testler\")\n",
    "print(homojenlik)"
   ]
  },
  {
   "cell_type": "code",
   "execution_count": null,
   "id": "8a0be323",
   "metadata": {},
   "outputs": [],
   "source": [
    "anova = pg.rm_anova(df,dv=\"Puanlar\",subject=\"Örneklem\",within=\"Testler\")\n",
    "print(anova)"
   ]
  },
  {
   "cell_type": "code",
   "execution_count": null,
   "id": "2e4b289b",
   "metadata": {},
   "outputs": [],
   "source": [
    "#padjust = Bonferroni düzeltme yapısı alfa şişmelerini biraz da olsun önlemek için yapılan bir yapı\n",
    "posthoc = pg.pairwise_tests(df,dv=\"Puanlar\",subject=\"Örneklem\",within=\"Testler\",padjust=\"bonf\")\n",
    "print(posthoc)\n",
    "#Yapılan analiz sonucunda TS3 ile TÖ arasında bir fark olduğu görülmüştür yani ilaç orada işe yaramış"
   ]
  },
  {
   "cell_type": "code",
   "execution_count": null,
   "id": "85e47272",
   "metadata": {},
   "outputs": [],
   "source": [
    "grup = df.groupby(\"Testler\").mean(numeric_only=True)\n",
    "print(grup)"
   ]
  }
 ],
 "metadata": {
  "kernelspec": {
   "display_name": "Python 3 (ipykernel)",
   "language": "python",
   "name": "python3"
  },
  "language_info": {
   "codemirror_mode": {
    "name": "ipython",
    "version": 3
   },
   "file_extension": ".py",
   "mimetype": "text/x-python",
   "name": "python",
   "nbconvert_exporter": "python",
   "pygments_lexer": "ipython3",
   "version": "3.11.4"
  }
 },
 "nbformat": 4,
 "nbformat_minor": 5
}
