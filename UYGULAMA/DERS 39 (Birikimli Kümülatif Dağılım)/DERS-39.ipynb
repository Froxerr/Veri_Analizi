{
 "cells": [
  {
   "cell_type": "code",
   "execution_count": null,
   "id": "91dbb991",
   "metadata": {},
   "outputs": [],
   "source": [
    "from scipy import stats"
   ]
  },
  {
   "cell_type": "code",
   "execution_count": null,
   "id": "af9e8f5b",
   "metadata": {},
   "outputs": [],
   "source": [
    "#Ortalama:15 | Varyans:9\n",
    "# x < 11\n",
    "\n",
    "olasilik = stats.norm(loc=15,scale=3).cdf(11)\n",
    "print(olasilik)"
   ]
  },
  {
   "cell_type": "code",
   "execution_count": null,
   "id": "7e04a222",
   "metadata": {},
   "outputs": [],
   "source": [
    "#Ortalama:15 | Varyans:9 | istenilen 11'den küçük aralık\n",
    "#OYF = OLASILIK YOĞUNLUK FONKSİYONU\n",
    "#PDF İSE İNGİLİZCE KISALTILMIŞ HALİ\n",
    "#x 11 olma sebebi 11'den küçük olma olasılığını hesaplamak istediğimiz için\n",
    "#scale 3 olma sebebi, varyansın karesi olduğu için\n",
    "olasilik = stats.norm.pdf(x=11,loc=15,scale=3)\n",
    "print(olasilik)\n",
    "# \n",
    "#Yukarıda 0.09 çıkıp burada 0.05 çıkma sebebi,\n",
    "#biz burada fonksiyonun değerini hesaplatıyoruz, yani f(x) yazıyordu ya, ona karşılık gelen değeri bulduk\n",
    "#Yukarıda ise, o alana karşılık gelen değeri bulmuş olduğumuz için"
   ]
  },
  {
   "cell_type": "code",
   "execution_count": null,
   "id": "b0064fbf",
   "metadata": {},
   "outputs": [],
   "source": [
    "#CDF = BİRİKİMLİ DAĞILIM FONKSİYONU ANLAMINA GELİR\n",
    "olasilik = stats.norm.cdf(x=11,loc=15,scale=3)\n",
    "print(olasilik)"
   ]
  },
  {
   "cell_type": "code",
   "execution_count": null,
   "id": "3005dad8",
   "metadata": {},
   "outputs": [],
   "source": [
    "# Para atma örneğinden kümülatif bir şekilde toplanması\n",
    "import matplotlib.pyplot as plt\n",
    "import seaborn as sns\n",
    "\n",
    "x=[*range(0,4)]\n",
    "p=[1/8,3/8,3/8,1/8]\n",
    "\n",
    "#cum = kümülatif\n",
    "cum=[]\n",
    "\n",
    "for i in range(0,len(p)):\n",
    "    if(len(cum) == 0):\n",
    "        cum.append(p[0])\n",
    "    else:\n",
    "        cum.append(p[i] + cum[i-1])\n",
    "\n",
    "plt.plot(x,cum,drawstyle=\"steps\")\n",
    "plt.show()"
   ]
  },
  {
   "cell_type": "code",
   "execution_count": null,
   "id": "f4a24fc9",
   "metadata": {},
   "outputs": [],
   "source": [
    "import numpy as np\n",
    "x = np.random.randn(10000)\n",
    "pdf = stats.norm.pdf(x)\n",
    "cdf = stats.norm.cdf(x)\n",
    "sns.lineplot(x=x,y=pdf)\n",
    "sns.lineplot(x=x,y=cdf)\n",
    "plt.show()"
   ]
  }
 ],
 "metadata": {
  "kernelspec": {
   "display_name": "Python 3 (ipykernel)",
   "language": "python",
   "name": "python3"
  },
  "language_info": {
   "codemirror_mode": {
    "name": "ipython",
    "version": 3
   },
   "file_extension": ".py",
   "mimetype": "text/x-python",
   "name": "python",
   "nbconvert_exporter": "python",
   "pygments_lexer": "ipython3",
   "version": "3.11.4"
  }
 },
 "nbformat": 4,
 "nbformat_minor": 5
}
