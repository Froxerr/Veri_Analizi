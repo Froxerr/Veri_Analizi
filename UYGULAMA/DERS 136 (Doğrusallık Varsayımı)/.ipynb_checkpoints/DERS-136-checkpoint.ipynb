{
 "cells": [
  {
   "cell_type": "code",
   "execution_count": null,
   "id": "cc032a9a",
   "metadata": {},
   "outputs": [],
   "source": [
    "import pandas as pd\n",
    "import seaborn as sns\n",
    "import matplotlib.pyplot as plt\n",
    "import statsmodels.api as sm"
   ]
  },
  {
   "cell_type": "code",
   "execution_count": null,
   "id": "6fc53947",
   "metadata": {},
   "outputs": [],
   "source": [
    "df = pd.DataFrame(pd.read_csv(\"Advertising.csv\"))\n",
    "df.drop(df.columns[0],inplace=True,axis=1)\n",
    "df.head()\n",
    "#Tv Radio ve Gazetenin, satışlar üzerine etkisini araştırıyoruz"
   ]
  },
  {
   "cell_type": "code",
   "execution_count": null,
   "id": "2afdecaf",
   "metadata": {},
   "outputs": [],
   "source": [
    "#Tv radio ve gazetenin satış ile bir doğrusal ilişki olması gerekiyor\n",
    "#y_vars = Bağımlı değişken\n",
    "sns.pairplot(df,y_vars=\"Sales\",x_vars=[\"TV\",\"Radio\",\"Newspaper\"],kind=\"reg\")\n",
    "plt.show()#Tv bir doğrusallıktan bahsedebiliriz\n",
    "#Radio, TV kadar olmasa da bir doğrusallıktan bahsedebiliriz\n",
    "#gazete ise doğrusallıkla alakası yok"
   ]
  },
  {
   "cell_type": "code",
   "execution_count": null,
   "id": "1e0e4690",
   "metadata": {},
   "outputs": [],
   "source": [
    "y=df[\"Sales\"]\n",
    "x=df[[\"TV\",\"Radio\"]]\n",
    "\n",
    "sabit = sm.add_constant(x)\n",
    "model = sm.OLS(y,sabit).fit()\n",
    "print(model.summary())"
   ]
  }
 ],
 "metadata": {
  "kernelspec": {
   "display_name": "Python 3 (ipykernel)",
   "language": "python",
   "name": "python3"
  },
  "language_info": {
   "codemirror_mode": {
    "name": "ipython",
    "version": 3
   },
   "file_extension": ".py",
   "mimetype": "text/x-python",
   "name": "python",
   "nbconvert_exporter": "python",
   "pygments_lexer": "ipython3",
   "version": "3.11.4"
  }
 },
 "nbformat": 4,
 "nbformat_minor": 5
}
