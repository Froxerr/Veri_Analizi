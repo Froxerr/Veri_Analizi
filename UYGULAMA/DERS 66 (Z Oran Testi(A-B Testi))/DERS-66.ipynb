{
 "cells": [
  {
   "cell_type": "code",
   "execution_count": 1,
   "id": "f3256071",
   "metadata": {},
   "outputs": [],
   "source": [
    "from statsmodels.stats.proportion import proportions_ztest\n",
    "import numpy as np"
   ]
  },
  {
   "cell_type": "code",
   "execution_count": null,
   "id": "fa35ab69",
   "metadata": {},
   "outputs": [],
   "source": [
    "#Erkeklerin haber izleme oranlarının kadınlardan daha fazla olduğu iddia edilmektedir\n",
    "#Bu analiz için 50 erkek ve 50 kadın örneklem alınmıştır\n",
    "#Sonuç olarak, erkeklerden 50 kişiden 45'inin haberleri takip ettiği\n",
    "#kadınlardan da 50 kişiden 40'ının haberleri takip ettiği sonucuna ulaşılmıştır\n",
    "#Bu iddiayı istatistiksel olarak test etmek istiyoruz\n",
    "#Ho = Pe = Pk\n",
    "#H1 = Pe > Pk"
   ]
  },
  {
   "cell_type": "code",
   "execution_count": 3,
   "id": "57547455",
   "metadata": {},
   "outputs": [
    {
     "name": "stdout",
     "output_type": "stream",
     "text": [
      "(1.4002800840280094, 0.08071473118354161)\n"
     ]
    }
   ],
   "source": [
    "basari = np.array([45,40]) #Erkekler de 45 kadınlar da 40 başarı değeri\n",
    "gozlem = np.array([50,50])\n",
    "\n",
    "test = proportions_ztest(basari,gozlem,alternative=\"larger\")\n",
    "print(test)"
   ]
  }
 ],
 "metadata": {
  "kernelspec": {
   "display_name": "Python 3 (ipykernel)",
   "language": "python",
   "name": "python3"
  },
  "language_info": {
   "codemirror_mode": {
    "name": "ipython",
    "version": 3
   },
   "file_extension": ".py",
   "mimetype": "text/x-python",
   "name": "python",
   "nbconvert_exporter": "python",
   "pygments_lexer": "ipython3",
   "version": "3.11.4"
  }
 },
 "nbformat": 4,
 "nbformat_minor": 5
}
