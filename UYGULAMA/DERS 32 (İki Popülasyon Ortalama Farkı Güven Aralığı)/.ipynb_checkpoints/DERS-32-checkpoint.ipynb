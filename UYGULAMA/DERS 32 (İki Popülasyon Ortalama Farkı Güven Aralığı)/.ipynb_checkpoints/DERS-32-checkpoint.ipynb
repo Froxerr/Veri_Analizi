{
 "cells": [
  {
   "cell_type": "code",
   "execution_count": null,
   "id": "06c9182c",
   "metadata": {},
   "outputs": [],
   "source": [
    "import numpy as np\n",
    "from scipy import stats"
   ]
  },
  {
   "cell_type": "code",
   "execution_count": null,
   "id": "f711810d",
   "metadata": {},
   "outputs": [],
   "source": [
    "#1. ORNEK"
   ]
  },
  {
   "cell_type": "code",
   "execution_count": null,
   "id": "97d68ab6",
   "metadata": {},
   "outputs": [],
   "source": [
    "#Z TABLO\n",
    "n1=28\n",
    "n2=30\n",
    "var1=164\n",
    "var2=216\n",
    "ort1=32\n",
    "ort2=26\n",
    "guven=0.95\n",
    "\n",
    "aralik = stats.norm.interval(confidence=guven,loc=(ort1-ort2),scale=np.sqrt((var1/n1)+(var2/n2)))\n",
    "print(aralik)"
   ]
  },
  {
   "cell_type": "code",
   "execution_count": null,
   "id": "48a77efa",
   "metadata": {},
   "outputs": [],
   "source": [
    "#2. ORNEK"
   ]
  },
  {
   "cell_type": "code",
   "execution_count": null,
   "id": "276151af",
   "metadata": {},
   "outputs": [],
   "source": [
    "#Z TABLO\n",
    "ingn = 30\n",
    "frn = 40\n",
    "ingort = 182\n",
    "frort = 176\n",
    "ingvar = 196\n",
    "frvar = 144\n",
    "guven = 0.95\n",
    "\n",
    "aralik = stats.norm.interval(confidence=guven,loc=(ingort-frort),scale=np.sqrt((ingvar/ingn)+(frvar/frn)))\n",
    "print(aralik)"
   ]
  },
  {
   "cell_type": "code",
   "execution_count": null,
   "id": "ab94198c",
   "metadata": {},
   "outputs": [],
   "source": [
    "#3. ORNEK"
   ]
  },
  {
   "cell_type": "code",
   "execution_count": null,
   "id": "16dcb299",
   "metadata": {},
   "outputs": [],
   "source": [
    "#T TABLO\n",
    "#Varyanslar birleştiriliyor\n",
    "#df = Serbestlik derecesidir | İki popülasyonun varyansları toplamından 2 çıkarılır\n",
    "n1=8\n",
    "n2=10\n",
    "birvar=0.05\n",
    "ort1=3\n",
    "ort2=2.7\n",
    "guven=0.95\n",
    "#Serbestlik derecesi (df) hesaplanırken, \n",
    "#formül içinde 1/n1 + 1/n2 kısmı karekökün içinde yer aldığı için bu ifade başka bir değişkene atanır\n",
    "n3 = ((1/n1)+(1/n2))\n",
    "aralik = stats.t.interval(confidence=guven,df=((n1+n2)-2),loc=(ort1-ort2),scale=np.sqrt(n3*birvar))\n",
    "print(aralik)"
   ]
  }
 ],
 "metadata": {
  "kernelspec": {
   "display_name": "Python 3 (ipykernel)",
   "language": "python",
   "name": "python3"
  },
  "language_info": {
   "codemirror_mode": {
    "name": "ipython",
    "version": 3
   },
   "file_extension": ".py",
   "mimetype": "text/x-python",
   "name": "python",
   "nbconvert_exporter": "python",
   "pygments_lexer": "ipython3",
   "version": "3.11.4"
  }
 },
 "nbformat": 4,
 "nbformat_minor": 5
}
