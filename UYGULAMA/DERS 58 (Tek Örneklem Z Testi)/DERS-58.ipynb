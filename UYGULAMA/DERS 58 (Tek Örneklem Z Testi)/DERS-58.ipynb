{
 "cells": [
  {
   "cell_type": "code",
   "execution_count": null,
   "id": "355dd5e5",
   "metadata": {},
   "outputs": [],
   "source": [
    "pip install statsmodels"
   ]
  },
  {
   "cell_type": "code",
   "execution_count": null,
   "id": "ef399ffe",
   "metadata": {},
   "outputs": [],
   "source": [
    "from statsmodels.stats.weightstats import ztest"
   ]
  },
  {
   "cell_type": "code",
   "execution_count": null,
   "id": "de7889a0",
   "metadata": {},
   "outputs": [],
   "source": [
    "#Okula gidişi max 80 dakika olduğu bilgisi veriliyor ve bir kişi çıkıp da 'Hayır, kardeşim, 80 dakikadan daha uzun sürüyor,' \n",
    "#diyor\n",
    "#Popülasyon standart sapması = 21 dakika\n",
    "#Aldığımız örneklem sayısı = 9\n",
    "#Örneklemlerimiz = 95, 70, 120, 65, 130, 38, 110, 90, 60\n",
    "#Güven aralığımız %95\n",
    "#H0 = M = 80 | H1 = M > 80"
   ]
  },
  {
   "cell_type": "code",
   "execution_count": null,
   "id": "56b010ac",
   "metadata": {},
   "outputs": [],
   "source": [
    "veri = [95,70,120,65,130,38,110,90,60] #Örneklemlerimizin değeri\n",
    "alfa = 0.05 #Tek kuyruklu olduğu için %5'lik olarak alıyoruz\n",
    "\n",
    "#value = 80 olan bizim okula gidiş max 80 dediğimiz değer\n",
    "#Büyüktür olduğu için alternative = larger diyoruz \n",
    "#Küçüktür olsaydı smaller\n",
    "#Çift kuyruklu olsaydı two-sided diyecektik\n",
    "zhesap,p = ztest(veri,value=80,alternative=\"larger\")\n",
    "print(zhesap,p)\n",
    "\n",
    "if p < alfa:\n",
    "    print(\"Ho Reddedilir\")\n",
    "else:\n",
    "    print(\"H0 Reddedilemez\")"
   ]
  }
 ],
 "metadata": {
  "kernelspec": {
   "display_name": "Python 3 (ipykernel)",
   "language": "python",
   "name": "python3"
  },
  "language_info": {
   "codemirror_mode": {
    "name": "ipython",
    "version": 3
   },
   "file_extension": ".py",
   "mimetype": "text/x-python",
   "name": "python",
   "nbconvert_exporter": "python",
   "pygments_lexer": "ipython3",
   "version": "3.11.4"
  }
 },
 "nbformat": 4,
 "nbformat_minor": 5
}
