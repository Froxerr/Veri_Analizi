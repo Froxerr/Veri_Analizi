{
 "cells": [
  {
   "cell_type": "code",
   "execution_count": null,
   "id": "c51b2c9e",
   "metadata": {},
   "outputs": [],
   "source": [
    "from scipy import stats"
   ]
  },
  {
   "cell_type": "code",
   "execution_count": null,
   "id": "2e99bbb6",
   "metadata": {},
   "outputs": [],
   "source": [
    "#KESİKLİ ZAR ÖRNEĞİ"
   ]
  },
  {
   "cell_type": "code",
   "execution_count": null,
   "id": "bc1f8b6e",
   "metadata": {},
   "outputs": [],
   "source": [
    "x=[*range(1,7)]\n",
    "p=[1/6,1/6,1/6,1/6,1/6,1/6]\n",
    "#continuous = Sürekli\n",
    "#discrete = Kesikli\n",
    "#expect = Toplama işlemini hallediyor\n",
    "beklenendeg = stats.rv_discrete(values=([x],[p])).expect()\n",
    "print(beklenendeg)"
   ]
  },
  {
   "cell_type": "code",
   "execution_count": null,
   "id": "6b72de8d",
   "metadata": {},
   "outputs": [],
   "source": [
    "#KESİKLİ YAZI TURA ÖRNEĞİ"
   ]
  },
  {
   "cell_type": "code",
   "execution_count": null,
   "id": "7f379d46",
   "metadata": {},
   "outputs": [],
   "source": [
    "x=[*range(0,4)]\n",
    "p=[1/8,3/8,3/8,1/8]\n",
    "#continuous = Sürekli\n",
    "#discrete = Kesikli\n",
    "#expect = Toplama işlemini hallediyor\n",
    "beklenendeg = stats.rv_discrete(values=([x],[p])).expect()\n",
    "print(beklenendeg)"
   ]
  },
  {
   "cell_type": "code",
   "execution_count": null,
   "id": "f46a58b5",
   "metadata": {},
   "outputs": [],
   "source": [
    "#SÜREKLİ DEĞİŞKEN ÖRNEĞİ"
   ]
  },
  {
   "cell_type": "code",
   "execution_count": null,
   "id": "2219b721",
   "metadata": {},
   "outputs": [],
   "source": [
    "import scipy.integrate # integral almak için modül yüklüyoruz"
   ]
  },
  {
   "cell_type": "code",
   "execution_count": null,
   "id": "2845c1ed",
   "metadata": {},
   "outputs": [],
   "source": [
    "def f(x):\n",
    "    return((3/7)*x**3)\n",
    "#tanımladığımız f(x) de rastgele bir fonksiyon \n",
    "# 1 = Alt sınır | 2 = Üst sınır hani 1< x < 2 muhabbetinden geliyor\n",
    "beklenendeg = scipy.integrate.quad(f,1,2)\n",
    "\n",
    "print(beklenendeg)"
   ]
  }
 ],
 "metadata": {
  "kernelspec": {
   "display_name": "Python 3 (ipykernel)",
   "language": "python",
   "name": "python3"
  },
  "language_info": {
   "codemirror_mode": {
    "name": "ipython",
    "version": 3
   },
   "file_extension": ".py",
   "mimetype": "text/x-python",
   "name": "python",
   "nbconvert_exporter": "python",
   "pygments_lexer": "ipython3",
   "version": "3.11.4"
  }
 },
 "nbformat": 4,
 "nbformat_minor": 5
}
