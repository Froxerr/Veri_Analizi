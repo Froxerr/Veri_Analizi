{
 "cells": [
  {
   "cell_type": "code",
   "execution_count": null,
   "id": "6af979ed",
   "metadata": {},
   "outputs": [],
   "source": [
    "import pandas as pd\n",
    "from scipy import stats"
   ]
  },
  {
   "cell_type": "code",
   "execution_count": null,
   "id": "d3d882a4",
   "metadata": {},
   "outputs": [],
   "source": [
    "#Ornek1\n",
    "#Bu 2x2'lik bir testtir ve alttakiler sadece 2x2'lik bir tablo için geçerlidir\n",
    "#Kadın ve erkek cinsiyetlerinin sağlak veya solak olması ile ilgili bir araştırma yapıyoruz"
   ]
  },
  {
   "cell_type": "code",
   "execution_count": null,
   "id": "6b0f3899",
   "metadata": {},
   "outputs": [],
   "source": [
    "df = pd.DataFrame(pd.read_excel(\"ornek1.xlsx\"))\n",
    "df.head()"
   ]
  },
  {
   "cell_type": "code",
   "execution_count": null,
   "id": "1b349217",
   "metadata": {},
   "outputs": [],
   "source": [
    "#2x2'lik bir tabloyu frekanslamak istiyorsak bu işlemleri yapıyoruz\n",
    "#index = Sol tarafta bulunmasını istediklerin\n",
    "#Columns = Yukarıda bulunmasını istediklerin\n",
    "tablo = pd.crosstab(index=df[\"Cinsiyet\"],columns=df[\"El\"])\n",
    "tablo"
   ]
  },
  {
   "cell_type": "code",
   "execution_count": null,
   "id": "e0bb98f5",
   "metadata": {},
   "outputs": [],
   "source": [
    "#En küçük beklenen frekansı bulma işlemi\n",
    "#Test değeri, P değeri, sd = Serbestlik derecesi, beklen = En küçük beklenen değer frekansı yani\n",
    "test,p,sd,beklen = stats.chi2_contingency(tablo)\n",
    "print(beklen)\n",
    "#En küçük değer 10.35 çıktı = En küçük beklenen değer 5 < frekans < 25 olan \"Yates ki kare testi\" için geçerlidir"
   ]
  },
  {
   "cell_type": "code",
   "execution_count": null,
   "id": "55e0fd0c",
   "metadata": {},
   "outputs": [],
   "source": [
    "#correction= False = “pearson ki kare testi”  | True = \"yates ki kare testi”\n",
    "test,p,sd,beklen = stats.chi2_contingency(tablo,correction=True)\n",
    "print(test,p)\n",
    "if p > 0.05:\n",
    "    print(\"Cinsiyet ile el arasında %95 güven ile herhangi bir ilişki yoktur\")\n",
    "else:\n",
    "    print(\"Cinsiyet ile el arasında %95 güven ile herhangi bir ilişki vardır\")"
   ]
  },
  {
   "cell_type": "code",
   "execution_count": null,
   "id": "2ce45703",
   "metadata": {},
   "outputs": [],
   "source": [
    "#frekans < 5 “fisher ki kare testi” \n",
    "test = stats.fisher_exact(tablo)\n",
    "print(test)"
   ]
  }
 ],
 "metadata": {
  "kernelspec": {
   "display_name": "Python 3 (ipykernel)",
   "language": "python",
   "name": "python3"
  },
  "language_info": {
   "codemirror_mode": {
    "name": "ipython",
    "version": 3
   },
   "file_extension": ".py",
   "mimetype": "text/x-python",
   "name": "python",
   "nbconvert_exporter": "python",
   "pygments_lexer": "ipython3",
   "version": "3.11.4"
  }
 },
 "nbformat": 4,
 "nbformat_minor": 5
}
