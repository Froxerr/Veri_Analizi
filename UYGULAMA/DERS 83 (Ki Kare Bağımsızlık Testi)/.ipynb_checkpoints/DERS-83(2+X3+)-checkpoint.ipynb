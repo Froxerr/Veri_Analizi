{
 "cells": [
  {
   "cell_type": "code",
   "execution_count": null,
   "id": "9d27281c",
   "metadata": {},
   "outputs": [],
   "source": [
    "import pandas as pd\n",
    "from scipy import stats"
   ]
  },
  {
   "cell_type": "code",
   "execution_count": null,
   "id": "03bca802",
   "metadata": {},
   "outputs": [],
   "source": [
    "#ornek_1\n",
    "#Cinsiyet ile markalar arasında bir ilişki var mı, yok mu, buna bakıyoruz"
   ]
  },
  {
   "cell_type": "code",
   "execution_count": null,
   "id": "fa874ae2",
   "metadata": {},
   "outputs": [],
   "source": [
    "df = pd.DataFrame(pd.read_excel(\"ornek_1.xlsx\"))\n",
    "df.head()"
   ]
  },
  {
   "cell_type": "code",
   "execution_count": null,
   "id": "daf5fb23",
   "metadata": {},
   "outputs": [],
   "source": [
    "tablo = pd.crosstab(index=df[\"Cinsiyet\"],columns=df[\"Marka\"])\n",
    "tablo"
   ]
  },
  {
   "cell_type": "code",
   "execution_count": null,
   "id": "671a5c07",
   "metadata": {},
   "outputs": [],
   "source": [
    "test,p,sd,beklenen = stats.chi2_contingency(tablo)\n",
    "print(beklenen) # 5'ten küçük olan bütün frekansların toplam oranına bakabilmek için"
   ]
  },
  {
   "cell_type": "code",
   "execution_count": null,
   "id": "285390b5",
   "metadata": {},
   "outputs": [],
   "source": [
    "# 5'ten küçük olan bütün değerlerin yüzde kısmına bakabilmek için bir döngü kuruyoruz\n",
    "kucuk = []\n",
    "toplam = []\n",
    "\n",
    "for i in beklenen: #[[1.   1.25 2.25 1.5 ][3.   3.75 6.75 4.5 ]] Önce bu iki listeyi döndürecek\n",
    "    for j in i:#Burada da ilk listenin içindeki değerleri döndürecek\n",
    "        if j < 5: #5'ten küçük olanları ayırıyoruz ki toplam orana dahil olmasınlar\n",
    "            kucuk.append(j)\n",
    "    for j in i:\n",
    "        toplam.append(j)\n",
    "        \n",
    "print((len(kucuk)/len(toplam))*100) #%87'lik dilimin 5'ten küçük beklenen frekansa sahip olduğunu söylüyor\n",
    "#%20'den büyükse \"Fisher ki kare testi\" kullanacağız.\n",
    "#%20'den küçükse \"Pearson ki kare testi\" kullanacağız "
   ]
  },
  {
   "cell_type": "code",
   "execution_count": null,
   "id": "bb4a501d",
   "metadata": {},
   "outputs": [],
   "source": [
    "#EĞER %20'DEN KÜÇÜK OLSAYDI, BUNU YAPACAKTIK\n",
    "#correction= False = “pearson ki kare testi”  | True = \"yates ki kare testi”\n",
    "test,p,sd,beklenen = stats.chi2_contingency(tablo,correction=False)\n",
    "print(test,p) #5'ten küçük olan bütün frekansların toplam oranına bakabilmek için"
   ]
  },
  {
   "cell_type": "code",
   "execution_count": null,
   "id": "5cf9959f",
   "metadata": {},
   "outputs": [],
   "source": [
    "#%20'den büyükse \"Fisher ki kare testi\" PYTHON ÜZERİNDEN YAPILMIYOR"
   ]
  }
 ],
 "metadata": {
  "kernelspec": {
   "display_name": "Python 3 (ipykernel)",
   "language": "python",
   "name": "python3"
  },
  "language_info": {
   "codemirror_mode": {
    "name": "ipython",
    "version": 3
   },
   "file_extension": ".py",
   "mimetype": "text/x-python",
   "name": "python",
   "nbconvert_exporter": "python",
   "pygments_lexer": "ipython3",
   "version": "3.11.4"
  }
 },
 "nbformat": 4,
 "nbformat_minor": 5
}
