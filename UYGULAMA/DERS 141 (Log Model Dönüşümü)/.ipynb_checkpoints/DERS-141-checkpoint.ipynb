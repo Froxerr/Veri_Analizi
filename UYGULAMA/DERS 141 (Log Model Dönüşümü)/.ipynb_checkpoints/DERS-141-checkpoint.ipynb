{
 "cells": [
  {
   "cell_type": "code",
   "execution_count": null,
   "id": "43a40a1d",
   "metadata": {},
   "outputs": [],
   "source": [
    "import pandas as pd\n",
    "import statsmodels.api as sm\n",
    "import statsmodels.stats.diagnostic as smd\n",
    "import numpy as np"
   ]
  },
  {
   "cell_type": "code",
   "execution_count": null,
   "id": "0cc505a9",
   "metadata": {},
   "outputs": [],
   "source": [
    "df = pd.DataFrame(pd.read_excel(\"ornek.xlsx\"))\n",
    "df.head()"
   ]
  },
  {
   "cell_type": "code",
   "execution_count": null,
   "id": "68813915",
   "metadata": {},
   "outputs": [],
   "source": [
    "y = df[\"Y\"]\n",
    "x = df[\"X\"]\n",
    "\n",
    "sabit = sm.add_constant(x)\n",
    "model = sm.OLS(y,sabit).fit()\n",
    "print(model.summary())\n",
    "\n",
    "hata = model.resid\n",
    "\n",
    "wt = smd.het_white(hata,model.model.exog)\n",
    "print(wt)\n",
    "\n",
    "bpt = smd.het_breuschpagan(hata,model.model.exog)\n",
    "print(bpt)"
   ]
  },
  {
   "cell_type": "code",
   "execution_count": null,
   "id": "52f26ad7",
   "metadata": {},
   "outputs": [],
   "source": [
    "#Logaritmik model dönüşümü, \n",
    "#sabit varyans varsayımının geçerli olmadığı durumlarda kullanılır ve verileri daha homojen hale getirir\n",
    "y = np.log(df[\"Y\"])\n",
    "x = np.log(df[\"X\"])\n",
    "\n",
    "sabit = sm.add_constant(x)\n",
    "model = sm.OLS(y,sabit).fit()\n",
    "print(model.summary())\n",
    "\n",
    "hata = model.resid\n",
    "\n",
    "wt = smd.het_white(hata,model.model.exog)\n",
    "print(wt)\n",
    "\n",
    "bpt = smd.het_breuschpagan(hata,model.model.exog)\n",
    "print(bpt)\n",
    "#Logaritmik bir model kullanıyorsanız, \n",
    "#model yorumlamasında birimlik değişim yerine yüzdelik değişimleri kullanmanız daha doğru olacaktır\n",
    "\n",
    "#Normalde, 1 birimlik değişim y'yi 0.75 birim etkilerken, \n",
    "#logaritmik dönüşüm sonrası, %1'lik bir değişim y'yi %0.75 oranında etkiler"
   ]
  }
 ],
 "metadata": {
  "kernelspec": {
   "display_name": "Python 3 (ipykernel)",
   "language": "python",
   "name": "python3"
  },
  "language_info": {
   "codemirror_mode": {
    "name": "ipython",
    "version": 3
   },
   "file_extension": ".py",
   "mimetype": "text/x-python",
   "name": "python",
   "nbconvert_exporter": "python",
   "pygments_lexer": "ipython3",
   "version": "3.11.4"
  }
 },
 "nbformat": 4,
 "nbformat_minor": 5
}
