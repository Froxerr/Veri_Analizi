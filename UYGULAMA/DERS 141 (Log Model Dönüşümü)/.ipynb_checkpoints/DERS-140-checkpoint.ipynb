{
 "cells": [
  {
   "cell_type": "code",
   "execution_count": null,
   "id": "43a40a1d",
   "metadata": {},
   "outputs": [],
   "source": [
    "import pandas as pd\n",
    "import statsmodels.api as sm\n",
    "import statsmodels.stats.diagnostic as smd"
   ]
  },
  {
   "cell_type": "code",
   "execution_count": null,
   "id": "0cc505a9",
   "metadata": {},
   "outputs": [],
   "source": [
    "df = pd.DataFrame(pd.read_csv(\"Advertising.csv\"))\n",
    "df.drop(df.columns[0],inplace=True,axis=1)\n",
    "df.head()"
   ]
  },
  {
   "cell_type": "code",
   "execution_count": null,
   "id": "9b91f1d3",
   "metadata": {},
   "outputs": [],
   "source": [
    "y = df[\"Sales\"]\n",
    "x = df[[\"Radio\",\"TV\"]]\n",
    "sabit = sm.add_constant(x)\n",
    "model = sm.OLS(y,sabit).fit()\n",
    "print(model.summary())"
   ]
  },
  {
   "cell_type": "code",
   "execution_count": null,
   "id": "27edfc21",
   "metadata": {},
   "outputs": [],
   "source": [
    "#Sabit varyans hipotez testleri:Ho = Sabit varyans olduğunu söyler | H1 = Değişen varyans olmadığını söyler\n",
    "#Amacımız Ho hipotezini reddemiyor olmamız gerek\n",
    "hata = model.resid"
   ]
  },
  {
   "cell_type": "code",
   "execution_count": null,
   "id": "b702d237",
   "metadata": {},
   "outputs": [],
   "source": [
    "#1. Test\n",
    "whitetest = smd.het_white(hata,model.model.exog)\n",
    "print(whitetest)#4. Parametreye bakıyoruz\n",
    "#0.05 değerinden küçük olduğu için Ho reddedilir"
   ]
  },
  {
   "cell_type": "code",
   "execution_count": null,
   "id": "8adc2947",
   "metadata": {},
   "outputs": [],
   "source": [
    "#2. Test\n",
    "BPtest = smd.het_breuschpagan(hata,model.model.exog)\n",
    "print(BPtest)#4. Parametreye bakıyoruz\n",
    "#0.05 değerinden büyük olduğu için Ho reddedilemez"
   ]
  }
 ],
 "metadata": {
  "kernelspec": {
   "display_name": "Python 3 (ipykernel)",
   "language": "python",
   "name": "python3"
  },
  "language_info": {
   "codemirror_mode": {
    "name": "ipython",
    "version": 3
   },
   "file_extension": ".py",
   "mimetype": "text/x-python",
   "name": "python",
   "nbconvert_exporter": "python",
   "pygments_lexer": "ipython3",
   "version": "3.11.4"
  }
 },
 "nbformat": 4,
 "nbformat_minor": 5
}
