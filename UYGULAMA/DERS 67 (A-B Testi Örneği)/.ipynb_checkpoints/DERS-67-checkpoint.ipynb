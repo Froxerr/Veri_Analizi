{
 "cells": [
  {
   "cell_type": "code",
   "execution_count": null,
   "id": "8f61dcd2",
   "metadata": {},
   "outputs": [],
   "source": [
    "import pandas as pd\n",
    "from statsmodels.stats.proportion import proportions_ztest"
   ]
  },
  {
   "cell_type": "code",
   "execution_count": null,
   "id": "580e66c2",
   "metadata": {},
   "outputs": [],
   "source": [
    "#Ornek\n",
    "#Bir e-ticaret sitemiz var, ancak satışlardan memnun değiliz. Bir kitapta, sitenin tasarımı ile kazanç arasında\n",
    "#Bir ilişki olduğu ile ilgili bir cümle okuyoruz. Sonra tasarımcıyla konuşuyoruz, o da diyor ki:\n",
    "#'Elimde harika bir tasarım var, istersen 30 günlüğüne deneme için sana vereyim. Belirli bir kitleye eski tasarımı, \n",
    "#belirli bir kitleye yeni tasarımı gösterelim. Sonra verileri toplayıp analiz yapalım.'"
   ]
  },
  {
   "cell_type": "code",
   "execution_count": null,
   "id": "795f534a",
   "metadata": {},
   "outputs": [],
   "source": [
    "df = pd.DataFrame(pd.read_excel(\"ornek.xlsx\"))\n",
    "df.head(10)"
   ]
  },
  {
   "cell_type": "code",
   "execution_count": null,
   "id": "a60ab570",
   "metadata": {},
   "outputs": [],
   "source": [
    "tablo = pd.crosstab(df[\"Grup\"],df[\"Sayfa\"])\n",
    "tablo"
   ]
  },
  {
   "cell_type": "code",
   "execution_count": null,
   "id": "c437ee52",
   "metadata": {},
   "outputs": [],
   "source": [
    "#Random_State = random.seed ile aynı muhabbet işte\n",
    "#Sample = örnek demek, Türkçesi zaten\n",
    "kontrol = df[df[\"Grup\"] == \"Kontrol\"].sample(n=5000,random_state=42)\n",
    "deneysel = df[df[\"Grup\"] == \"Deneysel\"].sample(n=5000,random_state=42)\n",
    "\n",
    "print(kontrol.count())\n",
    "print(deneysel.count())"
   ]
  },
  {
   "cell_type": "code",
   "execution_count": null,
   "id": "df966312",
   "metadata": {},
   "outputs": [],
   "source": [
    "#Ayrı bir Excel dosyası oluşturup bu çektiğimiz 5k 5k örneği bu veri yeniye atıyoruz\n",
    "#concat = Değişkenleri tablo halinde birleştirecek bir yapıdır\n",
    "veriyeni = pd.concat([kontrol,deneysel],axis=0)\n",
    "#Adam gelecek, rasgele seçtiği 395. indexli bir yapıyı görmek istemiyorum, onun yerine ben \n",
    "#yeni bir indexli değer görmek istiyorum, bu reset_index o işe yarıyor\n",
    "veriyeni.reset_index(drop=True,inplace=True)\n",
    "print(veriyeni)"
   ]
  },
  {
   "cell_type": "code",
   "execution_count": null,
   "id": "1765772e",
   "metadata": {},
   "outputs": [],
   "source": [
    "#Grupları deneysel ve kontrol olarak ayırıp satış değerlerine göre sıralayacak\n",
    "gruplama = veriyeni.groupby(\"Grup\")[\"Satış\"]\n",
    "gruplama.mean()"
   ]
  },
  {
   "cell_type": "code",
   "execution_count": null,
   "id": "c98b32a1",
   "metadata": {},
   "outputs": [],
   "source": [
    "#10k verisi olan veriye gidip grupları kontrol olanlarını sıralayacak ve satış değerlerini alacak\n",
    "kontrol2 = veriyeni[veriyeni[\"Grup\"] == \"Kontrol\"][\"Satış\"]\n",
    "deneysel2 = veriyeni[veriyeni[\"Grup\"] == \"Deneysel\"][\"Satış\"]\n",
    "#basari = p Şapkayı bulmak için oluşturuyoruz\n",
    "basari = [kontrol2.sum(),deneysel2.sum()]\n",
    "gozlem = [kontrol2.count(),deneysel2.count()]\n",
    "\n",
    "test,p = proportions_ztest(basari,gozlem,alternative=\"two-sided\")\n",
    "print(f\"Test Sonucu: {test} P-Değeri: {p}\")"
   ]
  }
 ],
 "metadata": {
  "kernelspec": {
   "display_name": "Python 3 (ipykernel)",
   "language": "python",
   "name": "python3"
  },
  "language_info": {
   "codemirror_mode": {
    "name": "ipython",
    "version": 3
   },
   "file_extension": ".py",
   "mimetype": "text/x-python",
   "name": "python",
   "nbconvert_exporter": "python",
   "pygments_lexer": "ipython3",
   "version": "3.11.4"
  }
 },
 "nbformat": 4,
 "nbformat_minor": 5
}
