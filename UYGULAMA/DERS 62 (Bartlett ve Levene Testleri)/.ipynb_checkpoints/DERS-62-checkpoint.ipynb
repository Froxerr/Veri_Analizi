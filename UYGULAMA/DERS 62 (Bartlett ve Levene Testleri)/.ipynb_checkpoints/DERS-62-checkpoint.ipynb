{
 "cells": [
  {
   "cell_type": "code",
   "execution_count": null,
   "id": "699283d3",
   "metadata": {},
   "outputs": [],
   "source": [
    "import pandas as pd\n",
    "from scipy import stats"
   ]
  },
  {
   "cell_type": "code",
   "execution_count": null,
   "id": "b4c1eb20",
   "metadata": {},
   "outputs": [],
   "source": [
    "df = pd.DataFrame(pd.read_excel(\"ornek.xlsx\"))\n",
    "df = df.drop(axis=1,columns=[\"Unnamed: 2\",\"Unnamed: 3\"])\n",
    "df"
   ]
  },
  {
   "cell_type": "code",
   "execution_count": null,
   "id": "fc2c4c98",
   "metadata": {},
   "outputs": [],
   "source": [
    "erkek = df[df[\"Cinsiyet\"] == \"Erkek\"]\n",
    "kadin = df[df[\"Cinsiyet\"] == \"Kadın\"]\n",
    "kadin.mean(numeric_only=True)"
   ]
  },
  {
   "cell_type": "code",
   "execution_count": null,
   "id": "9aa21687",
   "metadata": {},
   "outputs": [],
   "source": [
    "p1 = stats.shapiro(erkek[\"Harcama\"])\n",
    "p2 = stats.shapiro(kadin[\"Harcama\"])\n",
    "\n",
    "print(p1,p2) # P-value değeri 0.05'ten büyük olduğu için H0 reddedilemez, bu durumda da normal dağıldığını gösterir"
   ]
  },
  {
   "cell_type": "code",
   "execution_count": null,
   "id": "4087ec91",
   "metadata": {},
   "outputs": [],
   "source": [
    "h1 = stats.levene(erkek[\"Harcama\"],kadin[\"Harcama\"],center=\"mean\")\n",
    "h2 = stats.bartlett(erkek[\"Harcama\"],kadin[\"Harcama\"])\n",
    "print(h1)\n",
    "print(h2)"
   ]
  }
 ],
 "metadata": {
  "kernelspec": {
   "display_name": "Python 3 (ipykernel)",
   "language": "python",
   "name": "python3"
  },
  "language_info": {
   "codemirror_mode": {
    "name": "ipython",
    "version": 3
   },
   "file_extension": ".py",
   "mimetype": "text/x-python",
   "name": "python",
   "nbconvert_exporter": "python",
   "pygments_lexer": "ipython3",
   "version": "3.11.4"
  }
 },
 "nbformat": 4,
 "nbformat_minor": 5
}
