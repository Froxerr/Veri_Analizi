{
 "cells": [
  {
   "cell_type": "code",
   "execution_count": null,
   "id": "d3b66f2f",
   "metadata": {},
   "outputs": [],
   "source": [
    "from scipy import stats"
   ]
  },
  {
   "cell_type": "code",
   "execution_count": null,
   "id": "f1646b93",
   "metadata": {},
   "outputs": [],
   "source": [
    "#Bir otobüs 15 dakikada bir geliyorsa, bir kişi ortalama olarak otobüsü ne kadar bekler? Bunun olasılığını hesaplayınız"
   ]
  },
  {
   "cell_type": "code",
   "execution_count": null,
   "id": "d517a9b9",
   "metadata": {},
   "outputs": [],
   "source": [
    "a=0\n",
    "b=15\n",
    "\n",
    "dagilim = stats.uniform(a,b)\n",
    "\n",
    "olasilik = dagilim.expect()\n",
    "print(olasilik)"
   ]
  },
  {
   "cell_type": "code",
   "execution_count": null,
   "id": "c7d71286",
   "metadata": {},
   "outputs": [],
   "source": [
    "#Bu otobüs durağında otobüsü 12.5 dakikadan daha az bekleme olasılığı nedir?\n",
    "#P(x <= 12.5)"
   ]
  },
  {
   "cell_type": "code",
   "execution_count": null,
   "id": "d722e6d7",
   "metadata": {},
   "outputs": [],
   "source": [
    "a=0\n",
    "b=15\n",
    "\n",
    "dagilim = stats.uniform(a,b)\n",
    "\n",
    "olasilik = dagilim.cdf(x=12.5)\n",
    "print(olasilik)"
   ]
  },
  {
   "cell_type": "code",
   "execution_count": null,
   "id": "a248fa9d",
   "metadata": {},
   "outputs": [],
   "source": [
    "#Bir tamir süresi hakkında modelleme yapmak istiyoruz, ve bu ürünü tahmin süresine baktığımız zaman \n",
    "#1.5 saat ile 4 saat arası değişen bir dağılıma uyduğunu görüyoruz\n",
    "#Rastgele seçilen bir ürünün tamir süresinin 2 saatten fazla olma olasılığı nedir?\n",
    "#P(x > 2)"
   ]
  },
  {
   "cell_type": "code",
   "execution_count": null,
   "id": "f32b5211",
   "metadata": {},
   "outputs": [],
   "source": [
    "a=1.5\n",
    "b=4\n",
    "\n",
    "dagilim = stats.uniform(a,b)\n",
    "\n",
    "olasilik = 1-dagilim.cdf(x=2)\n",
    "print(olasilik)"
   ]
  }
 ],
 "metadata": {
  "kernelspec": {
   "display_name": "Python 3 (ipykernel)",
   "language": "python",
   "name": "python3"
  },
  "language_info": {
   "codemirror_mode": {
    "name": "ipython",
    "version": 3
   },
   "file_extension": ".py",
   "mimetype": "text/x-python",
   "name": "python",
   "nbconvert_exporter": "python",
   "pygments_lexer": "ipython3",
   "version": "3.11.4"
  }
 },
 "nbformat": 4,
 "nbformat_minor": 5
}
