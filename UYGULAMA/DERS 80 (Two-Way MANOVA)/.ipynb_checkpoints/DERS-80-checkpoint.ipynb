{
 "cells": [
  {
   "cell_type": "code",
   "execution_count": null,
   "id": "40955adb",
   "metadata": {},
   "outputs": [],
   "source": [
    "import pandas as pd\n",
    "from statsmodels.multivariate.manova import MANOVA\n",
    "import pingouin as pg"
   ]
  },
  {
   "cell_type": "code",
   "execution_count": null,
   "id": "36094f5c",
   "metadata": {},
   "outputs": [],
   "source": [
    "#Ornek 1\n",
    "#Kişilerin mevkileri ve departmanları, performans üzerinde bir etkisi var mı?"
   ]
  },
  {
   "cell_type": "code",
   "execution_count": null,
   "id": "1a225e49",
   "metadata": {},
   "outputs": [],
   "source": [
    "df = pd.DataFrame(pd.read_excel(\"ornek.xlsx\"))\n",
    "df.head()"
   ]
  },
  {
   "cell_type": "code",
   "execution_count": null,
   "id": "c260eafd",
   "metadata": {},
   "outputs": [],
   "source": [
    "manova = MANOVA.from_formula(\"Performans+Sahiplenme~Mevki+Departman+Mevki:Departman\",df)\n",
    "print(manova.mv_test())"
   ]
  },
  {
   "cell_type": "code",
   "execution_count": null,
   "id": "ef50c078",
   "metadata": {
    "scrolled": true
   },
   "outputs": [],
   "source": [
    "posthoc1 = pg.pairwise_tukey(df,dv=\"Performans\",between=\"Mevki\")\n",
    "posthoc2 = pg.pairwise_tukey(df,dv=\"Performans\",between=\"Departman\")\n",
    "posthoc3 = pg.pairwise_tukey(df,dv=\"Sahiplenme\",between=\"Mevki\")\n",
    "posthoc4 = pg.pairwise_tukey(df,dv=\"Sahiplenme\",between=\"Departman\")\n",
    "print(posthoc1)\n",
    "print(posthoc2)\n",
    "print(posthoc3)\n",
    "print(posthoc4)"
   ]
  },
  {
   "cell_type": "code",
   "execution_count": null,
   "id": "45bb3d37",
   "metadata": {},
   "outputs": [],
   "source": [
    "mudur_perf = df[df[\"Mevki\"] == \"Müdür\"][\"Performans\"]\n",
    "yonetici_perf = df[df[\"Mevki\"] == \"Yönetici\"][\"Performans\"]\n",
    "print(mudur_perf.mean())\n",
    "print(yonetici_perf.mean())"
   ]
  }
 ],
 "metadata": {
  "kernelspec": {
   "display_name": "Python 3 (ipykernel)",
   "language": "python",
   "name": "python3"
  },
  "language_info": {
   "codemirror_mode": {
    "name": "ipython",
    "version": 3
   },
   "file_extension": ".py",
   "mimetype": "text/x-python",
   "name": "python",
   "nbconvert_exporter": "python",
   "pygments_lexer": "ipython3",
   "version": "3.11.4"
  }
 },
 "nbformat": 4,
 "nbformat_minor": 5
}
