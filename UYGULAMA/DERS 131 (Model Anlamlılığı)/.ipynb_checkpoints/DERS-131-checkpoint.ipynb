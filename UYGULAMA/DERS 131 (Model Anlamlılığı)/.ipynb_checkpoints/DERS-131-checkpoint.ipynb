{
 "cells": [
  {
   "cell_type": "code",
   "execution_count": null,
   "id": "1d96bac7",
   "metadata": {},
   "outputs": [],
   "source": [
    "import pandas as pd\n",
    "import matplotlib.pyplot as plt\n",
    "import seaborn as sns\n",
    "import statsmodels.api as sm"
   ]
  },
  {
   "cell_type": "code",
   "execution_count": null,
   "id": "99ab844c",
   "metadata": {},
   "outputs": [],
   "source": [
    "df = sns.load_dataset(\"tips\")\n",
    "df.head()"
   ]
  },
  {
   "cell_type": "code",
   "execution_count": null,
   "id": "f31ae7e7",
   "metadata": {},
   "outputs": [],
   "source": [
    "bagimsizdeg = df[\"total_bill\"]\n",
    "bagimlideg = df[\"tip\"]\n",
    "sns.regplot(x=bagimsizdeg,y=bagimlideg,ci=None)\n",
    "plt.show()"
   ]
  },
  {
   "cell_type": "code",
   "execution_count": null,
   "id": "55c154c0",
   "metadata": {},
   "outputs": [],
   "source": [
    "sabit = sm.add_constant(bagimsizdeg)\n",
    "model = sm.OLS(bagimlideg,sabit).fit()\n",
    "print(model.summary())\n",
    "#Ho: B1 = B2 = B3 ... = Bk = 0 (Anlamsız)\n",
    "#H1: En az birisi sıfırdan farklı (Anlamlı)\n",
    "#Prob (F-statistic) = 0.05'ten küçükse Ho red yer, büyükse red yemez\n",
    "#Ho red yerse modelin anlamlı olduğu sonucuna ulaşırız\n",
    "print(\"{0:.40f}\".format(model.f_pvalue))"
   ]
  }
 ],
 "metadata": {
  "kernelspec": {
   "display_name": "Python 3 (ipykernel)",
   "language": "python",
   "name": "python3"
  },
  "language_info": {
   "codemirror_mode": {
    "name": "ipython",
    "version": 3
   },
   "file_extension": ".py",
   "mimetype": "text/x-python",
   "name": "python",
   "nbconvert_exporter": "python",
   "pygments_lexer": "ipython3",
   "version": "3.11.4"
  }
 },
 "nbformat": 4,
 "nbformat_minor": 5
}
