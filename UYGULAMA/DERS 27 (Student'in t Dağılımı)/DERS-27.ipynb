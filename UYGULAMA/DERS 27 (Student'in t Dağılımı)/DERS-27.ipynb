{
 "cells": [
  {
   "cell_type": "code",
   "execution_count": null,
   "id": "375cc6f3",
   "metadata": {},
   "outputs": [],
   "source": [
    "#Örneklem sayısı 30'un altında olduğunda, t dağılımı kullanılır\n",
    "#T dağılımı, serbestlik derecesi arttıkça normal dağılıma yakınsar"
   ]
  },
  {
   "cell_type": "code",
   "execution_count": null,
   "id": "eab9907e",
   "metadata": {},
   "outputs": [],
   "source": [
    "import numpy as np\n",
    "from scipy import stats\n",
    "import matplotlib.pyplot as plt\n",
    "import seaborn as sns"
   ]
  },
  {
   "cell_type": "code",
   "execution_count": null,
   "id": "614a011a",
   "metadata": {},
   "outputs": [],
   "source": [
    "import numpy as np\n",
    "from scipy import stats\n",
    "import matplotlib.pyplot as plt\n",
    "import seaborn as sns\n",
    "np.random.seed(0)\n",
    "veri1t = stats.t.rvs(loc=0,df=1,size=15)\n",
    "veri2t = stats.t.rvs(loc=0,df=2,size=15)\n",
    "veri3t = stats.t.rvs(loc=0,df=5,size=15)\n",
    "veri4t = stats.t.rvs(loc=0,df=20,size=15)\n",
    "plt.xlim(-5,5)\n",
    "sns.kdeplot(veri1t,color=\"red\")\n",
    "sns.kdeplot(veri2t,color=\"green\")\n",
    "sns.kdeplot(veri3t,color=\"blue\")\n",
    "sns.kdeplot(veri4t,color=\"black\")\n",
    "plt.show()"
   ]
  }
 ],
 "metadata": {
  "kernelspec": {
   "display_name": "Python 3 (ipykernel)",
   "language": "python",
   "name": "python3"
  },
  "language_info": {
   "codemirror_mode": {
    "name": "ipython",
    "version": 3
   },
   "file_extension": ".py",
   "mimetype": "text/x-python",
   "name": "python",
   "nbconvert_exporter": "python",
   "pygments_lexer": "ipython3",
   "version": "3.11.4"
  }
 },
 "nbformat": 4,
 "nbformat_minor": 5
}
