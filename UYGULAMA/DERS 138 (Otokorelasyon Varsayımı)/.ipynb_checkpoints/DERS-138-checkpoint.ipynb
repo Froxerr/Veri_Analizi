{
 "cells": [
  {
   "cell_type": "code",
   "execution_count": null,
   "id": "4aef6104",
   "metadata": {},
   "outputs": [],
   "source": [
    "import pandas as pd\n",
    "import seaborn as sns\n",
    "import matplotlib.pyplot as plt\n",
    "import statsmodels.api as sm\n",
    "import numpy as np\n",
    "import statsmodels.stats.diagnostic as smd"
   ]
  },
  {
   "cell_type": "code",
   "execution_count": null,
   "id": "16443030",
   "metadata": {},
   "outputs": [],
   "source": [
    "df = pd.DataFrame(pd.read_csv(\"Advertising.csv\"))\n",
    "df.drop(df.columns[0],inplace=True,axis=1)\n",
    "df.head()"
   ]
  },
  {
   "cell_type": "code",
   "execution_count": null,
   "id": "6a0bfe52",
   "metadata": {},
   "outputs": [],
   "source": [
    "sns.pairplot(df,y_vars=\"Sales\",x_vars=[\"TV\",\"Radio\",\"Newspaper\"],kind=\"reg\")\n",
    "plt.show()"
   ]
  },
  {
   "cell_type": "code",
   "execution_count": null,
   "id": "f9792a93",
   "metadata": {},
   "outputs": [],
   "source": [
    "y=df[\"Sales\"]\n",
    "x=df[[\"TV\",\"Radio\"]]\n",
    "\n",
    "sabit = sm.add_constant(x)\n",
    "model = sm.OLS(y,sabit).fit()\n",
    "hata = model.resid"
   ]
  },
  {
   "cell_type": "code",
   "execution_count": null,
   "id": "b9225c6d",
   "metadata": {},
   "outputs": [],
   "source": [
    "#Otokorelasyonun tespiti için kullanabileceğimiz bir araç, arkada renkli güven aralığı ile temsil edilir\n",
    "sm.graphics.tsa.plot_acf(hata)\n",
    "plt.show()"
   ]
  },
  {
   "cell_type": "code",
   "execution_count": null,
   "id": "ce55e414",
   "metadata": {},
   "outputs": [],
   "source": [
    "#Durbin-Watson:                   2.081 Durbin-Watson istatistiği, \n",
    "#otokorelasyonun varlığını belirlemek için kullanılan bir sonuç sunar\n",
    "#1.5 ile 2.5 arasındaki değerler otokorelasyonun sorun yaratmadığını gösterir\n",
    "print(model.summary())"
   ]
  },
  {
   "cell_type": "code",
   "execution_count": null,
   "id": "e48c81d4",
   "metadata": {},
   "outputs": [],
   "source": [
    "#Durbin-Watson sonuçlarından sonra yaygın olarak kullanılan bir diğer test, otokorelasyonu değerlendirmek için LM testidir\n",
    "lm = smd.acorr_breusch_godfrey(model,nlags=2)\n",
    "print(lm)#LM test sonuçlarını değerlendirirken, 2. çıktıya odaklanıyoruz.\n",
    "#Ho = Otokorelasyon yoktur\n",
    "#H1 = Otokorelasyon vardır\n",
    "#2. çıktı değeri 0.05'ten büyük olduğunda, Ho hipotezi reddedilemez ve bu otokorelasyonun varlığını gösterir"
   ]
  }
 ],
 "metadata": {
  "kernelspec": {
   "display_name": "Python 3 (ipykernel)",
   "language": "python",
   "name": "python3"
  },
  "language_info": {
   "codemirror_mode": {
    "name": "ipython",
    "version": 3
   },
   "file_extension": ".py",
   "mimetype": "text/x-python",
   "name": "python",
   "nbconvert_exporter": "python",
   "pygments_lexer": "ipython3",
   "version": "3.11.4"
  }
 },
 "nbformat": 4,
 "nbformat_minor": 5
}
