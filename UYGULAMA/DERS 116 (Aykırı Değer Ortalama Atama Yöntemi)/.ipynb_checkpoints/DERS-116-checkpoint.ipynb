{
 "cells": [
  {
   "cell_type": "code",
   "execution_count": null,
   "id": "3f43d842",
   "metadata": {},
   "outputs": [],
   "source": [
    "import matplotlib.pyplot as plt\n",
    "import seaborn as sns\n",
    "import pandas as pd"
   ]
  },
  {
   "cell_type": "code",
   "execution_count": null,
   "id": "08753f12",
   "metadata": {},
   "outputs": [],
   "source": [
    "df = sns.load_dataset(\"taxis\")\n",
    "df2 = df.copy()\n",
    "print(df2.isnull().sum())#Tip değerine bakıyoruz ve null değer olmadığını görüyoruz"
   ]
  },
  {
   "cell_type": "code",
   "execution_count": null,
   "id": "0367515a",
   "metadata": {},
   "outputs": [],
   "source": [
    "sns.boxplot(df2[\"tip\"])\n",
    "plt.show()"
   ]
  },
  {
   "cell_type": "code",
   "execution_count": null,
   "id": "362a5e3a",
   "metadata": {},
   "outputs": [],
   "source": [
    "q1 = df2[\"tip\"].quantile(0.25)\n",
    "q3 = df2[\"tip\"].quantile(0.75)\n",
    "IQR = q3 - q1 \n",
    "altsinir = q1 - 1.5*IQR\n",
    "ustsinir = q3 + 1.5*IQR\n",
    "#aykirimin = alt sınırın daha altında kalanları tutmak için\n",
    "aykirimin = df2[df2[\"tip\"] < altsinir][\"tip\"]\n",
    "aykirimax = df2[df2[\"tip\"] > ustsinir][\"tip\"]\n",
    "#aykirimin ile aykirimax'ı birleştiriyoruz\n",
    "aykiri = pd.concat([aykirimin,aykirimax],axis=0).index\n",
    "aykiri\n",
    "indexler = [i for i in aykiri]\n",
    "\n",
    "ortalama = df2[\"tip\"].mean()\n",
    "\n",
    "#df3 = df2'nin içinde aykırı değerlerin silinerek oluştuğu yeni veri setini elde ediyoruz\n",
    "df2.loc[indexler,\"tip\"]=ortalama\n",
    "print(df2[\"tip\"][indexler])"
   ]
  },
  {
   "cell_type": "code",
   "execution_count": null,
   "id": "00861ad1",
   "metadata": {},
   "outputs": [],
   "source": [
    "sns.boxplot(df2[\"tip\"])\n",
    "plt.show()"
   ]
  }
 ],
 "metadata": {
  "kernelspec": {
   "display_name": "Python 3 (ipykernel)",
   "language": "python",
   "name": "python3"
  },
  "language_info": {
   "codemirror_mode": {
    "name": "ipython",
    "version": 3
   },
   "file_extension": ".py",
   "mimetype": "text/x-python",
   "name": "python",
   "nbconvert_exporter": "python",
   "pygments_lexer": "ipython3",
   "version": "3.11.4"
  }
 },
 "nbformat": 4,
 "nbformat_minor": 5
}
