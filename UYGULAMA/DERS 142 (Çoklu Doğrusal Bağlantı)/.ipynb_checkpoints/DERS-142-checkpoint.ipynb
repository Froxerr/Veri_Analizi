{
 "cells": [
  {
   "cell_type": "code",
   "execution_count": null,
   "id": "5f99bd6b",
   "metadata": {},
   "outputs": [],
   "source": [
    "import pandas as pd\n",
    "import statsmodels.api as sm\n",
    "import statsmodels.stats.diagnostic as smd\n",
    "import seaborn as sns\n",
    "import matplotlib.pyplot as plt\n",
    "from statsmodels.stats.outliers_influence import variance_inflation_factor"
   ]
  },
  {
   "cell_type": "code",
   "execution_count": null,
   "id": "be9a0d14",
   "metadata": {},
   "outputs": [],
   "source": [
    "df = pd.DataFrame(pd.read_excel(\"ornek.xlsx\"))\n",
    "df.head()"
   ]
  },
  {
   "cell_type": "code",
   "execution_count": null,
   "id": "cf952178",
   "metadata": {},
   "outputs": [],
   "source": [
    "y = df[\"y\"]\n",
    "x = df[[\"x1\",\"x2\",\"x3\",\"x4\",\"x5\",\"x6\",\"x7\",\"x8\",\"x9\",\"x10\"]]\n",
    "\n",
    "sabit = sm.add_constant(x)\n",
    "model = sm.OLS(y,sabit).fit()\n",
    "print(model.summary())\n",
    "# Prob (F-statistic):           6.09e-06 Bağımsız değişkenlerde anlamsızlık varsa,\n",
    "#ilk şüphelenilmesi gereken sorun Çoklu Doğrusal Bağlantı PROBLEMİ olabilir\n"
   ]
  },
  {
   "cell_type": "code",
   "execution_count": null,
   "id": "7c7f3437",
   "metadata": {},
   "outputs": [],
   "source": [
    "#Çoklu Doğrusal Bağlantı sorununu tespit etmek için korelasyon matrisi veya \n",
    "#ön gözlem analizi gibi yöntemler kullanılabilir\n",
    "kor = x.corr()\n",
    "sns.heatmap(kor,annot=True,fmt=\".2f\") \n",
    "plt.show()"
   ]
  },
  {
   "cell_type": "code",
   "execution_count": null,
   "id": "be246e4b",
   "metadata": {},
   "outputs": [],
   "source": [
    "#VIF testi\n",
    "vif = pd.DataFrame()\n",
    "vif[\"Değişkenler\"] = x.columns\n",
    "vif[\"VIF\"] = [variance_inflation_factor(sabit.values,i+1) for i in range(x.shape[1])]\n",
    "print(vif)\n",
    "#Özellikle, bağımsız değişkenler arasındaki korelasyonlar 5 üzerindeyse, bu bir sorunun işareti olabilir"
   ]
  }
 ],
 "metadata": {
  "kernelspec": {
   "display_name": "Python 3 (ipykernel)",
   "language": "python",
   "name": "python3"
  },
  "language_info": {
   "codemirror_mode": {
    "name": "ipython",
    "version": 3
   },
   "file_extension": ".py",
   "mimetype": "text/x-python",
   "name": "python",
   "nbconvert_exporter": "python",
   "pygments_lexer": "ipython3",
   "version": "3.11.4"
  }
 },
 "nbformat": 4,
 "nbformat_minor": 5
}
