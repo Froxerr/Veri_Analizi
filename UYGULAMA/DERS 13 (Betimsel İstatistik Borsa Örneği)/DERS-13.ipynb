{
 "cells": [
  {
   "cell_type": "code",
   "execution_count": null,
   "id": "48fd1e73",
   "metadata": {},
   "outputs": [],
   "source": [
    "import pandas as pd\n",
    "\n",
    "data = pd.DataFrame(pd.read_excel(\"ORNEK.xlsx\",usecols=[\"bistgetiri\",\"dowgetiri\"]))\n",
    "print(data)"
   ]
  },
  {
   "cell_type": "code",
   "execution_count": null,
   "id": "4217f654",
   "metadata": {},
   "outputs": [],
   "source": [
    "data.describe()"
   ]
  },
  {
   "cell_type": "code",
   "execution_count": null,
   "id": "4c2c201a",
   "metadata": {},
   "outputs": [],
   "source": [
    "data.mean() #Ortalaması"
   ]
  },
  {
   "cell_type": "code",
   "execution_count": null,
   "id": "a45aa26e",
   "metadata": {},
   "outputs": [],
   "source": [
    "data.median() #ORTANCI"
   ]
  },
  {
   "cell_type": "code",
   "execution_count": null,
   "id": "b023befb",
   "metadata": {},
   "outputs": [],
   "source": [
    "data.quantile(q=0.25) #Dağılımı 4'e bölme muhabbet \n",
    "#ilk sınır 0.25\n",
    "#ikinci sınır 0.50\n",
    "#ücüncü sınır 0.75"
   ]
  },
  {
   "cell_type": "code",
   "execution_count": null,
   "id": "9ef70755",
   "metadata": {},
   "outputs": [],
   "source": [
    "data.std() #Standart sapmayı getiriyor"
   ]
  },
  {
   "cell_type": "code",
   "execution_count": null,
   "id": "189a65ab",
   "metadata": {},
   "outputs": [],
   "source": [
    "data.var() #Varyansı çağırıyor (Standart sapmanın karesi ile aynıdır)"
   ]
  },
  {
   "cell_type": "code",
   "execution_count": null,
   "id": "e2c95b93",
   "metadata": {},
   "outputs": [],
   "source": [
    "data.kurtosis() #Basıklık katsayısı, verinin yerine ne kadar basık olduğunu belirler; \n",
    "#daha basık bir dağılım daha yüksek bir standart sapma ile sonuçlanabilir"
   ]
  },
  {
   "cell_type": "code",
   "execution_count": null,
   "id": "f2b9dcf5",
   "metadata": {},
   "outputs": [],
   "source": [
    "data.skew() #Çarpıklık, verinin pozitif veya negatif çarpıklıklar içerip içermediğini değerlendirir"
   ]
  },
  {
   "cell_type": "code",
   "execution_count": null,
   "id": "a20b21ed",
   "metadata": {},
   "outputs": [],
   "source": [
    "import matplotlib.pyplot as plt\n",
    "\n",
    "plt.figure()\n",
    "plt.title(\"Bist Getiri Dağılımı\")\n",
    "plt.hist(data[\"dowgetiri\"],color=\"g\",histtype=\"bar\",bins=300)\n",
    "#Title, bir başlık oluşturur. | Histogramı çizer ve rengini yeşil olarak belirtir. | Histogram tipi 'bar' olarak ayarlanır\n",
    "#aralıkları açmak için 'bins' kullanılır.\n",
    "plt.show()"
   ]
  }
 ],
 "metadata": {
  "kernelspec": {
   "display_name": "Python 3 (ipykernel)",
   "language": "python",
   "name": "python3"
  },
  "language_info": {
   "codemirror_mode": {
    "name": "ipython",
    "version": 3
   },
   "file_extension": ".py",
   "mimetype": "text/x-python",
   "name": "python",
   "nbconvert_exporter": "python",
   "pygments_lexer": "ipython3",
   "version": "3.11.4"
  }
 },
 "nbformat": 4,
 "nbformat_minor": 5
}
