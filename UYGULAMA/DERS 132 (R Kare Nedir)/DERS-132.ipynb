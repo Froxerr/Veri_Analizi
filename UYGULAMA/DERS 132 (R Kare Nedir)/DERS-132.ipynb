{
 "cells": [
  {
   "cell_type": "code",
   "execution_count": null,
   "id": "410fb402",
   "metadata": {},
   "outputs": [],
   "source": [
    "import pandas as pd\n",
    "import matplotlib.pyplot as plt\n",
    "import seaborn as sns\n",
    "import statsmodels.api as sm"
   ]
  },
  {
   "cell_type": "code",
   "execution_count": null,
   "id": "dc03c4f5",
   "metadata": {},
   "outputs": [],
   "source": [
    "df = sns.load_dataset(\"tips\")\n",
    "df.head()"
   ]
  },
  {
   "cell_type": "code",
   "execution_count": null,
   "id": "478a4d2c",
   "metadata": {},
   "outputs": [],
   "source": [
    "bagimsizdeg = df[\"total_bill\"]\n",
    "bagimlideg = df[\"tip\"]\n",
    "sns.regplot(x=bagimsizdeg,y=bagimlideg,ci=None)\n",
    "plt.show()"
   ]
  },
  {
   "cell_type": "code",
   "execution_count": null,
   "id": "70ca1d7b",
   "metadata": {},
   "outputs": [],
   "source": [
    "sabit = sm.add_constant(bagimsizdeg)\n",
    "model = sm.OLS(bagimlideg,sabit).fit()\n",
    "print(model.summary())\n",
    "#R-squared = R-squared, bağımsız değişkenlerin bağımlı değişkenleri ne kadar iyi tahmin edebildiğini gösterir\n",
    "#0 ile 1 arasında bir değer alır ve 1'e ne kadar yakınsa, modelin bağımsız değişkenle bağımlı değişken arasındaki uyumu \n",
    "#o kadar iyi ifade ettiği anlamına gelir"
   ]
  },
  {
   "cell_type": "code",
   "execution_count": null,
   "id": "71bfb361",
   "metadata": {},
   "outputs": [],
   "source": [
    "#R-SQUARED\n",
    "#PYTHON ÜZERİNDEN HESAPLAMA İŞLEMİ\n",
    "#GKT = Genel Kareler Toplamı\n",
    "#model.ess = Regresyon Kareler Toplamı\n",
    "#model.ssr = Hata Kareler Toplamı\n",
    "GKT = model.ess + model.ssr\n",
    "HKT = model.ssr\n",
    "print(1-(HKT/GKT))"
   ]
  }
 ],
 "metadata": {
  "kernelspec": {
   "display_name": "Python 3 (ipykernel)",
   "language": "python",
   "name": "python3"
  },
  "language_info": {
   "codemirror_mode": {
    "name": "ipython",
    "version": 3
   },
   "file_extension": ".py",
   "mimetype": "text/x-python",
   "name": "python",
   "nbconvert_exporter": "python",
   "pygments_lexer": "ipython3",
   "version": "3.11.4"
  }
 },
 "nbformat": 4,
 "nbformat_minor": 5
}
