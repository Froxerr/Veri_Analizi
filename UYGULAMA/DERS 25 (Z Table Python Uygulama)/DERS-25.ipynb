{
 "cells": [
  {
   "cell_type": "code",
   "execution_count": null,
   "id": "12bb5bcd",
   "metadata": {},
   "outputs": [],
   "source": [
    "from scipy.stats import norm"
   ]
  },
  {
   "cell_type": "code",
   "execution_count": null,
   "id": "6f92296a",
   "metadata": {},
   "outputs": [],
   "source": [
    "#Ortalaması:5.3 | Standart Sapması:1 | Bir değerin 4.5'tan küçük olma ihtimali nedir ?\n",
    "# x < 4.5\n",
    "\n",
    "olasilik = norm(loc=5.3,scale=1).cdf(4.5)\n",
    "print(olasilik)\n",
    "#loc = Ortalama\n",
    "#scale = S.S\n",
    "#cdf = Hangi değerden küçük olacağını belirteceğin bir değer"
   ]
  },
  {
   "cell_type": "code",
   "execution_count": null,
   "id": "eae9b65a",
   "metadata": {},
   "outputs": [],
   "source": [
    "#Ortalaması:5.3 | Standart Sapması:1 | Bir değerin 4.5'tan büyük olma ihtimali nedir ?\n",
    "# x > 4.5\n",
    "olasilik = 1-norm(loc=5.3,scale=1).cdf(4.5)\n",
    "print(olasilik)\n",
    "#1'den çıkarırsan değerin tam tersini döndürmüş olursun"
   ]
  },
  {
   "cell_type": "code",
   "execution_count": null,
   "id": "8e432145",
   "metadata": {},
   "outputs": [],
   "source": [
    "#Ortalaması:5.3 | Standart Sapması:1 \n",
    "#Değerin 4.5'tan büyük ve 6.5'tan küçük olma ihtimali nedir\n",
    "# 4.5 < x < 6.5\n",
    "\n",
    "ust_sinir = norm(loc=5.3,scale=1).cdf(6.5)\n",
    "alt_sinir = norm(loc=5.3,scale=1).cdf(4.5)\n",
    "olasilik = ust_sinir - alt_sinir\n",
    "print(olasilik)"
   ]
  },
  {
   "cell_type": "code",
   "execution_count": null,
   "id": "4ea2141d",
   "metadata": {},
   "outputs": [],
   "source": [
    "#ortalama = 800\n",
    "#SS = 40\n",
    "#1-  x > 778\n",
    "#2-  x < 834\n",
    "#3-  778 < x < 834\n",
    "\n",
    "#1\n",
    "olasilik = 1-norm(loc=800,scale=40).cdf(778)\n",
    "print(olasilik)\n",
    "#2\n",
    "olasilik = norm(loc=800,scale=40).cdf(834)\n",
    "print(olasilik)\n",
    "#3\n",
    "ust_sinir = norm(loc=800,scale=40).cdf(834)\n",
    "alt_sinir = norm(loc=800,scale=40).cdf(778)\n",
    "olasilik = ust_sinir - alt_sinir\n",
    "print(olasilik)"
   ]
  },
  {
   "cell_type": "code",
   "execution_count": null,
   "id": "0bf915ec",
   "metadata": {},
   "outputs": [],
   "source": [
    "#ortalama = 3.0005\n",
    "#SS = 0.001\n",
    "ust_sinir = 3.000 + 0.002\n",
    "alt_sinir = 3.000 - 0.002\n",
    "\n",
    "ust_sinir_z = norm(loc=3.0005,scale=0.001).cdf(ust_sinir)\n",
    "alt_sinir_z = norm(loc=3.0005,scale=0.001).cdf(alt_sinir)\n",
    "olasilik = ust_sinir_z - alt_sinir_z\n",
    "print((1-olasilik)*100)"
   ]
  }
 ],
 "metadata": {
  "kernelspec": {
   "display_name": "Python 3 (ipykernel)",
   "language": "python",
   "name": "python3"
  },
  "language_info": {
   "codemirror_mode": {
    "name": "ipython",
    "version": 3
   },
   "file_extension": ".py",
   "mimetype": "text/x-python",
   "name": "python",
   "nbconvert_exporter": "python",
   "pygments_lexer": "ipython3",
   "version": "3.11.4"
  }
 },
 "nbformat": 4,
 "nbformat_minor": 5
}
