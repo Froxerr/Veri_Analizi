{
 "cells": [
  {
   "cell_type": "code",
   "execution_count": null,
   "id": "4bb13297",
   "metadata": {},
   "outputs": [],
   "source": [
    "import pandas as pd\n",
    "import matplotlib.pyplot as plt\n",
    "import seaborn as sns\n",
    "import statsmodels.api as sm"
   ]
  },
  {
   "cell_type": "code",
   "execution_count": null,
   "id": "df4a242a",
   "metadata": {},
   "outputs": [],
   "source": [
    "df = sns.load_dataset(\"tips\")\n",
    "df.head()"
   ]
  },
  {
   "cell_type": "code",
   "execution_count": null,
   "id": "85158987",
   "metadata": {},
   "outputs": [],
   "source": [
    "bagimsizdeg = df[\"total_bill\"]\n",
    "bagimlideg = df[\"tip\"]\n",
    "sns.regplot(x=bagimsizdeg,y=bagimlideg,ci=None)\n",
    "plt.show()"
   ]
  },
  {
   "cell_type": "code",
   "execution_count": null,
   "id": "f29d5908",
   "metadata": {},
   "outputs": [],
   "source": [
    "sabit = sm.add_constant(bagimsizdeg)\n",
    "model = sm.OLS(bagimlideg,sabit).fit()\n",
    "print(model.summary())\n",
    "#P > |T| = Eğer 0.05'ten büyükse Ho red yiyemez, küçükse Ho red yer\n",
    "#Red yerse Bo Anlamlıdır =/ 0\n",
    "#Red yemezse Bo anlamsızdır = 0 | Eğer anlamsız çıkarsa modelden çıkarılması gerekir\n",
    "#[0.025      0.975] = %95 güven aralığında, bu iki sayı arasında olması gerektiğini ifade eder"
   ]
  },
  {
   "cell_type": "code",
   "execution_count": null,
   "id": "785326f0",
   "metadata": {},
   "outputs": [],
   "source": [
    "print(model.params) #coef\n",
    "print(model.bse)#STD ERR"
   ]
  }
 ],
 "metadata": {
  "kernelspec": {
   "display_name": "Python 3 (ipykernel)",
   "language": "python",
   "name": "python3"
  },
  "language_info": {
   "codemirror_mode": {
    "name": "ipython",
    "version": 3
   },
   "file_extension": ".py",
   "mimetype": "text/x-python",
   "name": "python",
   "nbconvert_exporter": "python",
   "pygments_lexer": "ipython3",
   "version": "3.11.4"
  }
 },
 "nbformat": 4,
 "nbformat_minor": 5
}
