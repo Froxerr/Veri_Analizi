{
 "cells": [
  {
   "cell_type": "code",
   "execution_count": null,
   "id": "74770528",
   "metadata": {
    "scrolled": true
   },
   "outputs": [],
   "source": [
    "pip install yfinance"
   ]
  },
  {
   "cell_type": "code",
   "execution_count": null,
   "id": "12de3c0c",
   "metadata": {},
   "outputs": [],
   "source": [
    "import pandas as pd\n",
    "import yfinance as yf\n",
    "import matplotlib.pyplot as plt\n",
    "import seaborn as sns\n",
    "import pingouin as pg"
   ]
  },
  {
   "cell_type": "code",
   "execution_count": null,
   "id": "dae4f479",
   "metadata": {
    "scrolled": true
   },
   "outputs": [],
   "source": [
    "hisse = pd.DataFrame(pd.read_excel(\"ornek.xlsx\"))\n",
    "print(hisse.head())"
   ]
  },
  {
   "cell_type": "code",
   "execution_count": null,
   "id": "ad28b0f6",
   "metadata": {},
   "outputs": [],
   "source": [
    "#Yahoo Finance'dan bir bilgi almak istiyorsan, .IS kodu ile alınıyor\n",
    "hisse_kod = hisse + \".\"+ \"IS\"\n",
    "print(hisse_kod.head())\n",
    "print(type(hisse_kod.head()))"
   ]
  },
  {
   "cell_type": "code",
   "execution_count": null,
   "id": "158b8fe4",
   "metadata": {},
   "outputs": [],
   "source": [
    "#Yahoo Finance, bunlara dataframe üzerinden ulaşamadığı için listeye çevirdik\n",
    "hisseler = hisse_kod[\"Kod\"].values.tolist()\n",
    "hisseler.remove(\"ASTOR.IS\")\n",
    "print(hisseler)"
   ]
  },
  {
   "cell_type": "code",
   "execution_count": null,
   "id": "a938f449",
   "metadata": {
    "scrolled": true
   },
   "outputs": [],
   "source": [
    "#tickers = Birden fazla da olabilir veya sadece Akbank'ın hissesini istiyor da olabilir\n",
    "#start = Tarihin başlangıç kısmı\n",
    "#end = Son tarih\n",
    "df = yf.download(tickers=hisseler,start=\"2020-01-01\",end=\"2023-09-03\")\n",
    "print(df)"
   ]
  },
  {
   "cell_type": "code",
   "execution_count": null,
   "id": "5218d2da",
   "metadata": {
    "scrolled": true
   },
   "outputs": [],
   "source": [
    "#Adj Close = Düzeltilmiş kapanış fiyatlarıdır\n",
    "fiyat = df[\"Adj Close\"].reset_index()\n",
    "print(fiyat)"
   ]
  },
  {
   "cell_type": "code",
   "execution_count": null,
   "id": "efc70c13",
   "metadata": {
    "scrolled": true
   },
   "outputs": [],
   "source": [
    "#Boş değerler varsa topla getir demek\n",
    "print(fiyat.isna().sum())"
   ]
  },
  {
   "cell_type": "code",
   "execution_count": null,
   "id": "5829ec89",
   "metadata": {
    "scrolled": true
   },
   "outputs": [],
   "source": [
    "#pct_change = Fiyatların fiyat bazında değil getiri bazında döndürür\n",
    "getiri = df[\"Adj Close\"].pct_change()\n",
    "print(getiri)"
   ]
  },
  {
   "cell_type": "code",
   "execution_count": null,
   "id": "6b22e367",
   "metadata": {
    "scrolled": true
   },
   "outputs": [],
   "source": [
    "#Fiyatların ne kadar olduğunu hesaplama\n",
    "#Değerleri büyükten küçüğe sırala\n",
    "sp = getiri.std()\n",
    "print(sp.sort_values(ascending=False))"
   ]
  },
  {
   "cell_type": "code",
   "execution_count": null,
   "id": "0e9f59f6",
   "metadata": {},
   "outputs": [],
   "source": [
    "#Getiriler arasındaki ilişkiler anlamlı mı?\n",
    "anlam = pg.pairwise_corr(getiri)\n",
    "pd.set_option(\"display.max_rows\",None)\n",
    "print(anlam[anlam[\"p-unc\"] > 0.05]) #Hepsi anlamlı"
   ]
  },
  {
   "cell_type": "code",
   "execution_count": null,
   "id": "bac2dc75",
   "metadata": {},
   "outputs": [],
   "source": [
    "kor = getiri.corr()\n",
    "plt.title(\"Bist30 Getiri Korelasyon Matrisi\",color=\"red\",fontsize=15)\n",
    "sns.heatmap(kor,annot=False,cmap=\"Blues\",xticklabels=True,yticklabels=True,vmin=-1,vmax=1)\n",
    "plt.show()"
   ]
  }
 ],
 "metadata": {
  "kernelspec": {
   "display_name": "Python 3 (ipykernel)",
   "language": "python",
   "name": "python3"
  },
  "language_info": {
   "codemirror_mode": {
    "name": "ipython",
    "version": 3
   },
   "file_extension": ".py",
   "mimetype": "text/x-python",
   "name": "python",
   "nbconvert_exporter": "python",
   "pygments_lexer": "ipython3",
   "version": "3.11.4"
  }
 },
 "nbformat": 4,
 "nbformat_minor": 5
}
