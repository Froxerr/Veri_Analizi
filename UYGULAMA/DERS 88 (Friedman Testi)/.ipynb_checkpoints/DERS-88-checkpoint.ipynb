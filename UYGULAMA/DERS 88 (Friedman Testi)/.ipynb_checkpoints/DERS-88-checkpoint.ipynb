{
 "cells": [
  {
   "cell_type": "code",
   "execution_count": null,
   "id": "8cd3bcdb",
   "metadata": {},
   "outputs": [],
   "source": [
    "import pandas as pd\n",
    "import pingouin as pg\n",
    "from scikit_posthocs import posthoc_conover_friedman\n",
    "import numpy as np"
   ]
  },
  {
   "cell_type": "code",
   "execution_count": null,
   "id": "e43a3347",
   "metadata": {},
   "outputs": [],
   "source": [
    "df = pd.DataFrame(pd.read_excel(\"ornek.xlsx\"))\n",
    "df.head()\n",
    "df = df.drop(axis=0,index=4)"
   ]
  },
  {
   "cell_type": "code",
   "execution_count": null,
   "id": "f2175fda",
   "metadata": {
    "scrolled": true
   },
   "outputs": [],
   "source": [
    "df = df.melt(id_vars=[\"Hastalar\"],var_name=\"Testler\",value_name=\"Değerler\")\n",
    "df[\"Değerler\"] = df[\"Değerler\"].astype(int)\n",
    "df"
   ]
  },
  {
   "cell_type": "code",
   "execution_count": null,
   "id": "d6a96ce9",
   "metadata": {
    "scrolled": true
   },
   "outputs": [],
   "source": [
    "normallik = pg.normality(df,dv=\"Değerler\",group=\"Testler\")\n",
    "print(normallik)"
   ]
  },
  {
   "cell_type": "code",
   "execution_count": null,
   "id": "d302ce84",
   "metadata": {},
   "outputs": [],
   "source": [
    "test = pg.friedman(df,dv=\"Değerler\",within=\"Testler\",subject=\"Hastalar\")\n",
    "print(test) #Şu an herhangi bir farklılık yaratmıyor, ama yaratmış olsaydı aşağıdaki işlemlere devam edilecekti"
   ]
  },
  {
   "cell_type": "code",
   "execution_count": null,
   "id": "40df9b7d",
   "metadata": {},
   "outputs": [],
   "source": [
    "#Bu yapı bir dizi (array) yapısıyla çalıştığı için değerleri diziye çeviriyoruz\n",
    "df_posthoc = pd.DataFrame(pd.read_excel(\"ornek.xlsx\"))\n",
    "df_posthoc = df_posthoc.drop(axis=0,index=4)\n",
    "df_posthoc[\"TÖ\"] = df_posthoc[\"TÖ\"].astype(int) \n",
    "df_posthoc[\"TS\"] = df_posthoc[\"TS\"].astype(int) \n",
    "df_posthoc[\"TS2\"] = df_posthoc[\"TS2\"].astype(int) \n",
    "df_posthoc[\"TS3\"] = df_posthoc[\"TS3\"].astype(int) \n",
    "df = np.array([df_posthoc[\"TÖ\"],df_posthoc[\"TS\"],df_posthoc[\"TS2\"],df_posthoc[\"TS3\"]])\n",
    "posthoc = posthoc_conover_friedman(df,p_adjust=\"bonf\")\n",
    "print(posthoc)"
   ]
  }
 ],
 "metadata": {
  "kernelspec": {
   "display_name": "Python 3 (ipykernel)",
   "language": "python",
   "name": "python3"
  },
  "language_info": {
   "codemirror_mode": {
    "name": "ipython",
    "version": 3
   },
   "file_extension": ".py",
   "mimetype": "text/x-python",
   "name": "python",
   "nbconvert_exporter": "python",
   "pygments_lexer": "ipython3",
   "version": "3.11.4"
  }
 },
 "nbformat": 4,
 "nbformat_minor": 5
}
