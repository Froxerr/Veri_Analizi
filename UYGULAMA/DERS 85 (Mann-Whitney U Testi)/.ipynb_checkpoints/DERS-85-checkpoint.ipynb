{
 "cells": [
  {
   "cell_type": "code",
   "execution_count": null,
   "id": "5decaed8",
   "metadata": {},
   "outputs": [],
   "source": [
    "import pandas as pd\n",
    "import pingouin as pg"
   ]
  },
  {
   "cell_type": "code",
   "execution_count": null,
   "id": "7902a34c",
   "metadata": {},
   "outputs": [],
   "source": [
    "#Ornek 1\n",
    "#Erkekler ile kadınlar arasında spor yapma süreleri not alınmıştır, bunun üzerinden şöyle bir iddia ortaya koyuyoruz:\n",
    "#Erkek ile kadınlar arasındaki spor yapma süreleri birbirlerine yakın bile değildir\n",
    "#Ho = Me = Mk\n",
    "#H1 = Me =/ Mk"
   ]
  },
  {
   "cell_type": "code",
   "execution_count": null,
   "id": "44bf7323",
   "metadata": {},
   "outputs": [],
   "source": [
    "df = pd.DataFrame(pd.read_excel(\"ornek.xlsx\"))\n",
    "df.head()"
   ]
  },
  {
   "cell_type": "code",
   "execution_count": null,
   "id": "30970d87",
   "metadata": {},
   "outputs": [],
   "source": [
    "#Normallik testi önceliğimiz\n",
    "normallik = pg.normality(df,dv=\"Süre\",group=\"Cinsiyet\")\n",
    "print(normallik)"
   ]
  },
  {
   "cell_type": "code",
   "execution_count": null,
   "id": "2d1f1398",
   "metadata": {},
   "outputs": [],
   "source": [
    "erkek = df[df[\"Cinsiyet\"]==\"Erkek\"][\"Süre\"]\n",
    "kadin = df[df[\"Cinsiyet\"]==\"Kadın\"][\"Süre\"]\n",
    "#alternative = Bu bizim iddiamız; yani eğer erkek ile kadın arasındaki farkı dersek, çift kuyruk muhabbeti\n",
    "#Erkek kadından büyüktür dersek = Greater\n",
    "#Kadın erkekten büyükse = Less\n",
    "test = pg.mwu(erkek,kadin,alternative=\"two-sided\")\n",
    "print(test)"
   ]
  }
 ],
 "metadata": {
  "kernelspec": {
   "display_name": "Python 3 (ipykernel)",
   "language": "python",
   "name": "python3"
  },
  "language_info": {
   "codemirror_mode": {
    "name": "ipython",
    "version": 3
   },
   "file_extension": ".py",
   "mimetype": "text/x-python",
   "name": "python",
   "nbconvert_exporter": "python",
   "pygments_lexer": "ipython3",
   "version": "3.11.4"
  }
 },
 "nbformat": 4,
 "nbformat_minor": 5
}
