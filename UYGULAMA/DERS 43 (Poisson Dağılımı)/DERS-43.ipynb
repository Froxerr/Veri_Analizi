{
 "cells": [
  {
   "cell_type": "code",
   "execution_count": null,
   "id": "52997e09",
   "metadata": {},
   "outputs": [],
   "source": [
    "from scipy import stats"
   ]
  },
  {
   "cell_type": "code",
   "execution_count": null,
   "id": "505d64df",
   "metadata": {},
   "outputs": [],
   "source": [
    "#Bir çağrı merkezine gelen çağrı sayısı 1 dakikada 10 adet olduğuna göre 1 dakika sonra çağrı gelmeme olasılığı nedir?"
   ]
  },
  {
   "cell_type": "code",
   "execution_count": null,
   "id": "72bf67e2",
   "metadata": {},
   "outputs": [],
   "source": [
    "ortalama = 10 #Lambda yani\n",
    "\n",
    "dagilim = stats.poisson(ortalama)\n",
    "\n",
    "p0 = dagilim.pmf(k=0)\n",
    "print(p0*100)"
   ]
  },
  {
   "cell_type": "code",
   "execution_count": null,
   "id": "b5d10145",
   "metadata": {},
   "outputs": [],
   "source": [
    "#Bir televizyon satışı gerçekleştirilecek. Geçmiş verilerimizi taradık ve şu sonuca ulaştık:\n",
    "#1 yılda 1825 televizyon satışı yapılmıştır\n",
    "#Önümüzdeki herhangi bir günde 9 adet televizyon satışı yapma olasılığımız nedir?\n",
    "#Öncelikle yılı gün içine çevirip bir gün içinde ortalama televizyon satış adetini bulmamız yani lambda'yı bulmamız gerek\n",
    "print(1825/365)\n",
    "#1 günde 5 adet ortalama satış yapıyoruz"
   ]
  },
  {
   "cell_type": "code",
   "execution_count": null,
   "id": "ba3a4ce2",
   "metadata": {},
   "outputs": [],
   "source": [
    "ortalama = 5\n",
    "\n",
    "dagilim = stats.poisson(ortalama)\n",
    "satis = dagilim.pmf(k=9)\n",
    "print(satis*100)"
   ]
  },
  {
   "cell_type": "code",
   "execution_count": null,
   "id": "9a104218",
   "metadata": {},
   "outputs": [],
   "source": [
    "#Bir x ülkesine çatı malzemesi satılacak. Satış işlerini planlarken garanti belgesini oluşturma aşamasına geliyoruz,\n",
    "#ama sorun şu ki garanti belge süresine göre o ülkenin meteorolojik durumu bana sıkıntı çıkarır mı diye düşünüyoruz\n",
    "#Çatıyı satacağımız x ülkesinin meteorolojik durumunu inceliyoruz ve şu sonuçlara ulaşıyoruz:\n",
    "#Yılda ortalama 2 fırtına ortaya çıkıyor\n",
    "#1 yılda 1, 3, 5 fırtına olma olasılığı nedir?"
   ]
  },
  {
   "cell_type": "code",
   "execution_count": null,
   "id": "3e0cb447",
   "metadata": {},
   "outputs": [],
   "source": [
    "ortalama = 2\n",
    "dagilim = stats.poisson(ortalama)\n",
    "#1 defa fırtına olma olasılığı için\n",
    "bir_yil = dagilim.pmf(k=1)\n",
    "print(bir_yil*100)\n",
    "\n",
    "#3 defa fırtına olma olasılığı için\n",
    "iki_yil = dagilim.pmf(k=3)\n",
    "print(iki_yil*100)\n",
    "\n",
    "#5 defa fırtına olma olasılığı için\n",
    "iki_yil = dagilim.pmf(k=5)\n",
    "print(iki_yil*100)"
   ]
  },
  {
   "cell_type": "code",
   "execution_count": null,
   "id": "ff391c0c",
   "metadata": {},
   "outputs": [],
   "source": [
    "#Marmara bölgesiyle ilgili deprem olasılık modellemesi yapmak istiyoruz\n",
    "#Ortalama 1 yılda 6 deprem oluyormuş\n",
    "#Önümüzdeki yıl ile ilgili en fazla ve en az 3 deprem olma olasılığı nedir\n",
    "#En fazla = P(k<=3)\n",
    "#En az = P(k > 3)"
   ]
  },
  {
   "cell_type": "code",
   "execution_count": null,
   "id": "9e9e1c04",
   "metadata": {},
   "outputs": [],
   "source": [
    "ortalama = 6\n",
    "dagilim = stats.poisson(ortalama)\n",
    "#En fazla deprem olma olasığılı\n",
    "en_fazla_deprem = dagilim.cdf(x=3)\n",
    "print(en_fazla_deprem*100)\n",
    "#En az deprem olma olasılığı\n",
    "en_az_deprem = 1-dagilim.cdf(x=3)\n",
    "print(en_az_deprem*100)"
   ]
  },
  {
   "cell_type": "code",
   "execution_count": null,
   "id": "470c2e84",
   "metadata": {},
   "outputs": [],
   "source": [
    "#Borsa verilerini incelediğimizi düşünelim\n",
    "#1 yılda ortalama olarak 2 defa %10'dan daha fazla yükseldiğini fark ettik\n",
    "#Önümüzdeki yıl da 1 defadan fazla %10'dan yükselme olasılığı\n",
    "#P(x > 1)"
   ]
  },
  {
   "cell_type": "code",
   "execution_count": null,
   "id": "c2b24222",
   "metadata": {},
   "outputs": [],
   "source": [
    "ortalama = 2\n",
    "dagilim = stats.poisson(ortalama)\n",
    "\n",
    "borsa_verisi = 1-dagilim.cdf(x=1)\n",
    "print(borsa_verisi*100)"
   ]
  }
 ],
 "metadata": {
  "kernelspec": {
   "display_name": "Python 3 (ipykernel)",
   "language": "python",
   "name": "python3"
  },
  "language_info": {
   "codemirror_mode": {
    "name": "ipython",
    "version": 3
   },
   "file_extension": ".py",
   "mimetype": "text/x-python",
   "name": "python",
   "nbconvert_exporter": "python",
   "pygments_lexer": "ipython3",
   "version": "3.11.4"
  }
 },
 "nbformat": 4,
 "nbformat_minor": 5
}
