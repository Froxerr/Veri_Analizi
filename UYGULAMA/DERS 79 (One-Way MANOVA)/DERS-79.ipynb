{
 "cells": [
  {
   "cell_type": "code",
   "execution_count": null,
   "id": "6e0ba717",
   "metadata": {},
   "outputs": [],
   "source": [
    "import pandas as pd\n",
    "from scipy import stats\n",
    "import pingouin as pg\n",
    "from statsmodels.multivariate.manova import MANOVA"
   ]
  },
  {
   "cell_type": "code",
   "execution_count": null,
   "id": "ecefff40",
   "metadata": {},
   "outputs": [],
   "source": [
    "#ORNEK 1\n",
    "#Ürünler arasında kadınların veya erkeklerin tutumunda bir fark yaratıyor mu?"
   ]
  },
  {
   "cell_type": "code",
   "execution_count": null,
   "id": "e70fe0ea",
   "metadata": {},
   "outputs": [],
   "source": [
    "df = pd.DataFrame(pd.read_excel(\"ornek.xlsx\"))\n",
    "df.head()"
   ]
  },
  {
   "cell_type": "code",
   "execution_count": null,
   "id": "3bf4250e",
   "metadata": {},
   "outputs": [],
   "source": [
    "#Homojenlik Testi\n",
    "#Center = normal olarak medyan olarak gelir, ama biz ortalamaya baktığımız için \"mean\" olarak atıyoruz\n",
    "homojenlik = pg.homoscedasticity(df,dv=\"ErkekTutum\",group=\"Ürün\",center=\"mean\")\n",
    "print(homojenlik)\n",
    "homojenlik = pg.homoscedasticity(df,dv=\"KadınTutum\",group=\"Ürün\",center=\"mean\")\n",
    "print(homojenlik)"
   ]
  },
  {
   "cell_type": "code",
   "execution_count": null,
   "id": "f4ecd2a6",
   "metadata": {},
   "outputs": [],
   "source": [
    "#Varyans kovaryans eşitliği Testi\n",
    "#dvs = Bağımlı değişkenler\n",
    "varcov = pg.box_m(df,dvs=[\"ErkekTutum\",\"KadınTutum\"],group=\"Ürün\")\n",
    "print(varcov) #p-value 0.05'ten büyük olduğu için geçerli bir varyans kovaryans çıkmaktadır"
   ]
  },
  {
   "cell_type": "code",
   "execution_count": null,
   "id": "91657c00",
   "metadata": {},
   "outputs": [],
   "source": [
    "#Manova yapısını kurma işlemi\n",
    "#Genellikle Wilks' lambda testi kullanılır\n",
    "model = MANOVA.from_formula(\"ErkekTutum+KadınTutum~Ürün\",df)\n",
    "print(model.mv_test()) #Eğer \"Pr > F\" 0.05'ten büyükse, H0 reddedilemez, yani ortalamalar arasında herhangi bir fark yoktur"
   ]
  },
  {
   "cell_type": "code",
   "execution_count": null,
   "id": "375449a4",
   "metadata": {},
   "outputs": [],
   "source": [
    "#Posthoc testi bir sonuç vermemekle birlikte, gene örnek olarak burada durmaktadır\n",
    "posthoc1 = pg.pairwise_tukey(df,dv=\"ErkekTutum\",between=\"Ürün\")\n",
    "posthoc2 = pg.pairwise_tukey(df,dv=\"KadınTutum\",between=\"Ürün\")\n",
    "print(posthoc1,posthoc2)"
   ]
  }
 ],
 "metadata": {
  "kernelspec": {
   "display_name": "Python 3 (ipykernel)",
   "language": "python",
   "name": "python3"
  },
  "language_info": {
   "codemirror_mode": {
    "name": "ipython",
    "version": 3
   },
   "file_extension": ".py",
   "mimetype": "text/x-python",
   "name": "python",
   "nbconvert_exporter": "python",
   "pygments_lexer": "ipython3",
   "version": "3.11.4"
  }
 },
 "nbformat": 4,
 "nbformat_minor": 5
}
