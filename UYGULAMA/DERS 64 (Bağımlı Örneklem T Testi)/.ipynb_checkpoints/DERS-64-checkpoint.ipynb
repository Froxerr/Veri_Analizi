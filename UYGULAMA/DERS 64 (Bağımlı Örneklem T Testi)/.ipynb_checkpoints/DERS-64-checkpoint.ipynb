{
 "cells": [
  {
   "cell_type": "code",
   "execution_count": null,
   "id": "7fa050b8",
   "metadata": {},
   "outputs": [],
   "source": [
    "from scipy import stats\n",
    "import pandas as pd"
   ]
  },
  {
   "cell_type": "code",
   "execution_count": null,
   "id": "99d84f58",
   "metadata": {},
   "outputs": [],
   "source": [
    "#Bir okulda yeni bir eğitim sistemi geliştirildi. Bu eğitim sisteminin öğrenciler üzerindeki etkisini \n",
    "#hesaplamaya çalışıyoruz. Bunun için 9 öğrenci seçiliyor.\n",
    "#Eğitim sistemi öncesi sınavlardan aldıkları puanlar not alınıyor\n",
    "#Aynı öğrenciler için yeni eğitim sisteminde sınavlardan aldıkları puanlar not ediliyor"
   ]
  },
  {
   "cell_type": "code",
   "execution_count": null,
   "id": "f71026fe",
   "metadata": {},
   "outputs": [],
   "source": [
    "df = pd.DataFrame(pd.read_excel(\"ornek.xlsx\"))\n",
    "\n",
    "test = stats.ttest_rel(df[\"Önce\"],df[\"Sonra\"],alternative=\"two-sided\")\n",
    "print(test)"
   ]
  }
 ],
 "metadata": {
  "kernelspec": {
   "display_name": "Python 3 (ipykernel)",
   "language": "python",
   "name": "python3"
  },
  "language_info": {
   "codemirror_mode": {
    "name": "ipython",
    "version": 3
   },
   "file_extension": ".py",
   "mimetype": "text/x-python",
   "name": "python",
   "nbconvert_exporter": "python",
   "pygments_lexer": "ipython3",
   "version": "3.11.4"
  }
 },
 "nbformat": 4,
 "nbformat_minor": 5
}
