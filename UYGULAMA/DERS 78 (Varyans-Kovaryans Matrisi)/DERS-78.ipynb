{
 "cells": [
  {
   "cell_type": "code",
   "execution_count": null,
   "id": "40b134d4",
   "metadata": {},
   "outputs": [],
   "source": [
    "import numpy as np"
   ]
  },
  {
   "cell_type": "code",
   "execution_count": null,
   "id": "07f5a333",
   "metadata": {},
   "outputs": [],
   "source": [
    "x = [45,37,42,35,39]\n",
    "y = [38,31,26,28,33]\n",
    "\n",
    "veri = np.array([x,y])\n",
    "#bias = True Popülasyon, False Örneklem\n",
    "varcov = np.cov(veri,bias=True)\n",
    "print(varcov)\n",
    "print(np.var(x))\n",
    "print(np.var(y))"
   ]
  }
 ],
 "metadata": {
  "kernelspec": {
   "display_name": "Python 3 (ipykernel)",
   "language": "python",
   "name": "python3"
  },
  "language_info": {
   "codemirror_mode": {
    "name": "ipython",
    "version": 3
   },
   "file_extension": ".py",
   "mimetype": "text/x-python",
   "name": "python",
   "nbconvert_exporter": "python",
   "pygments_lexer": "ipython3",
   "version": "3.11.4"
  }
 },
 "nbformat": 4,
 "nbformat_minor": 5
}
