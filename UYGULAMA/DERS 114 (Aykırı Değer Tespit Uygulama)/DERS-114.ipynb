{
 "cells": [
  {
   "cell_type": "code",
   "execution_count": null,
   "id": "0afe6d2e",
   "metadata": {},
   "outputs": [],
   "source": [
    "import matplotlib.pyplot as plt\n",
    "import seaborn as sns\n",
    "import pandas as pd\n",
    "from sklearn.neighbors import LocalOutlierFactor"
   ]
  },
  {
   "cell_type": "code",
   "execution_count": null,
   "id": "2cda0de1",
   "metadata": {},
   "outputs": [],
   "source": [
    "df = sns.load_dataset(\"titanic\")\n",
    "df.head()"
   ]
  },
  {
   "cell_type": "code",
   "execution_count": null,
   "id": "4a966190",
   "metadata": {},
   "outputs": [],
   "source": [
    "#TEK DEĞİŞKENLİ"
   ]
  },
  {
   "cell_type": "code",
   "execution_count": null,
   "id": "41d4d393",
   "metadata": {
    "scrolled": false
   },
   "outputs": [],
   "source": [
    "#Tek değişkenli örnek yapacağımız için age değeri üzerine yoğunlaşıyoruz\n",
    "df2 = df.copy()\n",
    "print(df2.isnull().sum())"
   ]
  },
  {
   "cell_type": "code",
   "execution_count": null,
   "id": "94da4de2",
   "metadata": {},
   "outputs": [],
   "source": [
    "df2[\"age\"].fillna(df2.groupby(\"sex\")[\"age\"].transform(\"mean\"),inplace=True)\n",
    "df2.isnull().sum()"
   ]
  },
  {
   "cell_type": "code",
   "execution_count": null,
   "id": "93778963",
   "metadata": {},
   "outputs": [],
   "source": [
    "#Aykırı değerleri belirledik. Şimdi ise hangi değerlerde eksik veriler olduğunu tespit etmemiz gerekiyor\n",
    "sns.boxplot(df2[\"age\"])\n",
    "plt.show()"
   ]
  },
  {
   "cell_type": "code",
   "execution_count": null,
   "id": "8a865094",
   "metadata": {},
   "outputs": [],
   "source": [
    "#Kutu grafiğinde Q3 – Q1 değeri %50'den büyük olanları aykırı değer olarak kabul ediyoruz\n",
    "#Kutu grafiğinde aykırı değerleri bulmak için IQR (Q3 - Q1) + 1.5 kullanılır\n",
    "#quantile = Quantile, çeyreklikleri ifade eder, yani %25'in sınırını belirtir\n",
    "Q1 = df2[\"age\"].quantile(0.25)\n",
    "Q3 = df2[\"age\"].quantile(0.75)\n",
    "IQR = Q3-Q1 \n",
    "\n",
    "\n",
    "altsinir = Q1 - 1.5*IQR\n",
    "ustsinir = Q3 + 1.5*IQR\n",
    "#askucuk = Alt sınırdan küçük olanları belirlemek için 'askucuk' adında bir değişken oluşturduk\n",
    "askucuk = df2[df2[\"age\"]<altsinir][\"age\"]\n",
    "usbuyuk = df2[df2[\"age\"]>ustsinir][\"age\"]\n"
   ]
  },
  {
   "cell_type": "code",
   "execution_count": null,
   "id": "06eb4e8c",
   "metadata": {},
   "outputs": [],
   "source": [
    "#ÇOK DEĞİŞKENLİ"
   ]
  },
  {
   "cell_type": "code",
   "execution_count": null,
   "id": "4a8560d3",
   "metadata": {},
   "outputs": [],
   "source": [
    "#Ücret ve bahşiş üzerine yoğunlaşıyoruz\n",
    "df = sns.load_dataset(\"taxis\")\n",
    "df2 = df.copy()\n",
    "print(df2.isnull().sum()) #fare ve tipte herhangi bir boş değer yok"
   ]
  },
  {
   "cell_type": "code",
   "execution_count": null,
   "id": "a86764d7",
   "metadata": {},
   "outputs": [],
   "source": [
    "sns.scatterplot(df2,x=\"fare\",y=\"tip\")\n",
    "plt.show() #Çok karmaşık, ancak bu görüntü bize aykırı gözlem olabileceği konusunda bir fikir veriyor"
   ]
  },
  {
   "cell_type": "code",
   "execution_count": null,
   "id": "2daa8dd4",
   "metadata": {},
   "outputs": [],
   "source": [
    "aykiri = pd.DataFrame(data=df2,columns=[\"fare\",\"tip\"])\n",
    "aykiri.head()"
   ]
  },
  {
   "cell_type": "code",
   "execution_count": null,
   "id": "e96fa2f9",
   "metadata": {},
   "outputs": [],
   "source": [
    "LOF = LocalOutlierFactor(n_neighbors=20,contamination=0.1)\n",
    "tahmin = LOF.fit_predict(aykiri)\n",
    "print(aykiri[tahmin==-1].count())"
   ]
  }
 ],
 "metadata": {
  "kernelspec": {
   "display_name": "Python 3 (ipykernel)",
   "language": "python",
   "name": "python3"
  },
  "language_info": {
   "codemirror_mode": {
    "name": "ipython",
    "version": 3
   },
   "file_extension": ".py",
   "mimetype": "text/x-python",
   "name": "python",
   "nbconvert_exporter": "python",
   "pygments_lexer": "ipython3",
   "version": "3.11.4"
  }
 },
 "nbformat": 4,
 "nbformat_minor": 5
}
