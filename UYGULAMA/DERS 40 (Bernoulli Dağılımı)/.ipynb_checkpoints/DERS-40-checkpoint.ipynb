{
 "cells": [
  {
   "cell_type": "code",
   "execution_count": null,
   "id": "357c8169",
   "metadata": {},
   "outputs": [],
   "source": [
    "from scipy import stats"
   ]
  },
  {
   "cell_type": "code",
   "execution_count": null,
   "id": "4a76ddd2",
   "metadata": {},
   "outputs": [],
   "source": [
    "#Yazı Tura Örneği"
   ]
  },
  {
   "cell_type": "code",
   "execution_count": null,
   "id": "b6449f8e",
   "metadata": {},
   "outputs": [],
   "source": [
    "#p = Başarılı olma olasılığım\n",
    "p=0.5\n",
    "dagilim = stats.bernoulli(p)\n",
    "\n",
    "#Bernoulli kesikli bir dağılımdır, kesikli dağılım ise Kütle Fonksiyonudur\n",
    "#Probability mass function (PMF) == Olasılık Kütle Fonksiyonu (OKF)\n",
    "#k = Excel örneğinde verdiğimiz x olayı, yani 0 yanlış, 1 doğru gibi\n",
    "tolasilik = dagilim.pmf(k=0) # Başarısız olasılığım\n",
    "yolasilik = dagilim.pmf(k=1) # Başarılı olasılığım\n",
    "\n",
    "print(f\"Yazı gelme olasılığı {yolasilik} iken tura gelme olasılığı {tolasilik} dır\")\n",
    "print(dagilim.expect()) # .expect = Beklenen değer demek\n",
    "print(dagilim.var()) # .var = Varyans demek"
   ]
  },
  {
   "cell_type": "code",
   "execution_count": null,
   "id": "490b7c18",
   "metadata": {},
   "outputs": [],
   "source": [
    "# Bir desteden papaz bulma olasılığım"
   ]
  },
  {
   "cell_type": "code",
   "execution_count": null,
   "id": "3e24e000",
   "metadata": {},
   "outputs": [],
   "source": [
    "#p = Başarılı olma olasılığım\n",
    "p=4/52\n",
    "dagilim = stats.bernoulli(p)\n",
    "\n",
    "papazbulmama = dagilim.pmf(k=0)\n",
    "papazbulma = dagilim.pmf(k=1) \n",
    "\n",
    "print(f\"Papaz gelme olasılığı {papazbulma} iken papaz gelmeme olasılığı {papazbulmama} dır\")\n",
    "print(dagilim.expect())\n",
    "print(dagilim.var())"
   ]
  }
 ],
 "metadata": {
  "kernelspec": {
   "display_name": "Python 3 (ipykernel)",
   "language": "python",
   "name": "python3"
  },
  "language_info": {
   "codemirror_mode": {
    "name": "ipython",
    "version": 3
   },
   "file_extension": ".py",
   "mimetype": "text/x-python",
   "name": "python",
   "nbconvert_exporter": "python",
   "pygments_lexer": "ipython3",
   "version": "3.11.4"
  }
 },
 "nbformat": 4,
 "nbformat_minor": 5
}
