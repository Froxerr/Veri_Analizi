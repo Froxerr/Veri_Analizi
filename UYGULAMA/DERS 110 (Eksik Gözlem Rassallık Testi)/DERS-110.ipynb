{
 "cells": [
  {
   "cell_type": "code",
   "execution_count": null,
   "id": "1072a971",
   "metadata": {},
   "outputs": [],
   "source": [
    "import pandas as pd\n",
    "import missingno as msno\n",
    "import matplotlib.pyplot as plt"
   ]
  },
  {
   "cell_type": "code",
   "execution_count": null,
   "id": "4214f367",
   "metadata": {},
   "outputs": [],
   "source": [
    "df = pd.DataFrame(pd.read_excel(\"ornek.xlsx\"))\n",
    "df.head()"
   ]
  },
  {
   "cell_type": "code",
   "execution_count": null,
   "id": "2679925a",
   "metadata": {
    "scrolled": true
   },
   "outputs": [],
   "source": [
    "df2 = df.copy() #Ham datanın zarar görmemesi için kopyası üzerinden çalışıyoruz\n",
    "print(df2)"
   ]
  },
  {
   "cell_type": "code",
   "execution_count": null,
   "id": "15b89d4f",
   "metadata": {},
   "outputs": [],
   "source": [
    "msno.matrix(df2)\n",
    "plt.show()"
   ]
  },
  {
   "cell_type": "code",
   "execution_count": null,
   "id": "45af7521",
   "metadata": {},
   "outputs": [],
   "source": [
    "#df3 = df2.notnull().astype(\"int\") #Eğer alttaki hata verirse, başka bir yöntem olarak kullanılabilir\n",
    "#df3\n",
    "df2[~df2.isnull()] = 1 #Null değeri olmayanları getirip 1 değerine atıyor\n",
    "df2[df2.isnull()] = 0 #Null değeri olanları getirip 0 değerine atıyor\n",
    "df2"
   ]
  },
  {
   "cell_type": "code",
   "execution_count": null,
   "id": "798d0837",
   "metadata": {
    "scrolled": true
   },
   "outputs": [],
   "source": [
    "df3.corr()"
   ]
  }
 ],
 "metadata": {
  "kernelspec": {
   "display_name": "Python 3 (ipykernel)",
   "language": "python",
   "name": "python3"
  },
  "language_info": {
   "codemirror_mode": {
    "name": "ipython",
    "version": 3
   },
   "file_extension": ".py",
   "mimetype": "text/x-python",
   "name": "python",
   "nbconvert_exporter": "python",
   "pygments_lexer": "ipython3",
   "version": "3.11.4"
  }
 },
 "nbformat": 4,
 "nbformat_minor": 5
}
