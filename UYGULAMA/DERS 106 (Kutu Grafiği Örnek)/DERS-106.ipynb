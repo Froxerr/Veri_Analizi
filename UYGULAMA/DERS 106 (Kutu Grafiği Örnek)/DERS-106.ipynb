{
 "cells": [
  {
   "cell_type": "code",
   "execution_count": null,
   "id": "fd0c9491",
   "metadata": {},
   "outputs": [],
   "source": [
    "import matplotlib.pyplot as plt\n",
    "import seaborn as sns"
   ]
  },
  {
   "cell_type": "code",
   "execution_count": null,
   "id": "9f8012c3",
   "metadata": {},
   "outputs": [],
   "source": [
    "df = sns.load_dataset(\"titanic\")\n",
    "df.head()"
   ]
  },
  {
   "cell_type": "code",
   "execution_count": null,
   "id": "f9fc5812",
   "metadata": {},
   "outputs": [],
   "source": [
    "ozet = df.describe()\n",
    "ozet[\"age\"]"
   ]
  },
  {
   "cell_type": "code",
   "execution_count": null,
   "id": "c1c95dab",
   "metadata": {},
   "outputs": [],
   "source": [
    "#Ana çizgi medyan değeridir\n",
    "#showmeans = Kutunun üzerinde ortalama bir değeri gösterir\n",
    "sns.boxplot(x=df[\"age\"],color=\"red\",showmeans=True)\n",
    "plt.show()"
   ]
  },
  {
   "cell_type": "code",
   "execution_count": null,
   "id": "6da7d3fa",
   "metadata": {},
   "outputs": [],
   "source": [
    "sns.boxplot(x=df[\"sex\"],y=df[\"age\"],showmeans=True)\n",
    "plt.show()"
   ]
  }
 ],
 "metadata": {
  "kernelspec": {
   "display_name": "Python 3 (ipykernel)",
   "language": "python",
   "name": "python3"
  },
  "language_info": {
   "codemirror_mode": {
    "name": "ipython",
    "version": 3
   },
   "file_extension": ".py",
   "mimetype": "text/x-python",
   "name": "python",
   "nbconvert_exporter": "python",
   "pygments_lexer": "ipython3",
   "version": "3.11.4"
  }
 },
 "nbformat": 4,
 "nbformat_minor": 5
}
