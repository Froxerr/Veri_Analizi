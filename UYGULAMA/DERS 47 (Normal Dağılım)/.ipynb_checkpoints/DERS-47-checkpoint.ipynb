{
 "cells": [
  {
   "cell_type": "code",
   "execution_count": null,
   "id": "8d3e85be",
   "metadata": {},
   "outputs": [],
   "source": [
    "from scipy import stats\n",
    "import numpy as np"
   ]
  },
  {
   "cell_type": "code",
   "execution_count": null,
   "id": "9f69485e",
   "metadata": {},
   "outputs": [],
   "source": [
    "#Veriler normal dağıldığı bilinmektedir\n",
    "#Bir fabrikada üretilen bir ürünün ortalama ağırlığı 500 gramdır\n",
    "#varyansı 100 gramdır\n",
    "#Rassal olarak seçilen bir ürünün ağırlığının 518 gramdan az olma ihtimali nedir?"
   ]
  },
  {
   "cell_type": "code",
   "execution_count": null,
   "id": "d26ff3f9",
   "metadata": {},
   "outputs": [],
   "source": [
    "ortalama = 500\n",
    "varyans = 100\n",
    "\n",
    "dagilim = stats.norm(ortalama,np.sqrt(varyans))\n",
    "olasilik = dagilim.cdf(x=518)\n",
    "\n",
    "print(olasilik*100)"
   ]
  }
 ],
 "metadata": {
  "kernelspec": {
   "display_name": "Python 3 (ipykernel)",
   "language": "python",
   "name": "python3"
  },
  "language_info": {
   "codemirror_mode": {
    "name": "ipython",
    "version": 3
   },
   "file_extension": ".py",
   "mimetype": "text/x-python",
   "name": "python",
   "nbconvert_exporter": "python",
   "pygments_lexer": "ipython3",
   "version": "3.11.4"
  }
 },
 "nbformat": 4,
 "nbformat_minor": 5
}
