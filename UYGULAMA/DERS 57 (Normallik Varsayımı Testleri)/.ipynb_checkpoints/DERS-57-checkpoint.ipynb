{
 "cells": [
  {
   "cell_type": "code",
   "execution_count": null,
   "id": "31f51c5b",
   "metadata": {},
   "outputs": [],
   "source": [
    "import numpy as np\n",
    "from scipy import stats\n",
    "import matplotlib.pyplot as plt\n",
    "import seaborn as sns"
   ]
  },
  {
   "cell_type": "code",
   "execution_count": null,
   "id": "7e2de97f",
   "metadata": {},
   "outputs": [],
   "source": [
    "np.random.seed(0)\n",
    "#rvs = Random variates of given type\n",
    "veri = stats.norm.rvs(loc=38,size=500)\n",
    "#Kurtosis ve Skewness değerleri, -1.5 ile +1.5 olduğu zaman aralığında normal dağılım gösterir\n",
    "print(stats.kurtosis(veri))\n",
    "print(stats.skew(veri))"
   ]
  },
  {
   "cell_type": "code",
   "execution_count": null,
   "id": "c7b667d4",
   "metadata": {},
   "outputs": [],
   "source": [
    "#Normal dağılımı gösteren bir yapı\n",
    "sns.histplot(veri, kde=True)\n",
    "plt.show()"
   ]
  },
  {
   "cell_type": "code",
   "execution_count": null,
   "id": "047b1885",
   "metadata": {},
   "outputs": [],
   "source": [
    "#dist = Hangi dağılımı görmek istiyorsun, ben normali görmek istiyorum, bu yüzden 'norm' yazıyorum\n",
    "#Eğer çıktı da çizgiye ne kadar yakınsa, dist'te o kadar uyuyor\n",
    "stats.probplot(veri,dist=\"norm\",plot=plt)\n",
    "plt.show()"
   ]
  },
  {
   "cell_type": "code",
   "execution_count": null,
   "id": "20016c8d",
   "metadata": {},
   "outputs": [],
   "source": [
    "#Normal dağılıp dağılmadığını Kolmogorov-Smirnov Sınaması kullanarak kontrol etme\n",
    "#Kolmogorov-Smirnov Sınaması: H0: Doğru ise Normal Dağılım | H1: Doğru ise Normal Dağılım Değildir\n",
    "#Alfa = 0.05 = %95 için,\n",
    "#p-value < alfa(0.05) ise Normal dağılım değildir"
   ]
  },
  {
   "cell_type": "code",
   "execution_count": null,
   "id": "a07a0897",
   "metadata": {},
   "outputs": [],
   "source": [
    "#cdf = Hangi sınamayı yapmak istediğimizi gönderiyoruz\n",
    "#Args = Bizim verimize ait olan ortalama ve standart sapmasını gönderiyoruz. Eğer bunu göndermezsek\n",
    "#Ortalamayı 0, standart sapmayı ise 1 olarak alacak ve bu da bizi yanıltabilir\n",
    "ks=stats.kstest(veri,cdf=\"norm\",args=(veri.mean(),veri.std()))\n",
    "print(ks)\n",
    "print(f\"{ks.pvalue:5f}\")\n",
    "#0.986153 > 0.05 NORMAL DAĞILIMDIR."
   ]
  },
  {
   "cell_type": "code",
   "execution_count": null,
   "id": "362b1b47",
   "metadata": {},
   "outputs": [],
   "source": [
    "#Normal dağılıp dağılmadığını Shapiro-Wilk Sınaması kullanarak kontrol etme\n",
    "#Shapiro-Wilk Sınaması: H0: Doğru ise Normal Dağılım | H1: Doğru ise Normal Dağılım Değildir\n",
    "\n",
    "#Alfa = 0.05 = %95 için,\n",
    "#pvalue < alfa(0.05) Normal dağılım değildir"
   ]
  },
  {
   "cell_type": "code",
   "execution_count": null,
   "id": "731a1612",
   "metadata": {},
   "outputs": [],
   "source": [
    "sw = stats.shapiro(veri)\n",
    "print(sw)\n",
    "print(f\"{sw.pvalue:5f}\")"
   ]
  }
 ],
 "metadata": {
  "kernelspec": {
   "display_name": "Python 3 (ipykernel)",
   "language": "python",
   "name": "python3"
  },
  "language_info": {
   "codemirror_mode": {
    "name": "ipython",
    "version": 3
   },
   "file_extension": ".py",
   "mimetype": "text/x-python",
   "name": "python",
   "nbconvert_exporter": "python",
   "pygments_lexer": "ipython3",
   "version": "3.11.4"
  }
 },
 "nbformat": 4,
 "nbformat_minor": 5
}
