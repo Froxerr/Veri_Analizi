{
 "cells": [
  {
   "cell_type": "code",
   "execution_count": null,
   "id": "adc92517",
   "metadata": {},
   "outputs": [],
   "source": [
    "import pandas as pd\n",
    "import pingouin as pg"
   ]
  },
  {
   "cell_type": "code",
   "execution_count": null,
   "id": "d81e2178",
   "metadata": {},
   "outputs": [],
   "source": [
    "df = pd.DataFrame(pd.read_excel(\"ornek.xlsx\"))\n",
    "df"
   ]
  },
  {
   "cell_type": "code",
   "execution_count": null,
   "id": "5099242e",
   "metadata": {},
   "outputs": [],
   "source": [
    "fark = df[\"TÖ\"]-df[\"Ts\"]\n",
    "print(fark)"
   ]
  },
  {
   "cell_type": "code",
   "execution_count": null,
   "id": "f00219dd",
   "metadata": {},
   "outputs": [],
   "source": [
    "normallik = pg.normality(fark)\n",
    "print(normallik)"
   ]
  },
  {
   "cell_type": "code",
   "execution_count": null,
   "id": "857ea379",
   "metadata": {},
   "outputs": [],
   "source": [
    "test = pg.wilcoxon(df[\"TÖ\"],df[\"Ts\"],alternative=\"two-sided\")\n",
    "print(test)"
   ]
  }
 ],
 "metadata": {
  "kernelspec": {
   "display_name": "Python 3 (ipykernel)",
   "language": "python",
   "name": "python3"
  },
  "language_info": {
   "codemirror_mode": {
    "name": "ipython",
    "version": 3
   },
   "file_extension": ".py",
   "mimetype": "text/x-python",
   "name": "python",
   "nbconvert_exporter": "python",
   "pygments_lexer": "ipython3",
   "version": "3.11.4"
  }
 },
 "nbformat": 4,
 "nbformat_minor": 5
}
