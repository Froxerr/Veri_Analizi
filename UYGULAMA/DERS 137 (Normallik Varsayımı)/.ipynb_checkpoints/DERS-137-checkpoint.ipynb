{
 "cells": [
  {
   "cell_type": "code",
   "execution_count": null,
   "id": "38289517",
   "metadata": {},
   "outputs": [],
   "source": [
    "import pandas as pd\n",
    "import seaborn as sns\n",
    "import matplotlib.pyplot as plt\n",
    "import statsmodels.api as sm\n",
    "import numpy as np"
   ]
  },
  {
   "cell_type": "code",
   "execution_count": null,
   "id": "8e036169",
   "metadata": {},
   "outputs": [],
   "source": [
    "df = pd.DataFrame(pd.read_csv(\"Advertising.csv\"))\n",
    "df.drop(df.columns[0],inplace=True,axis=1)\n",
    "df.head()"
   ]
  },
  {
   "cell_type": "code",
   "execution_count": null,
   "id": "39130a3d",
   "metadata": {},
   "outputs": [],
   "source": [
    "sns.pairplot(df,y_vars=\"Sales\",x_vars=[\"TV\",\"Radio\",\"Newspaper\"],kind=\"reg\")\n",
    "plt.show()"
   ]
  },
  {
   "cell_type": "code",
   "execution_count": null,
   "id": "f6152c04",
   "metadata": {},
   "outputs": [],
   "source": [
    "y=df[\"Sales\"]\n",
    "x=df[[\"TV\",\"Radio\"]]\n",
    "\n",
    "sabit = sm.add_constant(x)\n",
    "model = sm.OLS(y,sabit).fit()\n",
    "print(model.resid)#Hata terimlerini yazdırma \n",
    "print(np.mean(model.resid))#Hata terimleri, 0'a oldukça yakın bir değer göstermelidir"
   ]
  },
  {
   "cell_type": "code",
   "execution_count": null,
   "id": "d9cdf512",
   "metadata": {},
   "outputs": [],
   "source": [
    "sns.displot(model.resid,kde=\"s\")\n",
    "plt.show()"
   ]
  },
  {
   "cell_type": "code",
   "execution_count": null,
   "id": "ea579b05",
   "metadata": {},
   "outputs": [],
   "source": [
    "#EN ÇOK KULLANILAN BUDUR\n",
    "sm.qqplot(model.resid,line=\"s\")\n",
    "plt.show()"
   ]
  },
  {
   "cell_type": "code",
   "execution_count": null,
   "id": "ea62b749",
   "metadata": {},
   "outputs": [],
   "source": [
    "#Ho = Normal dağılım gösterir\n",
    "#H1 = Normal dağılım göstermez\n",
    "print(model.summary())\n",
    "#Düşük veya aykırı gözlem değeri içeren verilerde Jarque-Bera hatalı bir sonuç verebilir\n",
    "#Jarque-Bera (JB):              148.679\n",
    "#Prob(JB):                     5.19e-33 = 0.05'ten küçük olduğu için Ho hipotezi reddedilir ve bu\n",
    "#hata terimlerinin normal bir dağılım göstermediği anlamına gelir"
   ]
  }
 ],
 "metadata": {
  "kernelspec": {
   "display_name": "Python 3 (ipykernel)",
   "language": "python",
   "name": "python3"
  },
  "language_info": {
   "codemirror_mode": {
    "name": "ipython",
    "version": 3
   },
   "file_extension": ".py",
   "mimetype": "text/x-python",
   "name": "python",
   "nbconvert_exporter": "python",
   "pygments_lexer": "ipython3",
   "version": "3.11.4"
  }
 },
 "nbformat": 4,
 "nbformat_minor": 5
}
