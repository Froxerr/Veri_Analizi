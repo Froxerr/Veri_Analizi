{
 "cells": [
  {
   "cell_type": "markdown",
   "id": "f09145f5",
   "metadata": {},
   "source": [
    "# DERS 123"
   ]
  },
  {
   "cell_type": "code",
   "execution_count": null,
   "id": "f7f10622",
   "metadata": {},
   "outputs": [],
   "source": [
    "#Online çevrimiçi perakende satışlarıyla ilgili toplanmış bir veri üzerinde çalışıyoruz"
   ]
  },
  {
   "cell_type": "code",
   "execution_count": null,
   "id": "89f017a6",
   "metadata": {},
   "outputs": [],
   "source": [
    "import pandas as pd\n",
    "import numpy as np\n",
    "import matplotlib.pyplot as plt\n",
    "import seaborn as sns\n",
    "from datetime import datetime "
   ]
  },
  {
   "cell_type": "code",
   "execution_count": null,
   "id": "dfd1faaa",
   "metadata": {},
   "outputs": [],
   "source": [
    "hamveri = pd.DataFrame(pd.read_csv(\"veri.csv\"))\n",
    "df = hamveri.copy()\n",
    "df.drop(df.columns[[0]],axis=1,inplace=True)#Unnamed sütununu silme\n",
    "#Sütun isimlerini Türkçe'ye çevirme işlemi, analiz işlemleri sırasında kolaylık sağlaması açısından (ÖNERİLMEZ)\n",
    "df.rename(columns={\n",
    "    \"Invoice\":\"Fatura No\",\n",
    "    \"StockCode\":\"Stok Kodu\",\n",
    "    \"Description\":\"Ürün Adı\",\n",
    "    \"Quantity\":\"Adet\",\n",
    "    \"InvoiceDate\":\"Fatura Tarihi\",\n",
    "    \"Price\":\"Birim Fiyat\",\n",
    "    \"Customer ID\":\"Müşteri ID\",\n",
    "    \"Country\":\"Ülke\"\n",
    "},inplace=True)\n",
    "#Belki ileride lazım olur diye 'Toplam Tutar' adlı bir sütun oluşturuyoruz\n",
    "df[\"Toplam Tutar\"] = df[\"Birim Fiyat\"] * df[\"Adet\"]\n",
    "df.head()"
   ]
  },
  {
   "cell_type": "code",
   "execution_count": null,
   "id": "80a99129",
   "metadata": {},
   "outputs": [],
   "source": [
    "#Değişken türlerinin doğru bir türde olduğunu kontrol ediyoruz\n",
    "df.info() #Fatura tarihi ile bir işimizin olacağını varsayarak objeden to_date çevirme işlemi yapıyoruz"
   ]
  },
  {
   "cell_type": "code",
   "execution_count": null,
   "id": "9b94263d",
   "metadata": {},
   "outputs": [],
   "source": [
    "df['Fatura Tarihi'] = pd.to_datetime(df['Fatura Tarihi'], infer_datetime_format=True)\n",
    "df.info()"
   ]
  },
  {
   "cell_type": "code",
   "execution_count": null,
   "id": "86bb660a",
   "metadata": {},
   "outputs": [],
   "source": [
    "#Müşteri ID, analiz sırasında çok işimize yaramayacağı için siliyoruz\n",
    "df.drop(\"Müşteri ID\",inplace=True,axis=1)\n",
    "df.head()"
   ]
  },
  {
   "cell_type": "markdown",
   "id": "2235f981",
   "metadata": {},
   "source": [
    "# DERS 124"
   ]
  },
  {
   "cell_type": "code",
   "execution_count": null,
   "id": "07bc7db0",
   "metadata": {},
   "outputs": [],
   "source": [
    "df.isnull().sum() #Kategorik bir değişken değeri olduğu için Ürün Adını bir mod değeri ile tamamlıyoruz"
   ]
  },
  {
   "cell_type": "code",
   "execution_count": null,
   "id": "72e04f06",
   "metadata": {},
   "outputs": [],
   "source": [
    "#Eğer gözlem değeri azsa, aşağıda yapılan işlem yapılabilir\n",
    "df[\"Ürün Adı\"].fillna(df[\"Ürün Adı\"].mode()[0],inplace=True)\n",
    "df.isnull().sum()"
   ]
  },
  {
   "cell_type": "code",
   "execution_count": null,
   "id": "c4ee32de",
   "metadata": {},
   "outputs": [],
   "source": [
    "#Ancak gözlem değeri fazla ve silinecek veri azsa, toplam veriye oranla az ise silme işlemi yapılabilir\n",
    "print((df[\"Ürün Adı\"].isnull().sum())/len(df)*100) #Önce toplam veri ile silinecek veri arasında oran karşılaştırılır\n",
    "#1 bile olmayan çok düşük bir değer olduğu için silme işlemini gerçekleştiriyoruz\n",
    "df.dropna(axis=0,inplace=True) #NaN değerlerini sildi ancak index değerlerini atladığı için reset_index atmamız gerekir\n",
    "df.reset_index(drop=True,inplace=True)\n",
    "df.isnull().sum()"
   ]
  },
  {
   "cell_type": "code",
   "execution_count": null,
   "id": "904aad41",
   "metadata": {},
   "outputs": [],
   "source": [
    "#Data Set'in içinde Fatura no 6 haneli bir sayıdan oluşurken iptal edilen ürünleri 'C' ile başlayarak gösteriliyor\n",
    "iptal = df[df[\"Fatura No\"].str.contains(\"C\",na=False)]#İptal edilen siparişlerin indexlerine ulaşma işlemi\n",
    "#str.contains(içermek) = Fatura numarası sütununa gidip String ifade ile çalışarak 'C' olanları arayacak\n",
    "iptal#Duruma göre bu iptaller işimize yarayacak mı, yaramayacak mı, ona göre işlem yapılır\n",
    "#Biz iptaller işimize yaramayacak şeklinde üzerinden işlem yapıyoruz\n",
    "iptalindex = [i for i in iptal.index]\n",
    "len(iptalindex)\n",
    "df.drop(df.index[iptalindex],inplace=True)#Indexlerine göre bulup siliyor\n",
    "df.reset_index(drop=True,inplace=True)#Indexleri tekrar sıfırlıyor\n",
    "iptal_kontrol = df[df[\"Fatura No\"].str.contains(\"C\",na=False)]\n",
    "iptal_kontrol #Boş gösteriyor çünkü hepsini sildik"
   ]
  },
  {
   "cell_type": "code",
   "execution_count": null,
   "id": "7411bd4e",
   "metadata": {},
   "outputs": [],
   "source": [
    "#Eğer 6 haneli sayıdan fazlaysa, Fatura Numarası bu bizim için yanlış bilgi demektir\n",
    "#(df['Fatura No'].str.len() != 6) = Fatura numarası 6 dan farklı bir uzunluğa sahipse, Fatura No'ya ata\n",
    "#!= Eşit değilse anlamına gelir\n",
    "#~ = Olumsuzluk anlamına gelir\n",
    "#| = Veya anlamına gelir\n",
    "#~df['Fatura No'].str.isdigit() = Fatura Numarasına gidip str çevirir ve bir numara olup olmadığını kontrol eder\n",
    "hata = df[(df[\"Fatura No\"].str.len()!=6) | (~df[\"Fatura No\"].str.isdigit())]\n",
    "hata"
   ]
  },
  {
   "cell_type": "code",
   "execution_count": null,
   "id": "8be9e6b8",
   "metadata": {},
   "outputs": [],
   "source": [
    "hataindex = [i for i in hata.index]\n",
    "df.drop(df.index[hataindex],inplace=True)\n",
    "df.reset_index(inplace=True,drop=True)\n",
    "hata_kontrol = df[(df[\"Fatura No\"].str.len()!=6) | (~df[\"Fatura No\"].str.isdigit())]\n",
    "hata_kontrol"
   ]
  },
  {
   "cell_type": "code",
   "execution_count": null,
   "id": "487bb0e6",
   "metadata": {},
   "outputs": [],
   "source": [
    "#Stok kodu 5 haneli olmalı ve hepsinin sayısal olması gerekiyor\n",
    "hata2 = df[(df[\"Stok Kodu\"].str.len()!=5) | (~df[\"Stok Kodu\"].str.isdigit())]\n",
    "hata2 #Hataları listeledik ve bize veriyi verenle konuştuk\n",
    "#Veriyi veren kişi içinde harf yapısı varsa, onlar hatalı girilmiştir ve sizin işinize yaramaz\n",
    "#Ama sayısal olanlar, yani 5'ten fazla olanlar kalsın dediler\n",
    "hata3 = df[~df[\"Stok Kodu\"].str.isdigit()]\n",
    "hata3 #Bu değerleri bize silin dediler\n",
    "hataindex2 = [i for i in hata3.index]\n",
    "df.drop(df.index[hataindex2],inplace=True)\n",
    "df.reset_index(inplace=True,drop=True)\n",
    "hata_kontrol2 = df[~df[\"Stok Kodu\"].str.isdigit()]\n",
    "hata_kontrol2"
   ]
  },
  {
   "cell_type": "code",
   "execution_count": null,
   "id": "3702a596",
   "metadata": {},
   "outputs": [],
   "source": [
    "print(len(hamveri))\n",
    "print(len(df))\n",
    "print(len(hamveri) - len(df))"
   ]
  },
  {
   "cell_type": "code",
   "execution_count": null,
   "id": "a2055665",
   "metadata": {},
   "outputs": [],
   "source": [
    "#Bize dediler ki, Adet 0'dan küçük olamaz\n",
    "hata4 = df[df[\"Adet\"]<=0]\n",
    "hataindex3 = [i for i in hata4.index]\n",
    "df.drop(df.index[hataindex3],inplace=True)\n",
    "df.reset_index(inplace=True,drop=True)\n",
    "hata_kontrol3 = df[df[\"Adet\"]<=0]\n",
    "hata_kontrol3"
   ]
  },
  {
   "cell_type": "code",
   "execution_count": null,
   "id": "c369cd1d",
   "metadata": {},
   "outputs": [],
   "source": [
    "#Birim fiyat 0 ve 0'dan küçük olamaz dediler\n",
    "hata5 = df[df[\"Birim Fiyat\"]<=0]\n",
    "hataindex4 = [i for i in hata5.index]\n",
    "df.drop(df.index[hataindex4],inplace=True)\n",
    "df.reset_index(inplace=True,drop=True)\n",
    "hata_kontrol4 = df[df[\"Birim Fiyat\"]<=0]\n",
    "hata_kontrol4"
   ]
  },
  {
   "cell_type": "code",
   "execution_count": null,
   "id": "9aa9cc45",
   "metadata": {},
   "outputs": [],
   "source": [
    "#Ülkelerle ilgili yanlış girilmiş bir şey var mı diye kontrol ediyoruz\n",
    "print(df[\"Ülke\"].unique())"
   ]
  },
  {
   "cell_type": "markdown",
   "id": "6270a09b",
   "metadata": {},
   "source": [
    "# DERS 125"
   ]
  },
  {
   "cell_type": "code",
   "execution_count": null,
   "id": "d6898b13",
   "metadata": {},
   "outputs": [],
   "source": [
    "#Adet, Birim fiyat ve Toplam Tutar üzerinden aykırı değerleri aynı anda bulma işlemi\n",
    "for j in [\"Adet\",\"Birim Fiyat\",\"Toplam Tutar\"]:\n",
    "    Q1 = df[j].quantile(0.25)\n",
    "    Q3 = df[j].quantile(0.75)\n",
    "    IQR = Q3-Q1\n",
    "    \n",
    "    ustsinir = Q3+1.5*IQR\n",
    "    altsinir = Q1-1.5*IQR\n",
    "    \n",
    "    aykiri = df[(df[j]>ustsinir) | (df[j] < altsinir)]\n",
    "hataindex5 = [i for i in aykiri.index]\n",
    "df.drop(df.index[hataindex5],inplace=True)\n",
    "df.reset_index(inplace=True,drop=True)\n",
    "\n",
    "print(len(hamveri))\n",
    "print(len(df))\n",
    "print(len(hamveri) - len(df))"
   ]
  }
 ],
 "metadata": {
  "kernelspec": {
   "display_name": "Python 3 (ipykernel)",
   "language": "python",
   "name": "python3"
  },
  "language_info": {
   "codemirror_mode": {
    "name": "ipython",
    "version": 3
   },
   "file_extension": ".py",
   "mimetype": "text/x-python",
   "name": "python",
   "nbconvert_exporter": "python",
   "pygments_lexer": "ipython3",
   "version": "3.11.4"
  }
 },
 "nbformat": 4,
 "nbformat_minor": 5
}
