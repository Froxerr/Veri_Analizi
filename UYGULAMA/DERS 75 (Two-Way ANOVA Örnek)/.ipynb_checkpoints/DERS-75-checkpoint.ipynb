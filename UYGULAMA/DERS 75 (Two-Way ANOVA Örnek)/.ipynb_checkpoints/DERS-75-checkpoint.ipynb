{
 "cells": [
  {
   "cell_type": "code",
   "execution_count": null,
   "id": "4e5f29be",
   "metadata": {},
   "outputs": [],
   "source": [
    "import pandas as pd\n",
    "from scipy import stats\n",
    "import statsmodels.api as sm\n",
    "from statsmodels.formula.api import ols\n",
    "import statsmodels.stats as ss\n",
    "import matplotlib.pyplot as plt"
   ]
  },
  {
   "cell_type": "code",
   "execution_count": null,
   "id": "f506017b",
   "metadata": {},
   "outputs": [],
   "source": [
    "#Bir firma, performans ile ilgili bir ölçüm yapıyor\n",
    "#Öncelikle kişilerin mevkileri ve bu mevkilerde çalıştıkları süreleri bağımsız değişken olarak kullanıyoruz\n",
    "#Performans ölçümü 0-10 arasında yapılıyor\n",
    "#Mevkilerin performansa etkisi olup olmadığını test etmek istiyoruz"
   ]
  },
  {
   "cell_type": "code",
   "execution_count": null,
   "id": "adeb187a",
   "metadata": {
    "scrolled": true
   },
   "outputs": [],
   "source": [
    "df = pd.DataFrame(pd.read_excel(\"ornek.xlsx\"))\n",
    "df"
   ]
  },
  {
   "cell_type": "code",
   "execution_count": null,
   "id": "1324445b",
   "metadata": {
    "scrolled": true
   },
   "outputs": [],
   "source": [
    "model = ols(\"Performans~C(Mevki)+C(Süre)+C(Mevki):C(Süre)\",data=df).fit()\n",
    "hatalar = model.resid\n",
    "\n",
    "normallik = stats.shapiro(hatalar)\n",
    "print(normallik)\n",
    "\n",
    "fig = sm.qqplot(hatalar,line=\"s\")\n",
    "plt.show()"
   ]
  },
  {
   "cell_type": "code",
   "execution_count": null,
   "id": "6d061ccc",
   "metadata": {
    "scrolled": true
   },
   "outputs": [],
   "source": [
    "print(model.summary()) #Eğer Prob (F-statistic) değeri 0.05'ten küçükse, model anlamlıdır"
   ]
  },
  {
   "cell_type": "code",
   "execution_count": null,
   "id": "9a5728a6",
   "metadata": {},
   "outputs": [],
   "source": [
    "#anova_lm = Doğrusal bir model oluşturma\n",
    "#type = Eğer gruplar arasında sayısal olarak bir fark varsa type 3 yoksa type 2\n",
    "anova = sm.stats.anova_lm(model,type=2)\n",
    "print(anova)"
   ]
  },
  {
   "cell_type": "code",
   "execution_count": null,
   "id": "4972d370",
   "metadata": {
    "scrolled": true
   },
   "outputs": [],
   "source": [
    "#endog = bağımlı değişken\n",
    "etkimevki = ss.multicomp.pairwise_tukeyhsd(endog=df[\"Performans\"],groups=df[\"Mevki\"])\n",
    "print(etkimevki)"
   ]
  },
  {
   "cell_type": "code",
   "execution_count": null,
   "id": "e9c9a84c",
   "metadata": {},
   "outputs": [],
   "source": [
    "grup1 = df.groupby(\"Mevki\")[\"Performans\"].mean()\n",
    "print(grup1)"
   ]
  },
  {
   "cell_type": "code",
   "execution_count": null,
   "id": "52eb96f8",
   "metadata": {
    "scrolled": true
   },
   "outputs": [],
   "source": [
    "etkimevkisure = ss.multicomp.pairwise_tukeyhsd(endog=df[\"Performans\"],groups=df[\"Mevki\"]+df[\"Süre\"])\n",
    "print(etkimevkisure)"
   ]
  },
  {
   "cell_type": "code",
   "execution_count": null,
   "id": "20858c43",
   "metadata": {},
   "outputs": [],
   "source": [
    "grup1 = df.groupby([\"Mevki\",\"Süre\"])[\"Performans\"].mean()\n",
    "print(grup1)"
   ]
  }
 ],
 "metadata": {
  "kernelspec": {
   "display_name": "Python 3 (ipykernel)",
   "language": "python",
   "name": "python3"
  },
  "language_info": {
   "codemirror_mode": {
    "name": "ipython",
    "version": 3
   },
   "file_extension": ".py",
   "mimetype": "text/x-python",
   "name": "python",
   "nbconvert_exporter": "python",
   "pygments_lexer": "ipython3",
   "version": "3.11.4"
  }
 },
 "nbformat": 4,
 "nbformat_minor": 5
}
