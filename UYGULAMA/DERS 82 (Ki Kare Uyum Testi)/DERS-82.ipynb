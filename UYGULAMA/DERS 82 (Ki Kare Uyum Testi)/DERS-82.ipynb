{
 "cells": [
  {
   "cell_type": "code",
   "execution_count": null,
   "id": "e558b511",
   "metadata": {},
   "outputs": [],
   "source": [
    "import pandas as pd\n",
    "from scipy import stats"
   ]
  },
  {
   "cell_type": "code",
   "execution_count": null,
   "id": "50c5acad",
   "metadata": {},
   "outputs": [],
   "source": [
    "#Frekansız olan bir veriyi frekanslı hale getirme"
   ]
  },
  {
   "cell_type": "code",
   "execution_count": null,
   "id": "7ac84662",
   "metadata": {},
   "outputs": [],
   "source": [
    "df = pd.DataFrame(pd.read_excel(\"ornek.xlsx\"))\n",
    "df.head()"
   ]
  },
  {
   "cell_type": "code",
   "execution_count": null,
   "id": "a9640359",
   "metadata": {},
   "outputs": [],
   "source": [
    "frekans = pd.value_counts(df[\"Kilo\"])\n",
    "print(frekans)"
   ]
  },
  {
   "cell_type": "code",
   "execution_count": null,
   "id": "09fdfeb1",
   "metadata": {},
   "outputs": [],
   "source": [
    "kikare, p = stats.chisquare(frekans)\n",
    "print(kikare,p)"
   ]
  },
  {
   "cell_type": "code",
   "execution_count": null,
   "id": "b2fdc8da",
   "metadata": {},
   "outputs": [],
   "source": [
    "frekans_table = {\n",
    "    \"Kilo\":frekans.index,\n",
    "    \"Frekans\":frekans.values\n",
    "}\n",
    "df2 = pd.DataFrame(frekans_table)\n",
    "kikare2, p2 = stats.chisquare(df2[\"Frekans\"])\n",
    "print(kikare2,p2)"
   ]
  }
 ],
 "metadata": {
  "kernelspec": {
   "display_name": "Python 3 (ipykernel)",
   "language": "python",
   "name": "python3"
  },
  "language_info": {
   "codemirror_mode": {
    "name": "ipython",
    "version": 3
   },
   "file_extension": ".py",
   "mimetype": "text/x-python",
   "name": "python",
   "nbconvert_exporter": "python",
   "pygments_lexer": "ipython3",
   "version": "3.11.4"
  }
 },
 "nbformat": 4,
 "nbformat_minor": 5
}
