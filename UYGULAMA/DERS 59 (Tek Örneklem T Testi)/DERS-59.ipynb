{
 "cells": [
  {
   "cell_type": "code",
   "execution_count": null,
   "id": "c6cfbaaa",
   "metadata": {},
   "outputs": [],
   "source": [
    "from scipy import stats\n",
    "import pandas as pd"
   ]
  },
  {
   "cell_type": "code",
   "execution_count": null,
   "id": "9621d406",
   "metadata": {},
   "outputs": [],
   "source": [
    "#Bir sınavda geçmiş veriler değerlendiriliyor ve ortalamasının 28 olduğu değerlendiriliyor\n",
    "#Bu sene de yeni bir sınav sistemi deneniyor ve geçmiş yıla göre bir not ortalama farkı yaratıyor mu, amacımız onu görmek\n",
    "#Rassal olarak 12 tane öğrenci seçiliyor. %95 ile test edilmesi isteniliyor"
   ]
  },
  {
   "cell_type": "code",
   "execution_count": null,
   "id": "f6aa2543",
   "metadata": {},
   "outputs": [],
   "source": [
    "df = pd.DataFrame(pd.read_excel(\"Sinav.xlsx\"))\n",
    "print(df)"
   ]
  },
  {
   "cell_type": "code",
   "execution_count": null,
   "id": "339e39e6",
   "metadata": {},
   "outputs": [],
   "source": [
    "alfa = 0.05\n",
    "#popmean = H0 = 28 olma muhabbeti\n",
    "\n",
    "thesap,p = stats.ttest_1samp(df,popmean=28,alternative=\"two-sided\")\n",
    "print(thesap,p)\n",
    "\n",
    "if p < alfa:\n",
    "    print(\"Ho Reddedilir\")\n",
    "else:\n",
    "    print(\"Ho Reddilemez\")"
   ]
  },
  {
   "cell_type": "code",
   "execution_count": null,
   "id": "3b517d1d",
   "metadata": {},
   "outputs": [],
   "source": [
    "#Bir otomobil üreten bir fabrikadasın, üretim şefin size bir rapor getiriyor\n",
    "#Raporun içinde günlük üretim hata sayısının 20 olduğu yazıyor\n",
    "#Müşterilerin şikayet verisini incelediğinde şüpheye düşüp ortalama 20 tane mi, yoksa değil mi diye düşünüyorsun\n",
    "#25 gün veri topluyorsun, her gün için 25 tane örneklem aldın. %95 güvenle nasıl test edilebilir"
   ]
  },
  {
   "cell_type": "code",
   "execution_count": null,
   "id": "f7d99a8f",
   "metadata": {},
   "outputs": [],
   "source": [
    "df = pd.DataFrame(pd.read_excel(\"Hata.xlsx\"))\n",
    "print(df)"
   ]
  },
  {
   "cell_type": "code",
   "execution_count": null,
   "id": "8063cae4",
   "metadata": {},
   "outputs": [],
   "source": [
    "alfa = 0.05\n",
    "#popmean = H0 = 20 olma muhabbeti\n",
    "\n",
    "thesap,p = stats.ttest_1samp(df,popmean=20,alternative=\"two-sided\")\n",
    "print(thesap,p)\n",
    "\n",
    "if p < alfa:\n",
    "    print(\"Ho Reddedilir\")\n",
    "else:\n",
    "    print(\"Ho Reddilemez\")"
   ]
  }
 ],
 "metadata": {
  "kernelspec": {
   "display_name": "Python 3 (ipykernel)",
   "language": "python",
   "name": "python3"
  },
  "language_info": {
   "codemirror_mode": {
    "name": "ipython",
    "version": 3
   },
   "file_extension": ".py",
   "mimetype": "text/x-python",
   "name": "python",
   "nbconvert_exporter": "python",
   "pygments_lexer": "ipython3",
   "version": "3.11.4"
  }
 },
 "nbformat": 4,
 "nbformat_minor": 5
}
