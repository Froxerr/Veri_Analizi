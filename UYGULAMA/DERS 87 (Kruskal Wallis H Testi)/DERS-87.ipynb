{
 "cells": [
  {
   "cell_type": "code",
   "execution_count": null,
   "id": "485d49bf",
   "metadata": {},
   "outputs": [],
   "source": [
    "import pandas as pd\n",
    "import pingouin as pg\n",
    "from scikit_posthocs import posthoc_conover"
   ]
  },
  {
   "cell_type": "code",
   "execution_count": null,
   "id": "2227c0f6",
   "metadata": {
    "scrolled": false
   },
   "outputs": [],
   "source": [
    "df = pd.DataFrame(pd.read_excel(\"ornek.xlsx\"))\n",
    "df"
   ]
  },
  {
   "cell_type": "code",
   "execution_count": null,
   "id": "f3fe5903",
   "metadata": {
    "scrolled": true
   },
   "outputs": [],
   "source": [
    "df = df.melt(var_name=\"Yöntem\",value_name=\"Değer\")\n",
    "df"
   ]
  },
  {
   "cell_type": "code",
   "execution_count": null,
   "id": "bb41994e",
   "metadata": {},
   "outputs": [],
   "source": [
    "normallik = pg.normality(df,dv=\"Değer\",group=\"Yöntem\")\n",
    "print(normallik)"
   ]
  },
  {
   "cell_type": "code",
   "execution_count": null,
   "id": "58ed134b",
   "metadata": {},
   "outputs": [],
   "source": [
    "test = pg.kruskal(df,dv=\"Değer\",between=\"Yöntem\")\n",
    "print(test) \n",
    "#\"Şu an yöntemler arasında bir fark olduğunu bulduk, ancak hangi yöntemler arasında \n",
    "#olduğunu bilmediğimiz için başka bir test daha yapacağız"
   ]
  },
  {
   "cell_type": "code",
   "execution_count": null,
   "id": "508f9f95",
   "metadata": {},
   "outputs": [],
   "source": [
    "#val_col = Bağımlı değişken\n",
    "#p_adjust = Düzeltme işlemi \n",
    "posthoc = posthoc_conover(df,val_col=\"Değer\",group_col=\"Yöntem\",p_adjust=\"bonf\")\n",
    "print(posthoc)"
   ]
  }
 ],
 "metadata": {
  "kernelspec": {
   "display_name": "Python 3 (ipykernel)",
   "language": "python",
   "name": "python3"
  },
  "language_info": {
   "codemirror_mode": {
    "name": "ipython",
    "version": 3
   },
   "file_extension": ".py",
   "mimetype": "text/x-python",
   "name": "python",
   "nbconvert_exporter": "python",
   "pygments_lexer": "ipython3",
   "version": "3.11.4"
  }
 },
 "nbformat": 4,
 "nbformat_minor": 5
}
