{
 "cells": [
  {
   "cell_type": "code",
   "execution_count": null,
   "id": "0173711f",
   "metadata": {},
   "outputs": [],
   "source": [
    "#Kategorik değişken yapısında bir sorun ortaya çıkıyor.\n",
    "#Çıkan sorun şu: 5 farklı kategori olduğunu düşünelim ve bu kategorilere 0'dan 4'e kadar değerler atanmış olsun.\n",
    "#Program, 4'ün 1'den büyük olduğunu görünce bunları hiyerarşik bir düzene koymak istiyor.\n",
    "#Ancak biz hiyerarşik bir düzen istemediğimiz için bu sorunu bu ders çerçevesinde çözüyoruz."
   ]
  },
  {
   "cell_type": "code",
   "execution_count": null,
   "id": "0fb7defc",
   "metadata": {},
   "outputs": [],
   "source": [
    "import pandas as pd\n",
    "import numpy as np\n",
    "from sklearn import preprocessing as pr"
   ]
  },
  {
   "cell_type": "code",
   "execution_count": null,
   "id": "487d16ef",
   "metadata": {},
   "outputs": [],
   "source": [
    "df = pd.DataFrame(pd.read_excel(\"ornek.xlsx\"))\n",
    "df2 = df.copy()\n",
    "df2.head()"
   ]
  },
  {
   "cell_type": "code",
   "execution_count": null,
   "id": "8c1fcf3e",
   "metadata": {},
   "outputs": [],
   "source": [
    "#df2[\"KodCinsiyet\"] = pr.LabelEncoder().fit_transform(df2[\"Cinsiyet\"])\n",
    "#df2[\"KodAraçRenk\"] = pr.LabelEncoder().fit_transform(df2[\"AraçRenk\"])\n",
    "#df2[\"KodEğitim\"] = pr.LabelEncoder().fit_transform(df2[\"Eğitim\"])\n",
    "for i in df2.columns:\n",
    "    df2[\"Kod\"+i] = pr.LabelEncoder().fit_transform(df2[\"\"+i])"
   ]
  },
  {
   "cell_type": "code",
   "execution_count": null,
   "id": "c3164d7c",
   "metadata": {},
   "outputs": [],
   "source": [
    "df2.sort_values(by=[\"KodEğitim\"]) #Rastgele kafasına göre sayı vermiş, ancak biz hiyerarşik bir düzen istiyorsak, \n",
    "#DERS 122'ye bak\n",
    "#Bu dersin konusu Cinsiyet ile KodCinsiyet arasında hiçbir bağın bulunmadığını anlatmaya çalışıyoruz"
   ]
  },
  {
   "cell_type": "code",
   "execution_count": null,
   "id": "cca7b611",
   "metadata": {},
   "outputs": [],
   "source": [
    "onehotdonusum = pd.get_dummies(df2,columns=[\"Cinsiyet\",\"AraçRenk\"])\n",
    "onehotdonusum #Ben bunları aralarında herhangi bir hiyerarşik düzen olmadan 0 ve 1 olarak iki sütun olarak böldüm diyor.\n",
    "#Araç içinse, 0 ve 1'i bir dizi (array) olarak kullanıyor ve bunları arasında herhangi bir hiyerarşi olmadan böldüm diyor"
   ]
  }
 ],
 "metadata": {
  "kernelspec": {
   "display_name": "Python 3 (ipykernel)",
   "language": "python",
   "name": "python3"
  },
  "language_info": {
   "codemirror_mode": {
    "name": "ipython",
    "version": 3
   },
   "file_extension": ".py",
   "mimetype": "text/x-python",
   "name": "python",
   "nbconvert_exporter": "python",
   "pygments_lexer": "ipython3",
   "version": "3.11.4"
  }
 },
 "nbformat": 4,
 "nbformat_minor": 5
}
