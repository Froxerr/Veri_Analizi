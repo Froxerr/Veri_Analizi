{
 "cells": [
  {
   "cell_type": "code",
   "execution_count": null,
   "id": "482de0fa",
   "metadata": {},
   "outputs": [],
   "source": [
    "from scipy import stats\n",
    "import pandas as pd"
   ]
  },
  {
   "cell_type": "code",
   "execution_count": null,
   "id": "189051a0",
   "metadata": {},
   "outputs": [],
   "source": [
    "#Ornek 2\n",
    "#Kişilerin günlük televizyon izleme ile ilgili bir örnek. Kişilerin TV izleme süreleri ile eğitim durumları arasında fark\n",
    "#var mıdır?\n",
    "#Ho = Grupların ortalamaları birbirine eşittir\n",
    "#H1 = Grupların ortalamaları birbirine eşit değildir"
   ]
  },
  {
   "cell_type": "code",
   "execution_count": null,
   "id": "e8c64617",
   "metadata": {},
   "outputs": [],
   "source": [
    "df = pd.DataFrame(pd.read_excel(\"ornek1.xlsx\"))\n",
    "df.head()\n",
    "#Bağımsız değişken sayımız 1 tane mi? = Eğitim\n",
    "#En az 3 gruptan mı oluşuyor? = 4 gruptan oluşuyor\n",
    "#Bağımlı değişkenim sürekli mi? = TV izleme süresi mi\n",
    "#Veriler gruplar için normal bir dağılım mı gösteriyor? = Evet\n",
    "#Gruplar arası varyans homojen mi gösteriyor? = Evet\n",
    "\n",
    "g1 = df[df[\"Eğitim\"] == \"İlkokul\"]\n",
    "g2 = df[df[\"Eğitim\"] == \"Lise\"]\n",
    "g3 = df[df[\"Eğitim\"] == \"Üniversite\"]\n",
    "g4 = df[df[\"Eğitim\"] == \"Yükseklisans\"]\n",
    "\n",
    "testanova = stats.f_oneway(g1[\"Tvizleme\"],g2[\"Tvizleme\"],g3[\"Tvizleme\"],g4[\"Tvizleme\"])\n",
    "print(testanova)"
   ]
  },
  {
   "cell_type": "code",
   "execution_count": null,
   "id": "66010c5f",
   "metadata": {},
   "outputs": [],
   "source": [
    "#VARYANSLARIN HOMOJEN OLDUĞU DURUMDA\n",
    "from statsmodels.stats.multicomp import pairwise_tukeyhsd\n",
    "\n",
    "#İlk yazılacak şey sürekli değişken yapısıdır\n",
    "#İkinci yazılacak şey gruplar olmalıdır\n",
    "#Alpha = Bizim alfa değerimizdir\n",
    "posthoc = pairwise_tukeyhsd(df[\"Tvizleme\"],df[\"Eğitim\"],alpha=0.05)\n",
    "print(posthoc)\n",
    "#reject = True olanlar arasında bir fark olduğunu gösterir"
   ]
  },
  {
   "cell_type": "code",
   "execution_count": null,
   "id": "d6e3af4b",
   "metadata": {},
   "outputs": [],
   "source": [
    "print(g4[\"Tvizleme\"].mean(),g3[\"Tvizleme\"].mean())\n",
    "print(g4[\"Tvizleme\"].mean(),g1[\"Tvizleme\"].mean())"
   ]
  },
  {
   "cell_type": "code",
   "execution_count": null,
   "id": "0893105a",
   "metadata": {},
   "outputs": [],
   "source": [
    "#Varyansların homojen olmadığı durumda aşağıdaki kütüphaneyi yüklüyoruz önce\n",
    "#Yüklediğimiz kütüphane varyans homojenliği geçerliyse T testi, değilse Welch’in t-testi muhabbetinde\n",
    "#Equal_var=False yazarak direkt testi yapabiliyorken bunda yeni bir kütüphane yüklüyoruz"
   ]
  },
  {
   "cell_type": "code",
   "execution_count": null,
   "id": "c0604f59",
   "metadata": {
    "scrolled": true
   },
   "outputs": [],
   "source": [
    "pip install Pingouin"
   ]
  },
  {
   "cell_type": "code",
   "execution_count": null,
   "id": "863dc3d2",
   "metadata": {},
   "outputs": [],
   "source": [
    "#VARYANSLARIN HOMOJEN OLMADIĞI DURUMDA\n",
    "import pingouin as pg\n",
    "#data = Veri seti\n",
    "#dv = Sürekli değişken yapısı\n",
    "#between = Veri setinin grupları\n",
    "test = pg.welch_anova(data=df,dv=\"Tvizleme\",between=\"Eğitim\")\n",
    "print(test)\n",
    "#P-unc = 0.05'ten küçük olduğu için farklılık vardır diyebiliriz. Bu durumda aşağıdaki kütüphaneyi yüklüyoruz"
   ]
  },
  {
   "cell_type": "code",
   "execution_count": null,
   "id": "3cfb6259",
   "metadata": {
    "scrolled": true
   },
   "outputs": [],
   "source": [
    "pip install scikit-posthocs"
   ]
  },
  {
   "cell_type": "code",
   "execution_count": null,
   "id": "a9c73c85",
   "metadata": {},
   "outputs": [],
   "source": [
    "import scikit_posthocs as sp\n",
    "#İlk parametre veri setidir\n",
    "#Val_col = Sürekli değişken\n",
    "#Group_col = Grubu göndeririz\n",
    "tamhane = sp.posthoc_tamhane(df,val_col=\"Tvizleme\",group_col=\"Eğitim\")\n",
    "print(tamhane)\n",
    "#0.05'ten küçük olanlar arasında farklılık vardır. İlk satırda yüksek lisans ile ilkokul arasında olduğu gibi"
   ]
  }
 ],
 "metadata": {
  "kernelspec": {
   "display_name": "Python 3 (ipykernel)",
   "language": "python",
   "name": "python3"
  },
  "language_info": {
   "codemirror_mode": {
    "name": "ipython",
    "version": 3
   },
   "file_extension": ".py",
   "mimetype": "text/x-python",
   "name": "python",
   "nbconvert_exporter": "python",
   "pygments_lexer": "ipython3",
   "version": "3.11.4"
  }
 },
 "nbformat": 4,
 "nbformat_minor": 5
}
