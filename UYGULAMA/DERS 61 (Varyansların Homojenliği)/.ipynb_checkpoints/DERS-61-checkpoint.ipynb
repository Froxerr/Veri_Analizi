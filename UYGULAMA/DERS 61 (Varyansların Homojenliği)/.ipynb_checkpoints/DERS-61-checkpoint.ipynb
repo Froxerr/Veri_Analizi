{
 "cells": [
  {
   "cell_type": "code",
   "execution_count": null,
   "id": "499d4dd6",
   "metadata": {},
   "outputs": [],
   "source": [
    "from scipy import stats\n",
    "import matplotlib.pyplot as plt\n",
    "import seaborn as sns\n",
    "import numpy as np"
   ]
  },
  {
   "cell_type": "code",
   "execution_count": null,
   "id": "722dbae2",
   "metadata": {
    "scrolled": true
   },
   "outputs": [],
   "source": [
    "np.random.seed(0)\n",
    "x1 = stats.norm.rvs(loc=0,scale=1,size=1000)\n",
    "x2 = stats.norm.rvs(loc=0,scale=5,size=1000)\n",
    "x3 = stats.norm.rvs(loc=0,scale=10,size=1000)\n",
    "\n",
    "sns.set_theme() # Arka plana tema veriyor gibi düşün\n",
    "\n",
    "sns.kdeplot(x1,label=\"x1\") #Sadece çizgilerden oluşan bir grafik sağ üste de x1 adında bir etiket (label) atıyoruz\n",
    "sns.kdeplot(x2,label=\"x2\")\n",
    "sns.kdeplot(x3,label=\"x3\")\n",
    "plt.legend(loc=\"upper right\") # Etiketi (label) yerleştiriyoruz ve 'loc' atamasına yerleştireceğimiz yeri giriyoruz\n",
    "\n",
    "plt.show()"
   ]
  },
  {
   "cell_type": "code",
   "execution_count": null,
   "id": "5745e942",
   "metadata": {},
   "outputs": [],
   "source": [
    "x1 = stats.norm.rvs(loc=0,scale=1,size=1000)\n",
    "x11 = np.random.choice(x1,size=750)\n",
    "x12 = np.random.choice(x1,size=250)\n",
    "\n",
    "x1var = np.var(x1)\n",
    "x11var = np.var(x11)\n",
    "x12var = np.var(x12)\n",
    "\n",
    "sns.set_theme() # Arka plana tema veriyor gibi düşün\n",
    "\n",
    "sns.kdeplot(x1,label=\"x1\"+\" \"+str(x1var))\n",
    "sns.kdeplot(x11,label=\"x11\"+\" \"+str(x11var))\n",
    "sns.kdeplot(x12,label=\"x12\"+\" \"+str(x12var))\n",
    "\n",
    "plt.legend(loc=\"upper right\") # Etiketi (label) yerleştiriyoruz ve 'loc' atamasına yerleştireceğimiz yeri giriyoruz\n",
    "\n",
    "plt.show()"
   ]
  },
  {
   "cell_type": "code",
   "execution_count": null,
   "id": "3ab453bd",
   "metadata": {},
   "outputs": [],
   "source": [
    "x1 = stats.norm.rvs(loc=0,scale=1,size=1000)\n",
    "x11 = np.random.choice(x1,size=750)\n",
    "x12 = np.random.choice(x1,size=250)\n",
    "y = stats.norm.rvs(loc=0,scale=10,size=1000)\n",
    "\n",
    "\n",
    "x1var = np.var(x1)\n",
    "x11var = np.var(x11)\n",
    "x12var = np.var(x12)\n",
    "yvar = np.var(y)\n",
    "\n",
    "sns.set_theme() # Arka plana tema veriyor gibi düşün\n",
    "\n",
    "sns.kdeplot(x11,label=\"x11\"+\" \"+str(x11var))\n",
    "sns.kdeplot(y,label=\"y\"+\" \"+str(yvar))\n",
    "\n",
    "plt.legend(loc=\"upper right\") # Etiketi (label) yerleştiriyoruz ve 'loc' atamasına yerleştireceğimiz yeri giriyoruz\n",
    "\n",
    "plt.show()"
   ]
  }
 ],
 "metadata": {
  "kernelspec": {
   "display_name": "Python 3 (ipykernel)",
   "language": "python",
   "name": "python3"
  },
  "language_info": {
   "codemirror_mode": {
    "name": "ipython",
    "version": 3
   },
   "file_extension": ".py",
   "mimetype": "text/x-python",
   "name": "python",
   "nbconvert_exporter": "python",
   "pygments_lexer": "ipython3",
   "version": "3.11.4"
  }
 },
 "nbformat": 4,
 "nbformat_minor": 5
}
