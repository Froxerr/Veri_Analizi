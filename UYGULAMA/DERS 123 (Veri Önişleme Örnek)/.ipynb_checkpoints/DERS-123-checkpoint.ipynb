{
 "cells": [
  {
   "cell_type": "code",
   "execution_count": null,
   "id": "f7f10622",
   "metadata": {},
   "outputs": [],
   "source": [
    "#Online çevrimiçi perakende satışlarıyla ilgili toplanmış bir veri üzerinde çalışıyoruz"
   ]
  },
  {
   "cell_type": "code",
   "execution_count": null,
   "id": "89f017a6",
   "metadata": {},
   "outputs": [],
   "source": [
    "import pandas as pd\n",
    "import numpy as np\n",
    "import matplotlib.pyplot as plt\n",
    "import seaborn as sns\n",
    "from datetime import datetime "
   ]
  },
  {
   "cell_type": "code",
   "execution_count": null,
   "id": "5dddc487",
   "metadata": {},
   "outputs": [],
   "source": [
    "#df = pd.read_csv(\"veri.csv\",encoding='unicode_escape') CSV halini okumak istersen, encoding yapmalısın\n",
    "df = pd.DataFrame(pd.read_excel(\"veri.xlsx\")) \n",
    "df.to_csv(\"veri.csv\")#Verilerin Excel'de çok yavaş okunduğu için bunu CSV olarak çevirmemiz gerekiyor"
   ]
  },
  {
   "cell_type": "code",
   "execution_count": null,
   "id": "dfd1faaa",
   "metadata": {},
   "outputs": [],
   "source": [
    "hamveri = pd.DataFrame(pd.read_csv(\"veri.csv\"))\n",
    "df = hamveri.copy()\n",
    "df.drop(df.columns[[0]],axis=1,inplace=True)#Unnamed sütununu silme\n",
    "#Sütun isimlerini Türkçe'ye çevirme işlemi, analiz işlemleri sırasında kolaylık sağlaması açısından (ÖNERİLMEZ)\n",
    "df.rename(columns={\n",
    "    \"Invoice\":\"Fatura No\",\n",
    "    \"StockCode\":\"Stok Kodu\",\n",
    "    \"Description\":\"Ürün Adı\",\n",
    "    \"Quantity\":\"Adet\",\n",
    "    \"InvoiceDate\":\"Fatura Tarihi\",\n",
    "    \"Price\":\"Birim Fiyat\",\n",
    "    \"Customer ID\":\"Müşteri ID\",\n",
    "    \"Country\":\"Ülke\"\n",
    "},inplace=True)\n",
    "#Belki ileride lazım olur diye 'Toplam Tutar' adlı bir sütun oluşturuyoruz\n",
    "df[\"Toplam Tutar\"] = df[\"Birim Fiyat\"] * df[\"Adet\"]\n",
    "df.head()"
   ]
  },
  {
   "cell_type": "code",
   "execution_count": null,
   "id": "80a99129",
   "metadata": {},
   "outputs": [],
   "source": [
    "#Değişken türlerinin doğru bir türde olduğunu kontrol ediyoruz\n",
    "df.info() #Fatura tarihi ile bir işimizin olacağını varsayarak objeden to_date çevirme işlemi yapıyoruz"
   ]
  },
  {
   "cell_type": "code",
   "execution_count": null,
   "id": "9b94263d",
   "metadata": {},
   "outputs": [],
   "source": [
    "df['Fatura Tarihi'] = pd.to_datetime(df['Fatura Tarihi'], infer_datetime_format=True)\n",
    "df.info()"
   ]
  },
  {
   "cell_type": "code",
   "execution_count": null,
   "id": "86bb660a",
   "metadata": {},
   "outputs": [],
   "source": [
    "#Müşteri ID, analiz sırasında çok işimize yaramayacağı için siliyoruz\n",
    "df.drop(\"Müşteri ID\",inplace=True,axis=1)\n",
    "df.head()"
   ]
  }
 ],
 "metadata": {
  "kernelspec": {
   "display_name": "Python 3 (ipykernel)",
   "language": "python",
   "name": "python3"
  },
  "language_info": {
   "codemirror_mode": {
    "name": "ipython",
    "version": 3
   },
   "file_extension": ".py",
   "mimetype": "text/x-python",
   "name": "python",
   "nbconvert_exporter": "python",
   "pygments_lexer": "ipython3",
   "version": "3.11.4"
  }
 },
 "nbformat": 4,
 "nbformat_minor": 5
}
