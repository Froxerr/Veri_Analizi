{
 "cells": [
  {
   "cell_type": "code",
   "execution_count": null,
   "id": "b37b20d9",
   "metadata": {},
   "outputs": [],
   "source": [
    "import numpy as np\n",
    "from scipy import stats"
   ]
  },
  {
   "cell_type": "code",
   "execution_count": null,
   "id": "034f67df",
   "metadata": {},
   "outputs": [],
   "source": [
    "#1. SORU"
   ]
  },
  {
   "cell_type": "code",
   "execution_count": null,
   "id": "2938721b",
   "metadata": {},
   "outputs": [],
   "source": [
    "n=100 #Rassal olarak seçilen rastgele değişken\n",
    "xort = 1040 #Ortalama ağırlık\n",
    "xstd = 25 #Standart sapma\n",
    "guven = 0.95 # Güven aralığım"
   ]
  },
  {
   "cell_type": "code",
   "execution_count": null,
   "id": "8901db18",
   "metadata": {},
   "outputs": [],
   "source": [
    "aralik = stats.norm.interval(confidence=guven,loc=xort,scale=xstd/np.sqrt(n))\n",
    "#Confidence = Güven aralığı adı üstünde\n",
    "#Loc = Ortalama\n",
    "#Scale = Standart sapma / kök rastgele seçilen değişken\n",
    "print(aralik)"
   ]
  },
  {
   "cell_type": "code",
   "execution_count": null,
   "id": "b9809f6e",
   "metadata": {},
   "outputs": [],
   "source": [
    "#2. SORU"
   ]
  },
  {
   "cell_type": "code",
   "execution_count": null,
   "id": "446487e9",
   "metadata": {},
   "outputs": [],
   "source": [
    "n=85\n",
    "xort = 67\n",
    "xstd = 14\n",
    "guven = 0.95\n",
    "olasilik = stats.norm.interval(confidence=guven,loc=xort,scale=xstd/np.sqrt(n))\n",
    "print(olasilik)"
   ]
  },
  {
   "cell_type": "code",
   "execution_count": null,
   "id": "96eeaf7e",
   "metadata": {},
   "outputs": [],
   "source": [
    "#3. SORU"
   ]
  },
  {
   "cell_type": "code",
   "execution_count": null,
   "id": "c29de6b9",
   "metadata": {},
   "outputs": [],
   "source": [
    "#Bu örnekte, popülasyonun standart sapması bilindiği için Z-tablosu kullanılıyor\n",
    "#Örneklem sayısı 30'dan düşük olsa bile, bu durum bizi etkilemiyor\n",
    "n=16\n",
    "xort = 4\n",
    "xstd = 2\n",
    "guven = 0.95\n",
    "olasilik = stats.norm.interval(confidence=guven,loc=xort,scale=xstd/np.sqrt(n))\n",
    "print(olasilik)"
   ]
  },
  {
   "cell_type": "code",
   "execution_count": null,
   "id": "8c3f281f",
   "metadata": {},
   "outputs": [],
   "source": [
    "#4. SORU"
   ]
  },
  {
   "cell_type": "code",
   "execution_count": null,
   "id": "10da3de8",
   "metadata": {},
   "outputs": [],
   "source": [
    "#Bu örnekte popülasyonun varyansı veriliyor, ve varyans zaten standart sapmanın karesidir,\n",
    "#bu nedenle Z-tablosunu kullanmaya devam ediyoruz\n",
    "n=25\n",
    "xort=120\n",
    "xstd=10\n",
    "guven = 0.99\n",
    "olasilik = stats.norm.interval(confidence=guven,loc=xort,scale=xstd/np.sqrt(n))\n",
    "print(olasilik)"
   ]
  },
  {
   "cell_type": "code",
   "execution_count": null,
   "id": "4962111a",
   "metadata": {},
   "outputs": [],
   "source": [
    "#5. SORU"
   ]
  },
  {
   "cell_type": "code",
   "execution_count": null,
   "id": "c8b5f9d9",
   "metadata": {},
   "outputs": [],
   "source": [
    "n=100\n",
    "xort=385\n",
    "xstd=12\n",
    "guven=0.95\n",
    "olasilik = stats.norm.interval(confidence=guven,loc=xort,scale=xstd/np.sqrt(n))\n",
    "print(olasilik)"
   ]
  }
 ],
 "metadata": {
  "kernelspec": {
   "display_name": "Python 3 (ipykernel)",
   "language": "python",
   "name": "python3"
  },
  "language_info": {
   "codemirror_mode": {
    "name": "ipython",
    "version": 3
   },
   "file_extension": ".py",
   "mimetype": "text/x-python",
   "name": "python",
   "nbconvert_exporter": "python",
   "pygments_lexer": "ipython3",
   "version": "3.11.4"
  }
 },
 "nbformat": 4,
 "nbformat_minor": 5
}
