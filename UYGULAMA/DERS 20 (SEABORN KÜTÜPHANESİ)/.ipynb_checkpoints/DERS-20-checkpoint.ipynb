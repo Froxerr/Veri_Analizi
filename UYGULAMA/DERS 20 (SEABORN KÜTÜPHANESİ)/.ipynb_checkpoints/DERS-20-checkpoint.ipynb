{
 "cells": [
  {
   "cell_type": "code",
   "execution_count": null,
   "id": "1c9fcd5f",
   "metadata": {},
   "outputs": [],
   "source": [
    "import seaborn as sns\n",
    "import matplotlib.pyplot as plt\n",
    "import numpy as np"
   ]
  },
  {
   "cell_type": "code",
   "execution_count": null,
   "id": "eae1aad3",
   "metadata": {},
   "outputs": [],
   "source": [
    "x = np.random.normal(35,1,10000)\n",
    "# 35 = Ortalama\n",
    "# 1 = S.S.\n",
    "# 10000 = Kaç tane değer olduğu\n",
    "plt.hist(x,bins=50)\n",
    "plt.show()"
   ]
  },
  {
   "cell_type": "code",
   "execution_count": null,
   "id": "156061a4",
   "metadata": {},
   "outputs": [],
   "source": [
    "sns.displot(x,kde=True,color=\"red\")\n",
    "#kde = Dağılım çizgisini gösterir\n",
    "#color = Renk\n",
    "plt.show()"
   ]
  },
  {
   "cell_type": "code",
   "execution_count": null,
   "id": "d4562187",
   "metadata": {},
   "outputs": [],
   "source": [
    "sns.kdeplot(x)\n",
    "#İçindeki sadece dağılımını gösteriyor\n",
    "plt.show()"
   ]
  }
 ],
 "metadata": {
  "kernelspec": {
   "display_name": "Python 3 (ipykernel)",
   "language": "python",
   "name": "python3"
  },
  "language_info": {
   "codemirror_mode": {
    "name": "ipython",
    "version": 3
   },
   "file_extension": ".py",
   "mimetype": "text/x-python",
   "name": "python",
   "nbconvert_exporter": "python",
   "pygments_lexer": "ipython3",
   "version": "3.11.4"
  }
 },
 "nbformat": 4,
 "nbformat_minor": 5
}
