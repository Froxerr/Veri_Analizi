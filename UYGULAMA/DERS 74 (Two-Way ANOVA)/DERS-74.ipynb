{
 "cells": [
  {
   "cell_type": "code",
   "execution_count": null,
   "id": "e6fdb587",
   "metadata": {},
   "outputs": [],
   "source": [
    "from scipy import stats\n",
    "import pandas as pd"
   ]
  },
  {
   "cell_type": "code",
   "execution_count": null,
   "id": "d8bace0d",
   "metadata": {},
   "outputs": [],
   "source": [
    "#A, B ve C marka gübrelerim var, ayrıca 4 farklı tohumum var. Bu ölçümlerle mahsül verimini analiz etmek istiyorum"
   ]
  },
  {
   "cell_type": "code",
   "execution_count": null,
   "id": "3c50fbfe",
   "metadata": {
    "scrolled": true
   },
   "outputs": [],
   "source": [
    "df = pd.DataFrame(pd.read_excel(\"ornek.xlsx\"))\n",
    "df"
   ]
  },
  {
   "cell_type": "code",
   "execution_count": null,
   "id": "c553dedb",
   "metadata": {},
   "outputs": [],
   "source": [
    "gübrea = df[df[\"Gübre\"] == \"a\"][\"Verim\"]\n",
    "gübreb = df[df[\"Gübre\"] == \"b\"][\"Verim\"]\n",
    "gübrec = df[df[\"Gübre\"] == \"c\"][\"Verim\"]\n",
    "\n",
    "tohumx = df[df[\"Tohum\"] == \"x\"][\"Verim\"]\n",
    "tohumy = df[df[\"Tohum\"] == \"y\"][\"Verim\"]\n",
    "tohumz = df[df[\"Tohum\"] == \"z\"][\"Verim\"]\n",
    "tohumw = df[df[\"Tohum\"] == \"w\"][\"Verim\"]\n"
   ]
  },
  {
   "cell_type": "code",
   "execution_count": null,
   "id": "5ac4d219",
   "metadata": {},
   "outputs": [],
   "source": [
    "normallik = stats.shapiro(gübrea)\n",
    "print(normallik)\n",
    "normallik = stats.shapiro(gübreb)\n",
    "print(normallik)\n",
    "normallik = stats.shapiro(gübrec)\n",
    "print(normallik)"
   ]
  },
  {
   "cell_type": "code",
   "execution_count": null,
   "id": "319f181e",
   "metadata": {},
   "outputs": [],
   "source": [
    "homojen = stats.levene(gübrea,gübreb,gübrec)\n",
    "print(homojen)\n",
    "\n",
    "homojen = stats.levene(tohumx,tohumy,tohumz,tohumw)\n",
    "print(homojen)"
   ]
  },
  {
   "cell_type": "code",
   "execution_count": null,
   "id": "c728c399",
   "metadata": {},
   "outputs": [],
   "source": [
    "#Python'da çift yönlü analiz yapabilmemiz için 2 tane modülü içe aktarmamız gerekiyor\n",
    "import statsmodels.api as sm\n",
    "from statsmodels.formula.api import ols"
   ]
  },
  {
   "cell_type": "code",
   "execution_count": null,
   "id": "1a1d373e",
   "metadata": {},
   "outputs": [],
   "source": [
    "#Model olarak sürekli bir değişkeni kullanacağım\n",
    "#C(ilk kategorik değişken) + (ikinci kategorik değişken) şeklinde bir model oluşturacağım\n",
    "model = \"Verim ~ C(Gübre) + C(Tohum) + C(Gübre) : C(Tohum)\"\n",
    "test = ols(model,data=df).fit()\n",
    "anova = sm.stats.anova_lm(test,type=2)\n",
    "print(anova)\n",
    "\n",
    "#PR(>F) > 0.05 Ho reddedilemez"
   ]
  }
 ],
 "metadata": {
  "kernelspec": {
   "display_name": "Python 3 (ipykernel)",
   "language": "python",
   "name": "python3"
  },
  "language_info": {
   "codemirror_mode": {
    "name": "ipython",
    "version": 3
   },
   "file_extension": ".py",
   "mimetype": "text/x-python",
   "name": "python",
   "nbconvert_exporter": "python",
   "pygments_lexer": "ipython3",
   "version": "3.11.4"
  }
 },
 "nbformat": 4,
 "nbformat_minor": 5
}
