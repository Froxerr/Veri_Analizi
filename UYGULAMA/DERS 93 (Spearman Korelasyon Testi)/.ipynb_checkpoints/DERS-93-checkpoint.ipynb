{
 "cells": [
  {
   "cell_type": "code",
   "execution_count": null,
   "id": "eda9593f",
   "metadata": {},
   "outputs": [],
   "source": [
    "import pandas as pd\n",
    "import pingouin as pg\n",
    "import matplotlib.pyplot as plt\n",
    "import seaborn as sns"
   ]
  },
  {
   "cell_type": "code",
   "execution_count": null,
   "id": "6832c6d1",
   "metadata": {},
   "outputs": [],
   "source": [
    "df = pd.DataFrame(pd.read_excel(\"ornek.xlsx\"))\n",
    "df.head()"
   ]
  },
  {
   "cell_type": "code",
   "execution_count": null,
   "id": "3c211791",
   "metadata": {},
   "outputs": [],
   "source": [
    "df[\"B\"] = [float(str(i).replace(\",\",\".\")) for i in df[\"B\"]]\n",
    "df.head()"
   ]
  },
  {
   "cell_type": "code",
   "execution_count": null,
   "id": "1446ce96",
   "metadata": {},
   "outputs": [],
   "source": [
    "normallik = pg.normality(df)\n",
    "print(normallik)"
   ]
  },
  {
   "cell_type": "code",
   "execution_count": null,
   "id": "df2aa100",
   "metadata": {},
   "outputs": [],
   "source": [
    "sns.lmplot(x=\"A\",y=\"B\",data=df)\n",
    "plt.show()"
   ]
  },
  {
   "cell_type": "code",
   "execution_count": null,
   "id": "843b4c2d",
   "metadata": {},
   "outputs": [],
   "source": [
    "pkor = pg.corr(df[\"A\"],df[\"B\"],method=\"pearson\")\n",
    "print(pkor)\n",
    "skor = pg.corr(df[\"A\"],df[\"B\"],method=\"spearman\")\n",
    "print(skor)"
   ]
  }
 ],
 "metadata": {
  "kernelspec": {
   "display_name": "Python 3 (ipykernel)",
   "language": "python",
   "name": "python3"
  },
  "language_info": {
   "codemirror_mode": {
    "name": "ipython",
    "version": 3
   },
   "file_extension": ".py",
   "mimetype": "text/x-python",
   "name": "python",
   "nbconvert_exporter": "python",
   "pygments_lexer": "ipython3",
   "version": "3.11.4"
  }
 },
 "nbformat": 4,
 "nbformat_minor": 5
}
