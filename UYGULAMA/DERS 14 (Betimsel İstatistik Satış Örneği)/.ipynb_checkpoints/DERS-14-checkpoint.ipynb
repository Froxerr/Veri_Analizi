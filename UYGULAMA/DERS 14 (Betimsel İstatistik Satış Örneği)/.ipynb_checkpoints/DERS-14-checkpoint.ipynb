{
 "cells": [
  {
   "cell_type": "code",
   "execution_count": null,
   "id": "14c289d8",
   "metadata": {},
   "outputs": [],
   "source": [
    "import pandas as pd\n",
    "import matplotlib.pyplot as plt\n",
    "\n",
    "data = pd.DataFrame(pd.read_excel(\"ORNEK.xlsx\"))\n",
    "data[\"Cinsiyet\"].value_counts(normalize=True)* 100"
   ]
  },
  {
   "cell_type": "code",
   "execution_count": null,
   "id": "fa2c764c",
   "metadata": {},
   "outputs": [],
   "source": [
    "data[\"Yaş\"].mean()"
   ]
  },
  {
   "cell_type": "code",
   "execution_count": null,
   "id": "98031743",
   "metadata": {},
   "outputs": [],
   "source": [
    "data[\"Yaş\"].median()"
   ]
  },
  {
   "cell_type": "code",
   "execution_count": null,
   "id": "a409a393",
   "metadata": {
    "scrolled": true
   },
   "outputs": [],
   "source": [
    "plt.hist(data[\"Yaş\"],bins=50)\n",
    "plt.show()"
   ]
  },
  {
   "cell_type": "code",
   "execution_count": null,
   "id": "08fa3716",
   "metadata": {},
   "outputs": [],
   "source": [
    "print(data[\"Yaş\"].std())"
   ]
  },
  {
   "cell_type": "code",
   "execution_count": null,
   "id": "e13f9fc0",
   "metadata": {},
   "outputs": [],
   "source": [
    "print(data[\"Yaş\"].skew())"
   ]
  },
  {
   "cell_type": "code",
   "execution_count": null,
   "id": "ee86290f",
   "metadata": {},
   "outputs": [],
   "source": [
    "print(data[\"Yaş\"].kurtosis())"
   ]
  },
  {
   "cell_type": "code",
   "execution_count": null,
   "id": "e8253897",
   "metadata": {},
   "outputs": [],
   "source": [
    "print(data.groupby(\"Cinsiyet\").mean())"
   ]
  },
  {
   "cell_type": "code",
   "execution_count": null,
   "id": "98fc6f85",
   "metadata": {},
   "outputs": [],
   "source": [
    "print(data.groupby(\"Cinsiyet\")[\"Yaş\"].std())"
   ]
  }
 ],
 "metadata": {
  "kernelspec": {
   "display_name": "Python 3 (ipykernel)",
   "language": "python",
   "name": "python3"
  },
  "language_info": {
   "codemirror_mode": {
    "name": "ipython",
    "version": 3
   },
   "file_extension": ".py",
   "mimetype": "text/x-python",
   "name": "python",
   "nbconvert_exporter": "python",
   "pygments_lexer": "ipython3",
   "version": "3.11.4"
  }
 },
 "nbformat": 4,
 "nbformat_minor": 5
}
