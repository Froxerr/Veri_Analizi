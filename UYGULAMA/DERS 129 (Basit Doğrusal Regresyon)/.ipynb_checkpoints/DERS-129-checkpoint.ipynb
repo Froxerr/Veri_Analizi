{
 "cells": [
  {
   "cell_type": "code",
   "execution_count": null,
   "id": "21f6474a",
   "metadata": {},
   "outputs": [],
   "source": [
    "import pandas as pd\n",
    "import matplotlib.pyplot as plt\n",
    "import seaborn as sns\n",
    "import statsmodels.api as sm"
   ]
  },
  {
   "cell_type": "code",
   "execution_count": null,
   "id": "97941d22",
   "metadata": {},
   "outputs": [],
   "source": [
    "df = sns.load_dataset(\"tips\")\n",
    "df.head()"
   ]
  },
  {
   "cell_type": "code",
   "execution_count": null,
   "id": "0bd58c53",
   "metadata": {},
   "outputs": [],
   "source": [
    "#x = Bağımsız değişken\n",
    "#ci = Güven aralığı\n",
    "bagimsizdeg = df[\"total_bill\"]\n",
    "bagimlideg = df[\"tip\"]\n",
    "sns.regplot(x=bagimsizdeg,y=bagimlideg,ci=None)\n",
    "plt.show()"
   ]
  },
  {
   "cell_type": "code",
   "execution_count": null,
   "id": "a78abcc8",
   "metadata": {},
   "outputs": [],
   "source": [
    "#sabit = Bo\n",
    "#add_constat = Sabit bir katsayı. Bu sabit katsayı bağımsız değişkenden gelmelidir\n",
    "sabit = sm.add_constant(bagimsizdeg)\n",
    "model = sm.OLS(bagimlideg,sabit).fit()\n",
    "#model.summary() = Model.Özet \n",
    "print(model.summary())\n",
    "#Coef Const = B0 | Yorumlama: Satış yapılmadığında bile 0.92 TL bahşiş bırakıldığına işaret edebilir\n",
    "#Satışın gerçekleşmemiş olması durumunda bu kadar bahşiş nasıl oluşur sorusu mantıklı olabilir, \n",
    "#bu nedenle verilerin eksik veya uç değerler içerebileceğini göz önünde bulundurmalıyız\n",
    "#Coef total_bill = B1 | Yorumlama: Hangi birimse, o birimdeki 1 birimlik artışın tip değerini \n",
    "#ne kadar etkilediğini belirtir"
   ]
  }
 ],
 "metadata": {
  "kernelspec": {
   "display_name": "Python 3 (ipykernel)",
   "language": "python",
   "name": "python3"
  },
  "language_info": {
   "codemirror_mode": {
    "name": "ipython",
    "version": 3
   },
   "file_extension": ".py",
   "mimetype": "text/x-python",
   "name": "python",
   "nbconvert_exporter": "python",
   "pygments_lexer": "ipython3",
   "version": "3.11.4"
  }
 },
 "nbformat": 4,
 "nbformat_minor": 5
}
