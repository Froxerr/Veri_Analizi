{
 "cells": [
  {
   "cell_type": "code",
   "execution_count": null,
   "id": "391b155c",
   "metadata": {},
   "outputs": [],
   "source": [
    "from scipy import stats"
   ]
  },
  {
   "cell_type": "code",
   "execution_count": null,
   "id": "802b7c85",
   "metadata": {},
   "outputs": [],
   "source": [
    "#Bir madeni parayı havaya attığım da yazı gelme olasılığı örneği için binom dağılımı"
   ]
  },
  {
   "cell_type": "code",
   "execution_count": null,
   "id": "b3b83a05",
   "metadata": {},
   "outputs": [],
   "source": [
    "p = 0.5 # Yazı veya tura gelme olasılığı\n",
    "n=1 # Kaç defa denediğim\n",
    "dagilim = stats.binom(n,p) # binom'a tanıtıyorum olasılığımı ve deneme sayımı\n",
    "yazi = dagilim.pmf(k=1) # k değeri ise ne kadar gelmesini istediğim, mesela 8 defa attım ve 4 yazı gelmesini istiyorum\n",
    "#eğer 4 yazı gelmesini istiyorsam k değişkenine 4 yazmam gerek\n",
    "\n",
    "print(yazi)"
   ]
  },
  {
   "cell_type": "code",
   "execution_count": null,
   "id": "0a52722c",
   "metadata": {},
   "outputs": [],
   "source": [
    "#Bir madeni parayı 7 defa havaya attığım da 3 defa yazı gelme olasılığı örneği için binom dağılımı"
   ]
  },
  {
   "cell_type": "code",
   "execution_count": null,
   "id": "1975b912",
   "metadata": {},
   "outputs": [],
   "source": [
    "p = 0.5 \n",
    "n=7 \n",
    "dagilim = stats.binom(n,p) \n",
    "yazi = dagilim.pmf(k=3) # 3 Defa yazı gelme olasılığı\n",
    "\n",
    "print(yazi)\n",
    "print(yazi*100) #Yüzdelik değeri için"
   ]
  },
  {
   "cell_type": "code",
   "execution_count": null,
   "id": "8346dc09",
   "metadata": {},
   "outputs": [],
   "source": [
    "#Bir futbol oyuncusu attığı penaltılarda gol oranı 0.80\n",
    "#Bu futbolcu 5 penaltı atsa 3'ünü gole çevirme olasılığı nedir?"
   ]
  },
  {
   "cell_type": "code",
   "execution_count": null,
   "id": "5ebb912c",
   "metadata": {},
   "outputs": [],
   "source": [
    "n=5\n",
    "p=0.80\n",
    "\n",
    "dagilim = stats.binom(n,p)\n",
    "penalti_gol = dagilim.pmf(k=3)\n",
    "print(penalti_gol)"
   ]
  },
  {
   "cell_type": "code",
   "execution_count": null,
   "id": "9f86000b",
   "metadata": {},
   "outputs": [],
   "source": [
    "#Bir fabrika da 100 ürün üretiliyor ve bu 100 ürün arasından 1 tanesinin kusurlu olduğu fark edilmiş\n",
    "#Müşteriye satılan 10 ürünün tamamının kusursuz veya en fazla 2 tanesinin kusurlu olma olasılığı nedir"
   ]
  },
  {
   "cell_type": "code",
   "execution_count": null,
   "id": "3d50a2ff",
   "metadata": {},
   "outputs": [],
   "source": [
    "#TAMAMEN KUSURSUZ\n",
    "#Tamamı kusursuz demek aslında P(k = 0) anlamına geliyor yani ben kusursuz istiyorum\n",
    "#Eğer kusurlu istiyor olsaydım P(k = 1) anlamına gelmiş olması gerekiyordu\n",
    "p = 0.01\n",
    "n=10\n",
    "\n",
    "dagilim = stats.binom(n,p)\n",
    "urun = dagilim.pmf(k=0)\n",
    "print(urun)\n",
    "#MAX 2 KUSURLU \n",
    "#Max 2 kusurlu demek aslında P(k < 2) anlamına geliyor bu da \n",
    "# P(k = 0) + P(k = 1) + P(k = 2) Anlamına geliyor\n",
    "\n",
    "p = 0.01\n",
    "n = 10\n",
    "\n",
    "dagilim = stats.binom(n,p)\n",
    "urun1 = dagilim.pmf(k=0)\n",
    "urun2 = dagilim.pmf(k=1)\n",
    "urun3 = dagilim.pmf(k=2)\n",
    "print(urun1 + urun2 + urun3) # Eğer bu 2 değil de 100 olsaydı tek tek 100 tanesini toplayamazdık bu yüzden\n",
    "toplam = dagilim.cdf(x=2) # Kümülatif toplama muhabbetini kullanıp direk topluyoruz\n",
    "print(toplam)"
   ]
  },
  {
   "cell_type": "code",
   "execution_count": null,
   "id": "91ac6c20",
   "metadata": {},
   "outputs": [],
   "source": [
    "#Bir mağaza da haftalık olarak ürün iade için olasılık modellemesi yapmak istiyoruz\n",
    "#Haftalık ortalama olarak her 100 satışın 10 tanesi iade ediliyor\n",
    "#Haftalık satış ortalaması ise 50\n",
    "#50 Satışta 5 defa iade gelme olasılığı nedir? - 1\n",
    "#50 Satışta 15 defadan daha az gelme olasılığı nedir? - 2\n",
    "#50 Satışta en az 10 tane gelme olasılığı nedir? - 3"
   ]
  },
  {
   "cell_type": "code",
   "execution_count": null,
   "id": "e205e1cc",
   "metadata": {},
   "outputs": [],
   "source": [
    "#1 P(k = 5)\n",
    "n=50\n",
    "p=0.1\n",
    "\n",
    "dagilim = stats.binom(n,p)\n",
    "iade1 = dagilim.pmf(k=5)\n",
    "print(iade1*100)\n",
    "\n",
    "#2 P(k < 15)\n",
    "\n",
    "iade2 = dagilim.cdf(15)\n",
    "print(iade2*100)\n",
    "\n",
    "#3 P(k > 10)\n",
    "\n",
    "iade3 = 1-dagilim.cdf(10)\n",
    "print(iade3*100)"
   ]
  }
 ],
 "metadata": {
  "kernelspec": {
   "display_name": "Python 3 (ipykernel)",
   "language": "python",
   "name": "python3"
  },
  "language_info": {
   "codemirror_mode": {
    "name": "ipython",
    "version": 3
   },
   "file_extension": ".py",
   "mimetype": "text/x-python",
   "name": "python",
   "nbconvert_exporter": "python",
   "pygments_lexer": "ipython3",
   "version": "3.11.4"
  }
 },
 "nbformat": 4,
 "nbformat_minor": 5
}
