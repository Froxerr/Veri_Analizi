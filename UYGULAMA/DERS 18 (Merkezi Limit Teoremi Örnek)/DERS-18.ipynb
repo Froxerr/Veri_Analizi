{
 "cells": [
  {
   "cell_type": "code",
   "execution_count": null,
   "id": "1304b105",
   "metadata": {},
   "outputs": [],
   "source": [
    "import pandas as pd\n",
    "import numpy as np\n",
    "import matplotlib.pyplot as plt\n",
    "import random"
   ]
  },
  {
   "cell_type": "code",
   "execution_count": null,
   "id": "abd5a015",
   "metadata": {},
   "outputs": [],
   "source": [
    "yas = np.random.uniform(low=18,high=50,size=50000)\n",
    "\n",
    "orneklem = [np.mean(random.choices(yas, k=30)) for _ in range(1000)]\n",
    "\n",
    "plt.hist(orneklem)\n",
    "plt.show()"
   ]
  }
 ],
 "metadata": {
  "kernelspec": {
   "display_name": "Python 3 (ipykernel)",
   "language": "python",
   "name": "python3"
  },
  "language_info": {
   "codemirror_mode": {
    "name": "ipython",
    "version": 3
   },
   "file_extension": ".py",
   "mimetype": "text/x-python",
   "name": "python",
   "nbconvert_exporter": "python",
   "pygments_lexer": "ipython3",
   "version": "3.11.4"
  }
 },
 "nbformat": 4,
 "nbformat_minor": 5
}
