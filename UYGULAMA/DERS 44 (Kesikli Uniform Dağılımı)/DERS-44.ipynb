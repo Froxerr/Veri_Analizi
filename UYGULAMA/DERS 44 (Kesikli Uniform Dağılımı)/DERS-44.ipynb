{
 "cells": [
  {
   "cell_type": "code",
   "execution_count": null,
   "id": "f24149cc",
   "metadata": {},
   "outputs": [],
   "source": [
    "from scipy import stats"
   ]
  },
  {
   "cell_type": "code",
   "execution_count": null,
   "id": "33abb76e",
   "metadata": {},
   "outputs": [],
   "source": [
    "n=6\n",
    "\n",
    "#randint içinde verdiğim değerleri sıralayacak bir yapı\n",
    "#n+1 yazma sebebimiz ise en son sayıyı almıyor, bu yüzden\n",
    "dagilim = stats.randint(1,n+1)\n",
    "olasilik = dagilim.pmf(k=5)\n",
    "print(olasilik*100) #Bir zar atışında 5 gelme olasılığı = %16"
   ]
  },
  {
   "cell_type": "code",
   "execution_count": null,
   "id": "19f0e485",
   "metadata": {},
   "outputs": [],
   "source": [
    "n=6\n",
    "\n",
    "dagilim = stats.randint(1,n+1)\n",
    "olasilik = dagilim.expect() #Beklenen değer\n",
    "print(olasilik) "
   ]
  },
  {
   "cell_type": "code",
   "execution_count": null,
   "id": "02691726",
   "metadata": {},
   "outputs": [],
   "source": [
    "n=6\n",
    "\n",
    "dagilim = stats.randint(1,n+1)\n",
    "olasilik = dagilim.var() #Varyans\n",
    "print(olasilik) "
   ]
  },
  {
   "cell_type": "code",
   "execution_count": null,
   "id": "9c5269a0",
   "metadata": {},
   "outputs": [],
   "source": [
    "#P(x>5) dersen eğer şunu yazarsın: 'olasılık = dağılım.cdf(x=4)'\n",
    "#P(x>=5) dersen eğer şunu yazarsın: 'olasılık = dağılım.cdf(x=5)'\n",
    "n=6\n",
    "\n",
    "dagilim = stats.randint(1,n+1)\n",
    "olasilik = dagilim.cdf(x=3)\n",
    "print(olasilik) "
   ]
  }
 ],
 "metadata": {
  "kernelspec": {
   "display_name": "Python 3 (ipykernel)",
   "language": "python",
   "name": "python3"
  },
  "language_info": {
   "codemirror_mode": {
    "name": "ipython",
    "version": 3
   },
   "file_extension": ".py",
   "mimetype": "text/x-python",
   "name": "python",
   "nbconvert_exporter": "python",
   "pygments_lexer": "ipython3",
   "version": "3.11.4"
  }
 },
 "nbformat": 4,
 "nbformat_minor": 5
}
