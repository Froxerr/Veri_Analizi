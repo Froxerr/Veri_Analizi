{
 "cells": [
  {
   "cell_type": "code",
   "execution_count": null,
   "id": "482554af",
   "metadata": {},
   "outputs": [],
   "source": [
    "#DERS-101"
   ]
  },
  {
   "cell_type": "code",
   "execution_count": null,
   "id": "a7e0fa0e",
   "metadata": {},
   "outputs": [],
   "source": [
    "import matplotlib.pyplot as plt\n",
    "import seaborn as sns\n",
    "import pandas as pd"
   ]
  },
  {
   "cell_type": "code",
   "execution_count": null,
   "id": "54c08303",
   "metadata": {
    "scrolled": true
   },
   "outputs": [],
   "source": [
    "fiyat = [100,200,250,150]\n",
    "marka = [\"A\",\"B\",\"C\",\"D\"]\n",
    "#x= bildiğin x ekseni\n",
    "#y= bildiğin y ekseni\n",
    "sns.barplot(x=marka,y=fiyat)\n",
    "plt.show()"
   ]
  },
  {
   "cell_type": "code",
   "execution_count": null,
   "id": "f0d40113",
   "metadata": {
    "scrolled": true
   },
   "outputs": [],
   "source": [
    "fig,ax = plt.subplots(2,2)\n",
    "plt.show()"
   ]
  },
  {
   "cell_type": "code",
   "execution_count": null,
   "id": "74b97e3e",
   "metadata": {
    "scrolled": true
   },
   "outputs": [],
   "source": [
    "fiyat = [100,200,250,150]\n",
    "marka = [\"A\",\"B\",\"C\",\"D\"]\n",
    "\n",
    "fig,ax = plt.subplots(2,2)\n",
    "ax[1,0].plot(marka,fiyat) # 1, 0'lık alanı bulup bizim gönderdiğimiz çizgi grafiğini çizdi\n",
    "ax[1,1].set_title(\"Örnek Başlık\",color=\"red\") # 1,1'lik alana başlık koydu\n",
    "plt.show()"
   ]
  },
  {
   "cell_type": "code",
   "execution_count": null,
   "id": "039b9a88",
   "metadata": {
    "scrolled": true
   },
   "outputs": [],
   "source": [
    "fiyat = [100,200,250,150]\n",
    "marka = [\"A\",\"B\",\"C\",\"D\"]\n",
    "renkler = {\n",
    "    \"A\":\"tab:pink\",\n",
    "    \"B\":\"tab:green\",\n",
    "    \"C\":\"tab:orange\",\n",
    "    \"D\":\"tab:red\"\n",
    "}\n",
    "#palette = Hangi bara hangi renk değerini atadıysan, onu otomatik yapıyor\n",
    "#alpha = Şeffaflık\n",
    "sns.barplot(x=marka,y=fiyat,palette=renkler).set_facecolor(\"Blue\") #Arka planı mavi yapıyor set_facecolor\n",
    "plt.title(\"Örnek Başlık\",\n",
    "          color=\"darkblue\",\n",
    "          fontsize=15,\n",
    "          fontweight=\"bold\",\n",
    "          fontname=\"Times New Roman\",\n",
    "          loc=\"left\", # başlık yerleşim yeri\n",
    "          pad=50) # başlık mesafe koyuyor gibi düşün\n",
    "plt.xlabel(\"Markalar\",color=\"red\",fontsize=15)\n",
    "plt.ylabel(\"Fiyatlar\",color=\"red\",fontsize=15)\n",
    "#plt.ylim = 50'den başlasın, 500'e kadar gitsin, 50'şer 50'şer artsın\n",
    "plt.ylim(0,300,10)\n",
    "plt.show()"
   ]
  },
  {
   "cell_type": "code",
   "execution_count": null,
   "id": "6e0861f7",
   "metadata": {},
   "outputs": [],
   "source": [
    "#DERS-102"
   ]
  },
  {
   "cell_type": "code",
   "execution_count": null,
   "id": "7ce13c73",
   "metadata": {
    "scrolled": true
   },
   "outputs": [],
   "source": [
    "fiyat = [100,200,250,150]\n",
    "marka = [\"A\",\"B\",\"C\",\"D\"]\n",
    "#orient = cubuk halini halıyor\n",
    "liste = list(zip(fiyat,marka))\n",
    "df = pd.DataFrame(data=liste,columns=[\"Fiyat\",\"Marka\"])\n",
    "df\n",
    "#order = Fiyatın değerlerini markadan alıp sırala\n",
    "sns.barplot(data=df,x=\"Fiyat\",y=\"Marka\",orient=\"h\",order=df.sort_values(\"Fiyat\",ascending=False).Marka)\n",
    "plt.show()"
   ]
  },
  {
   "cell_type": "code",
   "execution_count": null,
   "id": "cec4a210",
   "metadata": {},
   "outputs": [],
   "source": [
    "df = pd.DataFrame(pd.read_excel(\"ornek.xlsx\"))\n",
    "#hue = gruplama\n",
    "#Varsayılan olarak ortalama gelir, ama ben toplamlarını istiyorsam estimator=sum demem gerek\n",
    "sns.barplot(data=df,x=\"Günler\",y=\"Ödeme\",hue=\"Cinsiyet\",errorbar=(\"ci\",False),estimator=sum)\n",
    "plt.show()"
   ]
  }
 ],
 "metadata": {
  "kernelspec": {
   "display_name": "Python 3 (ipykernel)",
   "language": "python",
   "name": "python3"
  },
  "language_info": {
   "codemirror_mode": {
    "name": "ipython",
    "version": 3
   },
   "file_extension": ".py",
   "mimetype": "text/x-python",
   "name": "python",
   "nbconvert_exporter": "python",
   "pygments_lexer": "ipython3",
   "version": "3.11.4"
  }
 },
 "nbformat": 4,
 "nbformat_minor": 5
}
