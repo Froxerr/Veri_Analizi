{
 "cells": [
  {
   "cell_type": "code",
   "execution_count": null,
   "id": "517d55ec",
   "metadata": {},
   "outputs": [],
   "source": [
    "import pandas as pd"
   ]
  },
  {
   "cell_type": "code",
   "execution_count": null,
   "id": "481967dd",
   "metadata": {},
   "outputs": [],
   "source": [
    "#ORNEK 1"
   ]
  },
  {
   "cell_type": "code",
   "execution_count": null,
   "id": "a565f514",
   "metadata": {},
   "outputs": [],
   "source": [
    "df = pd.DataFrame(pd.read_excel(\"ornek.xlsx\"))\n",
    "df\n",
    "df2 = df.copy()"
   ]
  },
  {
   "cell_type": "code",
   "execution_count": null,
   "id": "dc6ce4e1",
   "metadata": {},
   "outputs": [],
   "source": [
    "df2 = df.copy()\n",
    "#how=all Eğer tüm satırlar NaN ise, silme işlemi yapılır\n",
    "#axis = 1 yaparsanız ise sütunu silmiş olursunuz\n",
    "df2.dropna(inplace=True,how=\"all\")\n",
    "df2.reset_index(drop=True,inplace=True)\n",
    "df2"
   ]
  },
  {
   "cell_type": "code",
   "execution_count": null,
   "id": "6aed47e8",
   "metadata": {},
   "outputs": [],
   "source": [
    "#Value değeri tüm boşlukları aynı ifade ile doldurmamızı sağlar\n",
    "#df2.fillna(value=0,inplace=True)\n",
    "df2.fillna(value=\"Eksik Gözlem\",inplace=True)\n",
    "df2.head()"
   ]
  },
  {
   "cell_type": "code",
   "execution_count": null,
   "id": "60de8d30",
   "metadata": {},
   "outputs": [],
   "source": [
    "#NaN değerlerine D1 sütununun ortalamasını atama işlemi yapılır\n",
    "df2[\"D1\"].fillna(value=df2[\"D1\"].mean(),inplace=True)\n",
    "df2"
   ]
  },
  {
   "cell_type": "code",
   "execution_count": null,
   "id": "bcce9857",
   "metadata": {},
   "outputs": [],
   "source": [
    "#NaN değerlerine D1 ve D2 sütunlarının ortalamasını atama işlemi yapılır\n",
    "df2.fillna(value=df2.mean()[\"D1\":\"D2\"],inplace=True)\n",
    "df2"
   ]
  },
  {
   "cell_type": "code",
   "execution_count": null,
   "id": "aa138876",
   "metadata": {},
   "outputs": [],
   "source": [
    "#Tüm NaN değerleri sütunun ortalamasını atama işlemi yapar\n",
    "df2.fillna(value=df2.mean()[:],inplace=True)\n",
    "df2"
   ]
  },
  {
   "cell_type": "code",
   "execution_count": null,
   "id": "8b32eed4",
   "metadata": {},
   "outputs": [],
   "source": [
    "#ORNEK 2\n",
    "#Eğer kadın grubunda bir NaN değeri varsa, sadece kadının ortalamasını NaN değerine atamasını istiyoruz\n",
    "df = pd.DataFrame(pd.read_excel(\"ornek2.xlsx\"))\n",
    "df2 = df.copy()\n",
    "df.isnull().sum()"
   ]
  },
  {
   "cell_type": "code",
   "execution_count": null,
   "id": "f770b3a7",
   "metadata": {},
   "outputs": [],
   "source": [
    "ortalama = df2.groupby(\"Cinsiyet\")[\"Yaş\"].mean()\n",
    "ortalama"
   ]
  },
  {
   "cell_type": "code",
   "execution_count": null,
   "id": "ba103fe1",
   "metadata": {},
   "outputs": [],
   "source": [
    "#Sadece yukarıda yaptığımız mean değerini transform altında kullanıyoruz\n",
    "df2[\"Yaş\"].fillna(df2.groupby(\"Cinsiyet\")[\"Yaş\"].transform(\"mean\"),inplace=True)\n",
    "df2"
   ]
  },
  {
   "cell_type": "code",
   "execution_count": null,
   "id": "02fbade7",
   "metadata": {},
   "outputs": [],
   "source": [
    "#ORNEK 3\n",
    "df = pd.DataFrame(pd.read_excel(\"ornek3.xlsx\"))\n",
    "df2 = df.copy()\n",
    "df.isnull().sum()"
   ]
  },
  {
   "cell_type": "code",
   "execution_count": null,
   "id": "d0295f6d",
   "metadata": {},
   "outputs": [],
   "source": [
    "#Şehir içinde en çok tekrar eden değeri buluyoruz\n",
    "mod = df2[\"Şehir\"].mode()[0]\n",
    "mod"
   ]
  },
  {
   "cell_type": "code",
   "execution_count": null,
   "id": "2601b84c",
   "metadata": {
    "scrolled": true
   },
   "outputs": [],
   "source": [
    "df2[\"Şehir\"].fillna(df2[\"Şehir\"].mode()[0],inplace=True)\n",
    "df2"
   ]
  }
 ],
 "metadata": {
  "kernelspec": {
   "display_name": "Python 3 (ipykernel)",
   "language": "python",
   "name": "python3"
  },
  "language_info": {
   "codemirror_mode": {
    "name": "ipython",
    "version": 3
   },
   "file_extension": ".py",
   "mimetype": "text/x-python",
   "name": "python",
   "nbconvert_exporter": "python",
   "pygments_lexer": "ipython3",
   "version": "3.11.4"
  }
 },
 "nbformat": 4,
 "nbformat_minor": 5
}
