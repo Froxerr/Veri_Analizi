{
 "cells": [
  {
   "cell_type": "code",
   "execution_count": null,
   "id": "9c2095ab",
   "metadata": {},
   "outputs": [],
   "source": [
    "import pandas as pd\n",
    "import pingouin as pg\n",
    "import matplotlib.pyplot as plt\n",
    "import seaborn as sns"
   ]
  },
  {
   "cell_type": "code",
   "execution_count": null,
   "id": "05c8b14c",
   "metadata": {},
   "outputs": [],
   "source": [
    "#Ornek 1\n",
    "#Sıcaklık ile dondurma satışı arasında bir ilişki var mı?"
   ]
  },
  {
   "cell_type": "code",
   "execution_count": null,
   "id": "5a18bb0b",
   "metadata": {},
   "outputs": [],
   "source": [
    "df = pd.DataFrame(pd.read_excel(\"ornek.xlsx\"))\n",
    "df.head()"
   ]
  },
  {
   "cell_type": "code",
   "execution_count": null,
   "id": "70a26983",
   "metadata": {},
   "outputs": [],
   "source": [
    "df.dtypes"
   ]
  },
  {
   "cell_type": "code",
   "execution_count": null,
   "id": "f322afda",
   "metadata": {},
   "outputs": [],
   "source": [
    "df[\"Sıcaklık\"] = [float(str(i).replace(\",\",\".\"))for i in df[\"Sıcaklık\"]]\n",
    "df"
   ]
  },
  {
   "cell_type": "code",
   "execution_count": null,
   "id": "a6a8aaaa",
   "metadata": {},
   "outputs": [],
   "source": [
    "#Veri sayısı az olduğu için normallik testi yapıyoruz\n",
    "normallik = pg.normality(df)\n",
    "normallik"
   ]
  },
  {
   "cell_type": "code",
   "execution_count": null,
   "id": "75c239eb",
   "metadata": {},
   "outputs": [],
   "source": [
    "#Şimdi dondurma satışının sıcaklık üzerinde bir etkisi var mı, yok. Mantıken saçma\n",
    "#Ama sıcaklığın dondurma satışı üzerinde bir etkisi var, bu yüzden Sıcaklık bağımsız ama Dondurma satışı bağımlı oluyor\n",
    "#x = Bağımsız değişkenim | y = Bağımlı değişkenim\n",
    "#sns.scatterplot(x=\"Sıcaklık\",y=\"DondurmaSatış\",data=df)\n",
    "#ci = Bize bir güven aralığı veriyor, doğrusallık için\n",
    "sns.lmplot(x=\"Sıcaklık\",y=\"DondurmaSatış\",data=df,ci=None)\n",
    "plt.show()\n",
    "#Grafik üzerinde bir doğrusallık var ama sen gene de bir testini yap. Bir ilişki var mı yok mu diyor bize bu grafik"
   ]
  },
  {
   "cell_type": "code",
   "execution_count": null,
   "id": "8031d149",
   "metadata": {},
   "outputs": [],
   "source": [
    "korelasyon = pg.corr(x=df[\"Sıcaklık\"],y=df[\"DondurmaSatış\"],method=\"pearson\")\n",
    "print(korelasyon)\n",
    "#n = Kaç tane veriyle uğraşıyoruz\n",
    "#r = Yüzde kaç oranda aralarında bir ilişki var\n",
    "#p-val = 0.05'ten küçük olduğu için Ho reddedilir | Ho = Aralarında ilişki yok, H1 = Aralarında ilişki var"
   ]
  }
 ],
 "metadata": {
  "kernelspec": {
   "display_name": "Python 3 (ipykernel)",
   "language": "python",
   "name": "python3"
  },
  "language_info": {
   "codemirror_mode": {
    "name": "ipython",
    "version": 3
   },
   "file_extension": ".py",
   "mimetype": "text/x-python",
   "name": "python",
   "nbconvert_exporter": "python",
   "pygments_lexer": "ipython3",
   "version": "3.11.4"
  }
 },
 "nbformat": 4,
 "nbformat_minor": 5
}
