{
 "cells": [
  {
   "cell_type": "code",
   "execution_count": null,
   "id": "0173711f",
   "metadata": {},
   "outputs": [],
   "source": [
    "#Hiyerarşi konusu bu derste anlatılıyor."
   ]
  },
  {
   "cell_type": "code",
   "execution_count": null,
   "id": "0fb7defc",
   "metadata": {},
   "outputs": [],
   "source": [
    "import pandas as pd\n",
    "import numpy as np\n",
    "from sklearn import preprocessing as pr"
   ]
  },
  {
   "cell_type": "code",
   "execution_count": null,
   "id": "487d16ef",
   "metadata": {},
   "outputs": [],
   "source": [
    "df = pd.DataFrame(pd.read_excel(\"ornek.xlsx\"))\n",
    "df2 = df.copy()\n",
    "df2.head()"
   ]
  },
  {
   "cell_type": "code",
   "execution_count": null,
   "id": "8c1fcf3e",
   "metadata": {},
   "outputs": [],
   "source": [
    "#df2[\"KodCinsiyet\"] = pr.LabelEncoder().fit_transform(df2[\"Cinsiyet\"])\n",
    "#df2[\"KodAraçRenk\"] = pr.LabelEncoder().fit_transform(df2[\"AraçRenk\"])\n",
    "#df2[\"KodEğitim\"] = pr.LabelEncoder().fit_transform(df2[\"Eğitim\"])\n",
    "for i in df2.columns:\n",
    "    df2[\"Kod\"+i] = pr.LabelEncoder().fit_transform(df2[\"\"+i])"
   ]
  },
  {
   "cell_type": "code",
   "execution_count": null,
   "id": "cca7b611",
   "metadata": {},
   "outputs": [],
   "source": [
    "#İlkokulun 0 olması gerekiyorken 4 olmuş, mantıken bu olmaz ve biz Yüksek Lisansın 4 olmasını istiyoruz\n",
    "print(df2[[\"Eğitim\",\"KodEğitim\"]])"
   ]
  },
  {
   "cell_type": "code",
   "execution_count": null,
   "id": "ef38eb66",
   "metadata": {},
   "outputs": [],
   "source": [
    "#Ben eğitimi kategorize etmek istiyorum\n",
    "#categories = En düşükten en yükseğe doğru kategorize etmek istiyorum\n",
    "#ordered = Düzenli, yani İlkokul, Lise diye düzenli şekilde git diyoruz\n",
    "sirali = pd.Categorical(df[\"Eğitim\"],categories=[\"İlkokul\",\"Ortaokul\",\"Lise\",\"Üniversite\",\"YüksekLisans\"],ordered=True)\n",
    "df2[\"SıralıEğitim\"],sira = pd.factorize(sirali,sort=True)#sort=True, küçükten büyüğe doğru sırala demek\n",
    "\n",
    "print(df2[[\"Eğitim\",\"KodEğitim\",\"SıralıEğitim\"]])"
   ]
  }
 ],
 "metadata": {
  "kernelspec": {
   "display_name": "Python 3 (ipykernel)",
   "language": "python",
   "name": "python3"
  },
  "language_info": {
   "codemirror_mode": {
    "name": "ipython",
    "version": 3
   },
   "file_extension": ".py",
   "mimetype": "text/x-python",
   "name": "python",
   "nbconvert_exporter": "python",
   "pygments_lexer": "ipython3",
   "version": "3.11.4"
  }
 },
 "nbformat": 4,
 "nbformat_minor": 5
}
