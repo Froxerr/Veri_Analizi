{
 "cells": [
  {
   "cell_type": "code",
   "execution_count": null,
   "id": "0173711f",
   "metadata": {},
   "outputs": [],
   "source": [
    "#Word'e açıkladım dersin konusunu, bakarsanız daha iyi anlayabilirsiniz."
   ]
  },
  {
   "cell_type": "code",
   "execution_count": null,
   "id": "0fb7defc",
   "metadata": {},
   "outputs": [],
   "source": [
    "import pandas as pd\n",
    "import numpy as np\n",
    "from sklearn import preprocessing as pr"
   ]
  },
  {
   "cell_type": "code",
   "execution_count": null,
   "id": "487d16ef",
   "metadata": {},
   "outputs": [],
   "source": [
    "df = pd.DataFrame(pd.read_excel(\"ornek.xlsx\"))\n",
    "df2 = df.copy()\n",
    "df2.head()"
   ]
  },
  {
   "cell_type": "code",
   "execution_count": null,
   "id": "8c1fcf3e",
   "metadata": {},
   "outputs": [],
   "source": [
    "#df2[\"KodCinsiyet\"] = pr.LabelEncoder().fit_transform(df2[\"Cinsiyet\"])\n",
    "#df2[\"KodAraçRenk\"] = pr.LabelEncoder().fit_transform(df2[\"AraçRenk\"])\n",
    "#df2[\"KodEğitim\"] = pr.LabelEncoder().fit_transform(df2[\"Eğitim\"])\n",
    "for i in df2.columns:\n",
    "    df2[\"Kod\"+i] = pr.LabelEncoder().fit_transform(df2[\"\"+i])"
   ]
  },
  {
   "cell_type": "code",
   "execution_count": null,
   "id": "cca7b611",
   "metadata": {},
   "outputs": [],
   "source": [
    "onehotdonusum = pd.get_dummies(df2,columns=[\"Cinsiyet\",\"AraçRenk\"],drop_first=True) \n",
    "#drop_first = Cinsiyet erkeği elemiş durumda. Burada durum şu: Eğer değer 1 ise kadın, geriye kalan 0 olduğu için \n",
    "#otomatik olarak erkek olarak atanmış oluyor. Yani bana fazla bilgi verme, az bilgi ver diyor, kısacası\n",
    "onehotdonusum"
   ]
  }
 ],
 "metadata": {
  "kernelspec": {
   "display_name": "Python 3 (ipykernel)",
   "language": "python",
   "name": "python3"
  },
  "language_info": {
   "codemirror_mode": {
    "name": "ipython",
    "version": 3
   },
   "file_extension": ".py",
   "mimetype": "text/x-python",
   "name": "python",
   "nbconvert_exporter": "python",
   "pygments_lexer": "ipython3",
   "version": "3.11.4"
  }
 },
 "nbformat": 4,
 "nbformat_minor": 5
}
