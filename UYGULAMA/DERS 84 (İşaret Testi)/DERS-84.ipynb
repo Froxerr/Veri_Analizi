{
 "cells": [
  {
   "cell_type": "code",
   "execution_count": null,
   "id": "935fdc2c",
   "metadata": {},
   "outputs": [],
   "source": [
    "import pandas as pd\n",
    "from scipy import stats\n",
    "from statsmodels.stats.descriptivestats import sign_test #İşaret testi modülü"
   ]
  },
  {
   "cell_type": "code",
   "execution_count": null,
   "id": "92131269",
   "metadata": {},
   "outputs": [],
   "source": [
    "#Ornek 1\n",
    "#25 tane öğrenci ile ilgili bir not örneği alınmış ve ortaya bir iddia atılmıştır\n",
    "#Atılan iddia ise: \"Not ortalamaları 30'dan farklı bir değerdir.\""
   ]
  },
  {
   "cell_type": "code",
   "execution_count": null,
   "id": "9ffd7268",
   "metadata": {},
   "outputs": [],
   "source": [
    "df = pd.DataFrame(pd.read_excel(\"ornek.xlsx\"))\n",
    "df.head()"
   ]
  },
  {
   "cell_type": "code",
   "execution_count": null,
   "id": "9e523e9d",
   "metadata": {},
   "outputs": [],
   "source": [
    "#25 tane veri olduğu için normal dağılım ile ilgili bir şüpheye düşüyoruz ve normal dağılım testi yapıyoruz\n",
    "#Eğer normal çıkarsa parametrik bir analiz yaparız, çıkmazsa nonparametrik bir analiz yaparız\n",
    "normallik = stats.shapiro(df[\"Not\"])\n",
    "print(normallik) #Normal dağılıma uymuyor, bu yüzden nonparametrik bir analiz yapacağız"
   ]
  },
  {
   "cell_type": "code",
   "execution_count": null,
   "id": "0d2a72ad",
   "metadata": {},
   "outputs": [],
   "source": [
    "#İddiamız, not ortalamasının 30'dan farklı bir değer olduğu için mu0 (varsayılan değer) olarak iddiamızı giriyoruz\n",
    "test,p = sign_test(df[\"Not\"],mu0=30)\n",
    "print(test,p)\n",
    "if p > 0.05:\n",
    "    print(\"Not ortalaması 30 dan farklı değildir\")\n",
    "else:\n",
    "    print(\"Not ortalaması 30 dan farklı bir değerdir\")\n",
    "print(df[\"Not\"].median())"
   ]
  }
 ],
 "metadata": {
  "kernelspec": {
   "display_name": "Python 3 (ipykernel)",
   "language": "python",
   "name": "python3"
  },
  "language_info": {
   "codemirror_mode": {
    "name": "ipython",
    "version": 3
   },
   "file_extension": ".py",
   "mimetype": "text/x-python",
   "name": "python",
   "nbconvert_exporter": "python",
   "pygments_lexer": "ipython3",
   "version": "3.11.4"
  }
 },
 "nbformat": 4,
 "nbformat_minor": 5
}
