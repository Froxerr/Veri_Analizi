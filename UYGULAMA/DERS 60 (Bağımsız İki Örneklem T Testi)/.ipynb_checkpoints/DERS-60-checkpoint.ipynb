{
 "cells": [
  {
   "cell_type": "code",
   "execution_count": null,
   "id": "5922135b",
   "metadata": {},
   "outputs": [],
   "source": [
    "from scipy import stats\n",
    "import pandas as pd"
   ]
  },
  {
   "cell_type": "code",
   "execution_count": null,
   "id": "4577310e",
   "metadata": {},
   "outputs": [],
   "source": [
    "#A okulu ve B okulu öğrencilerinin sınav sonuçları karşılaştırılmak isteniyor. 9 tane örneklem alınıyor"
   ]
  },
  {
   "cell_type": "code",
   "execution_count": null,
   "id": "bb76187e",
   "metadata": {},
   "outputs": [],
   "source": [
    "df = pd.DataFrame(pd.read_excel(\"okul.xlsx\"),columns=[\"A Okulu\",\"B Okulu\"])\n",
    "df = df.drop(axis=0,index=[9,10,11])"
   ]
  },
  {
   "cell_type": "code",
   "execution_count": null,
   "id": "df9d64df",
   "metadata": {},
   "outputs": [],
   "source": [
    "alfa = 0.05\n",
    "#ttest_ind içinde 2 tane grup göndermemiz gerek | alternative = Kuyruk muhabbeti\n",
    "thesap, p = stats.ttest_ind(df[\"A Okulu\"],df[\"B Okulu\"],alternative=\"two-sided\")\n",
    "print(thesap,p)\n",
    "\n",
    "if p < alfa:\n",
    "    print(\"Ho red\")\n",
    "else:\n",
    "    print(\"Ho reddedilemez\")"
   ]
  }
 ],
 "metadata": {
  "kernelspec": {
   "display_name": "Python 3 (ipykernel)",
   "language": "python",
   "name": "python3"
  },
  "language_info": {
   "codemirror_mode": {
    "name": "ipython",
    "version": 3
   },
   "file_extension": ".py",
   "mimetype": "text/x-python",
   "name": "python",
   "nbconvert_exporter": "python",
   "pygments_lexer": "ipython3",
   "version": "3.11.4"
  }
 },
 "nbformat": 4,
 "nbformat_minor": 5
}
