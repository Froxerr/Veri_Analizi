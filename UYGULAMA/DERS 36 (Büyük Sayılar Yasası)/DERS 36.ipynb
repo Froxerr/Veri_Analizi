{
 "cells": [
  {
   "cell_type": "code",
   "execution_count": null,
   "id": "be538a25",
   "metadata": {},
   "outputs": [],
   "source": [
    "import numpy as np\n",
    "import matplotlib.pyplot as plt\n",
    "import seaborn as sns"
   ]
  },
  {
   "cell_type": "code",
   "execution_count": null,
   "id": "4be4a642",
   "metadata": {},
   "outputs": [],
   "source": [
    "liste=[]\n",
    "\n",
    "for i in np.arange(0,100): #Arange, aralık belirtme işlemiyle ilgili | range gibi\n",
    "    denemesayisi = i**3 #her döngü döndüğünde deneme sayısını 3'ün kuvvetiyle artırırız\n",
    "    yt = np.random.randint(0,2,size=denemesayisi) #Bu denemeler sonucunda yazı tura olasılığını hesaplayarak\n",
    "    yolasilik = np.mean(yt) #büyük sayılar yasasına göre ortalamayı alırız\n",
    "    liste.append(yolasilik) #Elde ettiğimiz sonuçları bir listeye ekleriz\n",
    "sns.lineplot(liste,linewidth=2) #Bu verileri kullanarak bir çizgi grafiği oluştururuz\n",
    "#Grafikte alt kısımda değerlerin açıklamaları, \n",
    "plt.xlabel(\"Deneme Sayısı\") # Alt tarafta değerlerin açıklaması\n",
    "plt.ylabel(\"Ortalama\") # Yan tarafta değerlerin açıklaması\n",
    "plt.ylim(0,1) # Yan tarafta ise değer aralığını 0 ile 1 arasında tutacak şekilde düzenlemeler yaparız\n",
    "plt.axhline(0.5,linestyle=\"--\",linewidth=1.5,color=\"red\") # Genel 0.5'e yakınsadığını göstermek için çizgi atıyoruz\n",
    "plt.show()"
   ]
  }
 ],
 "metadata": {
  "kernelspec": {
   "display_name": "Python 3 (ipykernel)",
   "language": "python",
   "name": "python3"
  },
  "language_info": {
   "codemirror_mode": {
    "name": "ipython",
    "version": 3
   },
   "file_extension": ".py",
   "mimetype": "text/x-python",
   "name": "python",
   "nbconvert_exporter": "python",
   "pygments_lexer": "ipython3",
   "version": "3.11.4"
  }
 },
 "nbformat": 4,
 "nbformat_minor": 5
}
