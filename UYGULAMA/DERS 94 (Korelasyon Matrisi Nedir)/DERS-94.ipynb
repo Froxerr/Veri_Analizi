{
 "cells": [
  {
   "cell_type": "code",
   "execution_count": null,
   "id": "26ddbe0d",
   "metadata": {},
   "outputs": [],
   "source": [
    "import pandas as pd\n",
    "import matplotlib.pyplot as plt\n",
    "import seaborn as sns\n",
    "import pingouin as pg"
   ]
  },
  {
   "cell_type": "code",
   "execution_count": null,
   "id": "febcfd8b",
   "metadata": {},
   "outputs": [],
   "source": [
    "df = pd.DataFrame(pd.read_excel(\"ornek.xlsx\"))\n",
    "df.head()"
   ]
  },
  {
   "cell_type": "code",
   "execution_count": null,
   "id": "2b5f82b7",
   "metadata": {},
   "outputs": [],
   "source": [
    "kormat = df.corr()\n",
    "print(kormat)"
   ]
  },
  {
   "cell_type": "code",
   "execution_count": null,
   "id": "b8def590",
   "metadata": {},
   "outputs": [],
   "source": [
    "#annot = Grafik üzerine değerleri yazıyor\n",
    "#cmap = Renk üzerinde ayarlamak istiyorsan kullanıyorsun\n",
    "sns.heatmap(kormat,annot=True,cmap=plt.cm.Blues)\n",
    "plt.show()"
   ]
  },
  {
   "cell_type": "code",
   "execution_count": null,
   "id": "591f4e12",
   "metadata": {},
   "outputs": [],
   "source": [
    "p1 = pg.pairwise_corr(df)\n",
    "print(p1)"
   ]
  },
  {
   "cell_type": "code",
   "execution_count": null,
   "id": "a9eff4aa",
   "metadata": {},
   "outputs": [],
   "source": [
    "p2 = pg.rcorr(df)\n",
    "print(p2)"
   ]
  },
  {
   "cell_type": "code",
   "execution_count": null,
   "id": "7d321e9a",
   "metadata": {},
   "outputs": [],
   "source": [
    "p2 = pg.rcorr(df,stars=False) # Alttaki kısım 2 değişken arasında ki korelasyon katsayısını veriyor\n",
    "#Üstündekiler ise p değerini veriyor\n",
    "print(p2)"
   ]
  }
 ],
 "metadata": {
  "kernelspec": {
   "display_name": "Python 3 (ipykernel)",
   "language": "python",
   "name": "python3"
  },
  "language_info": {
   "codemirror_mode": {
    "name": "ipython",
    "version": 3
   },
   "file_extension": ".py",
   "mimetype": "text/x-python",
   "name": "python",
   "nbconvert_exporter": "python",
   "pygments_lexer": "ipython3",
   "version": "3.11.4"
  }
 },
 "nbformat": 4,
 "nbformat_minor": 5
}
