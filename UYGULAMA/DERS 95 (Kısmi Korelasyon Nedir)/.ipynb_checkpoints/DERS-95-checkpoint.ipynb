{
 "cells": [
  {
   "cell_type": "code",
   "execution_count": null,
   "id": "0985dd4f",
   "metadata": {},
   "outputs": [],
   "source": [
    "import pandas as pd\n",
    "import pingouin as pg"
   ]
  },
  {
   "cell_type": "code",
   "execution_count": null,
   "id": "df507b7a",
   "metadata": {},
   "outputs": [],
   "source": [
    "df = pd.DataFrame(pd.read_excel(\"ornek.xlsx\"))\n",
    "df.head()"
   ]
  },
  {
   "cell_type": "code",
   "execution_count": null,
   "id": "8647e379",
   "metadata": {},
   "outputs": [],
   "source": [
    "kor = pg.pairwise_corr(df)\n",
    "print(kor)"
   ]
  },
  {
   "cell_type": "code",
   "execution_count": null,
   "id": "e2cedf1f",
   "metadata": {},
   "outputs": [],
   "source": [
    "#Öğün artarsa kilo da artar, bu yüzden öğün bağımsız, kilo bağımlı\n",
    "#covar = Kovmaktan aklına gelsin, bunu kovuyor ve sadece öğün ile kilo arasındaki ilişkiye bakıyor\n",
    "kismiko = pg.partial_corr(data=df,x=\"Öğün\",y=\"Kilo\",covar=\"Yaş\")\n",
    "print(kismiko) #Yukarıda %95 oranında kilo ile öğün arasında bir ilişki buluyorken, Yaş değişkenini aradan çıkardığımızda \n",
    "#Sadece %44 bir güvenlik aralığı buluyoruz"
   ]
  }
 ],
 "metadata": {
  "kernelspec": {
   "display_name": "Python 3 (ipykernel)",
   "language": "python",
   "name": "python3"
  },
  "language_info": {
   "codemirror_mode": {
    "name": "ipython",
    "version": 3
   },
   "file_extension": ".py",
   "mimetype": "text/x-python",
   "name": "python",
   "nbconvert_exporter": "python",
   "pygments_lexer": "ipython3",
   "version": "3.11.4"
  }
 },
 "nbformat": 4,
 "nbformat_minor": 5
}
