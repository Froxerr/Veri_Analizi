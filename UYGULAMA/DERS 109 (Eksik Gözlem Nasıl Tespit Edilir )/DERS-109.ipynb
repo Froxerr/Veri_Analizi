{
 "cells": [
  {
   "cell_type": "code",
   "execution_count": null,
   "id": "045d35d8",
   "metadata": {},
   "outputs": [],
   "source": [
    "import pandas as pd\n",
    "import missingno as msno\n",
    "import matplotlib.pyplot as plt\n",
    "import seaborn as sns"
   ]
  },
  {
   "cell_type": "code",
   "execution_count": null,
   "id": "77b8d740",
   "metadata": {},
   "outputs": [],
   "source": [
    "df = pd.DataFrame(pd.read_excel(\"ornek.xlsx\"))\n",
    "df.info()#Sütunları getiriyor direkt"
   ]
  },
  {
   "cell_type": "code",
   "execution_count": null,
   "id": "2e10e500",
   "metadata": {
    "scrolled": true
   },
   "outputs": [],
   "source": [
    "df.isnull() # Boş mu diyor True'lar boştur\n",
    "df.isnull().sum() # boş olanları toplama işlemi\n",
    "df[df.isnull().any(axis=1)] #Hangi satırda boş varsa onları direkt getiriyor"
   ]
  },
  {
   "cell_type": "code",
   "execution_count": null,
   "id": "bf085c87",
   "metadata": {},
   "outputs": [],
   "source": [
    "pip install missingno"
   ]
  },
  {
   "cell_type": "code",
   "execution_count": null,
   "id": "64fc971e",
   "metadata": {},
   "outputs": [],
   "source": [
    "msno.bar(df) #Normal de 33 tane veri olmasını ama D1 de 25 D2 de 30 ... data var\n",
    "plt.show()"
   ]
  },
  {
   "cell_type": "code",
   "execution_count": null,
   "id": "a16422bc",
   "metadata": {},
   "outputs": [],
   "source": [
    "msno.matrix(df)\n",
    "plt.show()"
   ]
  },
  {
   "cell_type": "code",
   "execution_count": null,
   "id": "1d94aa85",
   "metadata": {},
   "outputs": [],
   "source": [
    "df_titanic = sns.load_dataset(\"titanic\")\n",
    "df_titanic.isnull().sum()"
   ]
  },
  {
   "cell_type": "code",
   "execution_count": null,
   "id": "2488166d",
   "metadata": {},
   "outputs": [],
   "source": [
    "msno.matrix(df_titanic)\n",
    "plt.show()"
   ]
  },
  {
   "cell_type": "code",
   "execution_count": null,
   "id": "c2a2fa05",
   "metadata": {},
   "outputs": [],
   "source": [
    "msno.heatmap(df_titanic)\n",
    "plt.show()"
   ]
  }
 ],
 "metadata": {
  "kernelspec": {
   "display_name": "Python 3 (ipykernel)",
   "language": "python",
   "name": "python3"
  },
  "language_info": {
   "codemirror_mode": {
    "name": "ipython",
    "version": 3
   },
   "file_extension": ".py",
   "mimetype": "text/x-python",
   "name": "python",
   "nbconvert_exporter": "python",
   "pygments_lexer": "ipython3",
   "version": "3.11.4"
  }
 },
 "nbformat": 4,
 "nbformat_minor": 5
}
